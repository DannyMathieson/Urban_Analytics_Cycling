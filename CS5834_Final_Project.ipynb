{
  "cells": [
    {
      "cell_type": "markdown",
      "metadata": {
        "id": "Wsz5R8CjVUpj"
      },
      "source": [
        "# Mounting and Import Statements"
      ]
    },
    {
      "cell_type": "code",
      "execution_count": 2,
      "metadata": {
        "colab": {
          "base_uri": "https://localhost:8080/"
        },
        "id": "Vit7f4eNQ2vh",
        "outputId": "801f3ffe-bfba-4b87-e702-3c7df6bc9e3f"
      },
      "outputs": [
        {
          "output_type": "stream",
          "name": "stdout",
          "text": [
            "Collecting plotly_express\n",
            "  Downloading plotly_express-0.4.1-py2.py3-none-any.whl (2.9 kB)\n",
            "Requirement already satisfied: numpy>=1.11 in /usr/local/lib/python3.7/dist-packages (from plotly_express) (1.19.5)\n",
            "Requirement already satisfied: plotly>=4.1.0 in /usr/local/lib/python3.7/dist-packages (from plotly_express) (4.4.1)\n",
            "Requirement already satisfied: statsmodels>=0.9.0 in /usr/local/lib/python3.7/dist-packages (from plotly_express) (0.10.2)\n",
            "Requirement already satisfied: scipy>=0.18 in /usr/local/lib/python3.7/dist-packages (from plotly_express) (1.4.1)\n",
            "Requirement already satisfied: pandas>=0.20.0 in /usr/local/lib/python3.7/dist-packages (from plotly_express) (1.1.5)\n",
            "Requirement already satisfied: patsy>=0.5 in /usr/local/lib/python3.7/dist-packages (from plotly_express) (0.5.2)\n",
            "Requirement already satisfied: pytz>=2017.2 in /usr/local/lib/python3.7/dist-packages (from pandas>=0.20.0->plotly_express) (2018.9)\n",
            "Requirement already satisfied: python-dateutil>=2.7.3 in /usr/local/lib/python3.7/dist-packages (from pandas>=0.20.0->plotly_express) (2.8.2)\n",
            "Requirement already satisfied: six in /usr/local/lib/python3.7/dist-packages (from patsy>=0.5->plotly_express) (1.15.0)\n",
            "Requirement already satisfied: retrying>=1.3.3 in /usr/local/lib/python3.7/dist-packages (from plotly>=4.1.0->plotly_express) (1.3.3)\n",
            "Installing collected packages: plotly-express\n",
            "Successfully installed plotly-express-0.4.1\n"
          ]
        }
      ],
      "source": [
        "!pip install plotly_express"
      ]
    },
    {
      "cell_type": "code",
      "execution_count": 3,
      "metadata": {
        "id": "f8YH_stgstmo"
      },
      "outputs": [],
      "source": [
        "# Connect notebook to desired path\n",
        "# Change dir_path to the new location of this notebook\n",
        "import os\n",
        "import sys\n",
        "dir_path = '/content/gdrive/My Drive/Urban_Computing/Urban_Computing_Project_Fall_2021'\n",
        "sys.path.append(dir_path)"
      ]
    },
    {
      "cell_type": "code",
      "execution_count": 5,
      "metadata": {
        "colab": {
          "base_uri": "https://localhost:8080/"
        },
        "id": "v402EtDHrA-X",
        "outputId": "45923f9b-67a2-4d84-d5f2-02b6688215f4"
      },
      "outputs": [
        {
          "output_type": "stream",
          "name": "stdout",
          "text": [
            "Mounted at /content/gdrive/\n"
          ]
        }
      ],
      "source": [
        "# Mount Google Drive\n",
        "from google.colab import drive\n",
        "drive.mount('/content/gdrive/', force_remount=True)"
      ]
    },
    {
      "cell_type": "code",
      "execution_count": 6,
      "metadata": {
        "id": "Q0TA9tnvs-cb"
      },
      "outputs": [],
      "source": [
        "import os, sys\n",
        "import time\n",
        "import calendar\n",
        "import math\n",
        "import pandas as pd\n",
        "import numpy as np\n",
        "import matplotlib.pyplot as plt\n",
        "import seaborn as sns\n",
        "import networkx as nx\n",
        "import matplotlib.pyplot as plt\n",
        "import plotly_express as px\n",
        "\n",
        "from sklearn import preprocessing, model_selection, neighbors, tree, ensemble, metrics, preprocessing, neural_network\n"
      ]
    },
    {
      "cell_type": "markdown",
      "metadata": {
        "id": "BYdYgvwfVisx"
      },
      "source": [
        "# Data Preprocessing\n",
        "Basic preprocessing for data exploration"
      ]
    },
    {
      "cell_type": "code",
      "execution_count": 8,
      "metadata": {
        "id": "jpP7vt4-VOAN"
      },
      "outputs": [],
      "source": [
        "# Import Data and drop unnecessary columns\n",
        "df = pd.read_csv('/content/gdrive/My Drive/Urban_Computing/Urban_Computing_Project_Fall_2021/NCDOT_BikePedCrash (2).csv', low_memory=False)\n",
        "data = df.drop([ 'CrashID', 'NumPedsAin',\t'NumPedsKil', 'NumPedsBin',\t\n",
        "                'NumPedsCin','NumPedsNoi',\t'NumPedsUin',\t'NumPedsTot', 'NumUnits', 'OBJECTID'], axis=1)"
      ]
    },
    {
      "cell_type": "code",
      "execution_count": 9,
      "metadata": {
        "id": "9dAdEctL2MbT"
      },
      "outputs": [],
      "source": [
        "data['NumLanes'] = data['NumLanes'].str[:1]\n",
        "data['NumLanes'] = pd.to_numeric(data['NumLanes'], errors='coerce')\n",
        "data['PedAge'].replace(\"999\", \"Unknown\", inplace=True)\n",
        "data['DrvrAge'].replace(\"999\", \"Unknown\", inplace=True)\n",
        "data['SpeedLimit'] = data['SpeedLimit'].str[5:7]\n",
        "data['SpeedLimit'] = pd.to_numeric(data['SpeedLimit'], errors='coerce')\n",
        "data['SpeedLimit'].replace(5.0, 15.0, inplace=True)\n",
        "data['PedAge'] = pd.to_numeric(data['PedAge'], errors='coerce')\n",
        "data['DrvrAge'] = pd.to_numeric(data['DrvrAge'], errors='coerce')\n",
        "data.replace(\"Unknown\", np.nan, inplace=True)\n",
        "data.replace(\"Unknown Injury\", np.nan, inplace=True)\n",
        "data.replace(\"Unknown/Missing\", np.nan, inplace=True)\n",
        "data.replace(\".\", np.nan, inplace=True)\n",
        "data['Class'] = ((data['CrashSevr'] == 'A: Suspected Serious Injury') | (data['CrashSevr'] == 'K: Killed'))\n",
        "data['Class']= data['Class'].replace (True, \"KSI\")\n",
        "data['Class']= data['Class'].replace (False, \"Minor Collision\");\n",
        "data['Class'] = pd.Categorical(data['Class'] , ['KSI','Minor Collision'])\n"
      ]
    },
    {
      "cell_type": "code",
      "execution_count": 10,
      "metadata": {
        "colab": {
          "base_uri": "https://localhost:8080/",
          "height": 1000
        },
        "id": "Vg4bGRifOcbZ",
        "outputId": "3d1bdf3b-cf7e-4d8b-dc60-c08ea3e6539b"
      },
      "outputs": [
        {
          "output_type": "execute_result",
          "data": {
            "text/html": [
              "<div>\n",
              "<style scoped>\n",
              "    .dataframe tbody tr th:only-of-type {\n",
              "        vertical-align: middle;\n",
              "    }\n",
              "\n",
              "    .dataframe tbody tr th {\n",
              "        vertical-align: top;\n",
              "    }\n",
              "\n",
              "    .dataframe thead th {\n",
              "        text-align: right;\n",
              "    }\n",
              "</style>\n",
              "<table border=\"1\" class=\"dataframe\">\n",
              "  <thead>\n",
              "    <tr style=\"text-align: right;\">\n",
              "      <th></th>\n",
              "      <th>null_count</th>\n",
              "      <th>% Missing</th>\n",
              "      <th>dtype</th>\n",
              "      <th>Unique Values</th>\n",
              "    </tr>\n",
              "  </thead>\n",
              "  <tbody>\n",
              "    <tr>\n",
              "      <th>X</th>\n",
              "      <td>0</td>\n",
              "      <td>0.000000</td>\n",
              "      <td>float64</td>\n",
              "      <td>36849</td>\n",
              "    </tr>\n",
              "    <tr>\n",
              "      <th>Y</th>\n",
              "      <td>0</td>\n",
              "      <td>0.000000</td>\n",
              "      <td>float64</td>\n",
              "      <td>36850</td>\n",
              "    </tr>\n",
              "    <tr>\n",
              "      <th>OBJECTID_1</th>\n",
              "      <td>0</td>\n",
              "      <td>0.000000</td>\n",
              "      <td>int64</td>\n",
              "      <td>36934</td>\n",
              "    </tr>\n",
              "    <tr>\n",
              "      <th>AmbulanceR</th>\n",
              "      <td>0</td>\n",
              "      <td>0.000000</td>\n",
              "      <td>object</td>\n",
              "      <td>2</td>\n",
              "    </tr>\n",
              "    <tr>\n",
              "      <th>City</th>\n",
              "      <td>0</td>\n",
              "      <td>0.000000</td>\n",
              "      <td>object</td>\n",
              "      <td>451</td>\n",
              "    </tr>\n",
              "    <tr>\n",
              "      <th>County</th>\n",
              "      <td>0</td>\n",
              "      <td>0.000000</td>\n",
              "      <td>object</td>\n",
              "      <td>100</td>\n",
              "    </tr>\n",
              "    <tr>\n",
              "      <th>CrashAlcoh</th>\n",
              "      <td>0</td>\n",
              "      <td>0.000000</td>\n",
              "      <td>object</td>\n",
              "      <td>2</td>\n",
              "    </tr>\n",
              "    <tr>\n",
              "      <th>CrashDay</th>\n",
              "      <td>1</td>\n",
              "      <td>0.000027</td>\n",
              "      <td>object</td>\n",
              "      <td>7</td>\n",
              "    </tr>\n",
              "    <tr>\n",
              "      <th>CrashGrp</th>\n",
              "      <td>0</td>\n",
              "      <td>0.000000</td>\n",
              "      <td>object</td>\n",
              "      <td>16</td>\n",
              "    </tr>\n",
              "    <tr>\n",
              "      <th>CrashHour</th>\n",
              "      <td>0</td>\n",
              "      <td>0.000000</td>\n",
              "      <td>int64</td>\n",
              "      <td>24</td>\n",
              "    </tr>\n",
              "    <tr>\n",
              "      <th>CrashLoc</th>\n",
              "      <td>52</td>\n",
              "      <td>0.001408</td>\n",
              "      <td>object</td>\n",
              "      <td>4</td>\n",
              "    </tr>\n",
              "    <tr>\n",
              "      <th>CrashMonth</th>\n",
              "      <td>0</td>\n",
              "      <td>0.000000</td>\n",
              "      <td>object</td>\n",
              "      <td>12</td>\n",
              "    </tr>\n",
              "    <tr>\n",
              "      <th>CrashSevr</th>\n",
              "      <td>379</td>\n",
              "      <td>0.010262</td>\n",
              "      <td>object</td>\n",
              "      <td>5</td>\n",
              "    </tr>\n",
              "    <tr>\n",
              "      <th>CrashType</th>\n",
              "      <td>0</td>\n",
              "      <td>0.000000</td>\n",
              "      <td>object</td>\n",
              "      <td>57</td>\n",
              "    </tr>\n",
              "    <tr>\n",
              "      <th>CrashYear</th>\n",
              "      <td>0</td>\n",
              "      <td>0.000000</td>\n",
              "      <td>int64</td>\n",
              "      <td>13</td>\n",
              "    </tr>\n",
              "    <tr>\n",
              "      <th>Developmen</th>\n",
              "      <td>0</td>\n",
              "      <td>0.000000</td>\n",
              "      <td>object</td>\n",
              "      <td>5</td>\n",
              "    </tr>\n",
              "    <tr>\n",
              "      <th>DrvrAge</th>\n",
              "      <td>7134</td>\n",
              "      <td>0.193155</td>\n",
              "      <td>float64</td>\n",
              "      <td>97</td>\n",
              "    </tr>\n",
              "    <tr>\n",
              "      <th>DrvrAgeGrp</th>\n",
              "      <td>6675</td>\n",
              "      <td>0.180728</td>\n",
              "      <td>object</td>\n",
              "      <td>8</td>\n",
              "    </tr>\n",
              "    <tr>\n",
              "      <th>DrvrAlcDrg</th>\n",
              "      <td>9465</td>\n",
              "      <td>0.256268</td>\n",
              "      <td>object</td>\n",
              "      <td>8</td>\n",
              "    </tr>\n",
              "    <tr>\n",
              "      <th>DrvrAlcFlg</th>\n",
              "      <td>2126</td>\n",
              "      <td>0.057562</td>\n",
              "      <td>object</td>\n",
              "      <td>3</td>\n",
              "    </tr>\n",
              "    <tr>\n",
              "      <th>DrvrInjury</th>\n",
              "      <td>7179</td>\n",
              "      <td>0.194374</td>\n",
              "      <td>object</td>\n",
              "      <td>5</td>\n",
              "    </tr>\n",
              "    <tr>\n",
              "      <th>DrvrRace</th>\n",
              "      <td>6601</td>\n",
              "      <td>0.178724</td>\n",
              "      <td>object</td>\n",
              "      <td>6</td>\n",
              "    </tr>\n",
              "    <tr>\n",
              "      <th>DrvrSex</th>\n",
              "      <td>6497</td>\n",
              "      <td>0.175908</td>\n",
              "      <td>object</td>\n",
              "      <td>2</td>\n",
              "    </tr>\n",
              "    <tr>\n",
              "      <th>DrvrVehTyp</th>\n",
              "      <td>3833</td>\n",
              "      <td>0.103780</td>\n",
              "      <td>object</td>\n",
              "      <td>29</td>\n",
              "    </tr>\n",
              "    <tr>\n",
              "      <th>HitRun</th>\n",
              "      <td>0</td>\n",
              "      <td>0.000000</td>\n",
              "      <td>object</td>\n",
              "      <td>2</td>\n",
              "    </tr>\n",
              "    <tr>\n",
              "      <th>Latitude</th>\n",
              "      <td>0</td>\n",
              "      <td>0.000000</td>\n",
              "      <td>float64</td>\n",
              "      <td>36067</td>\n",
              "    </tr>\n",
              "    <tr>\n",
              "      <th>LightCond</th>\n",
              "      <td>72</td>\n",
              "      <td>0.001949</td>\n",
              "      <td>object</td>\n",
              "      <td>7</td>\n",
              "    </tr>\n",
              "    <tr>\n",
              "      <th>Locality</th>\n",
              "      <td>0</td>\n",
              "      <td>0.000000</td>\n",
              "      <td>object</td>\n",
              "      <td>3</td>\n",
              "    </tr>\n",
              "    <tr>\n",
              "      <th>Longitude</th>\n",
              "      <td>0</td>\n",
              "      <td>0.000000</td>\n",
              "      <td>float64</td>\n",
              "      <td>35410</td>\n",
              "    </tr>\n",
              "    <tr>\n",
              "      <th>NumLanes</th>\n",
              "      <td>7197</td>\n",
              "      <td>0.194861</td>\n",
              "      <td>float64</td>\n",
              "      <td>9</td>\n",
              "    </tr>\n",
              "    <tr>\n",
              "      <th>PedAge</th>\n",
              "      <td>657</td>\n",
              "      <td>0.017788</td>\n",
              "      <td>float64</td>\n",
              "      <td>100</td>\n",
              "    </tr>\n",
              "    <tr>\n",
              "      <th>PedAgeGrp</th>\n",
              "      <td>280</td>\n",
              "      <td>0.007581</td>\n",
              "      <td>object</td>\n",
              "      <td>19</td>\n",
              "    </tr>\n",
              "    <tr>\n",
              "      <th>PedAlcDrg</th>\n",
              "      <td>9190</td>\n",
              "      <td>0.248822</td>\n",
              "      <td>object</td>\n",
              "      <td>8</td>\n",
              "    </tr>\n",
              "    <tr>\n",
              "      <th>PedAlcFlag</th>\n",
              "      <td>1851</td>\n",
              "      <td>0.050116</td>\n",
              "      <td>object</td>\n",
              "      <td>3</td>\n",
              "    </tr>\n",
              "    <tr>\n",
              "      <th>PedInjury</th>\n",
              "      <td>1452</td>\n",
              "      <td>0.039313</td>\n",
              "      <td>object</td>\n",
              "      <td>5</td>\n",
              "    </tr>\n",
              "    <tr>\n",
              "      <th>PedPos</th>\n",
              "      <td>0</td>\n",
              "      <td>0.000000</td>\n",
              "      <td>object</td>\n",
              "      <td>9</td>\n",
              "    </tr>\n",
              "    <tr>\n",
              "      <th>PedRace</th>\n",
              "      <td>1130</td>\n",
              "      <td>0.030595</td>\n",
              "      <td>object</td>\n",
              "      <td>6</td>\n",
              "    </tr>\n",
              "    <tr>\n",
              "      <th>PedSex</th>\n",
              "      <td>797</td>\n",
              "      <td>0.021579</td>\n",
              "      <td>object</td>\n",
              "      <td>2</td>\n",
              "    </tr>\n",
              "    <tr>\n",
              "      <th>RdCharacte</th>\n",
              "      <td>83</td>\n",
              "      <td>0.002247</td>\n",
              "      <td>object</td>\n",
              "      <td>10</td>\n",
              "    </tr>\n",
              "    <tr>\n",
              "      <th>RdClass</th>\n",
              "      <td>0</td>\n",
              "      <td>0.000000</td>\n",
              "      <td>object</td>\n",
              "      <td>7</td>\n",
              "    </tr>\n",
              "    <tr>\n",
              "      <th>RdConditio</th>\n",
              "      <td>170</td>\n",
              "      <td>0.004603</td>\n",
              "      <td>object</td>\n",
              "      <td>8</td>\n",
              "    </tr>\n",
              "    <tr>\n",
              "      <th>RdConfig</th>\n",
              "      <td>1140</td>\n",
              "      <td>0.030866</td>\n",
              "      <td>object</td>\n",
              "      <td>4</td>\n",
              "    </tr>\n",
              "    <tr>\n",
              "      <th>RdDefects</th>\n",
              "      <td>211</td>\n",
              "      <td>0.005713</td>\n",
              "      <td>object</td>\n",
              "      <td>13</td>\n",
              "    </tr>\n",
              "    <tr>\n",
              "      <th>RdFeature</th>\n",
              "      <td>0</td>\n",
              "      <td>0.000000</td>\n",
              "      <td>object</td>\n",
              "      <td>21</td>\n",
              "    </tr>\n",
              "    <tr>\n",
              "      <th>RdSurface</th>\n",
              "      <td>68</td>\n",
              "      <td>0.001841</td>\n",
              "      <td>object</td>\n",
              "      <td>9</td>\n",
              "    </tr>\n",
              "    <tr>\n",
              "      <th>Region</th>\n",
              "      <td>0</td>\n",
              "      <td>0.000000</td>\n",
              "      <td>object</td>\n",
              "      <td>3</td>\n",
              "    </tr>\n",
              "    <tr>\n",
              "      <th>RuralUrban</th>\n",
              "      <td>0</td>\n",
              "      <td>0.000000</td>\n",
              "      <td>object</td>\n",
              "      <td>2</td>\n",
              "    </tr>\n",
              "    <tr>\n",
              "      <th>SpeedLimit</th>\n",
              "      <td>3935</td>\n",
              "      <td>0.106541</td>\n",
              "      <td>float64</td>\n",
              "      <td>6</td>\n",
              "    </tr>\n",
              "    <tr>\n",
              "      <th>TraffCntrl</th>\n",
              "      <td>0</td>\n",
              "      <td>0.000000</td>\n",
              "      <td>object</td>\n",
              "      <td>15</td>\n",
              "    </tr>\n",
              "    <tr>\n",
              "      <th>Weather</th>\n",
              "      <td>0</td>\n",
              "      <td>0.000000</td>\n",
              "      <td>object</td>\n",
              "      <td>6</td>\n",
              "    </tr>\n",
              "    <tr>\n",
              "      <th>Workzone</th>\n",
              "      <td>0</td>\n",
              "      <td>0.000000</td>\n",
              "      <td>object</td>\n",
              "      <td>3</td>\n",
              "    </tr>\n",
              "    <tr>\n",
              "      <th>Class</th>\n",
              "      <td>0</td>\n",
              "      <td>0.000000</td>\n",
              "      <td>category</td>\n",
              "      <td>2</td>\n",
              "    </tr>\n",
              "  </tbody>\n",
              "</table>\n",
              "</div>"
            ],
            "text/plain": [
              "            null_count  % Missing     dtype  Unique Values\n",
              "X                    0   0.000000   float64          36849\n",
              "Y                    0   0.000000   float64          36850\n",
              "OBJECTID_1           0   0.000000     int64          36934\n",
              "AmbulanceR           0   0.000000    object              2\n",
              "City                 0   0.000000    object            451\n",
              "County               0   0.000000    object            100\n",
              "CrashAlcoh           0   0.000000    object              2\n",
              "CrashDay             1   0.000027    object              7\n",
              "CrashGrp             0   0.000000    object             16\n",
              "CrashHour            0   0.000000     int64             24\n",
              "CrashLoc            52   0.001408    object              4\n",
              "CrashMonth           0   0.000000    object             12\n",
              "CrashSevr          379   0.010262    object              5\n",
              "CrashType            0   0.000000    object             57\n",
              "CrashYear            0   0.000000     int64             13\n",
              "Developmen           0   0.000000    object              5\n",
              "DrvrAge           7134   0.193155   float64             97\n",
              "DrvrAgeGrp        6675   0.180728    object              8\n",
              "DrvrAlcDrg        9465   0.256268    object              8\n",
              "DrvrAlcFlg        2126   0.057562    object              3\n",
              "DrvrInjury        7179   0.194374    object              5\n",
              "DrvrRace          6601   0.178724    object              6\n",
              "DrvrSex           6497   0.175908    object              2\n",
              "DrvrVehTyp        3833   0.103780    object             29\n",
              "HitRun               0   0.000000    object              2\n",
              "Latitude             0   0.000000   float64          36067\n",
              "LightCond           72   0.001949    object              7\n",
              "Locality             0   0.000000    object              3\n",
              "Longitude            0   0.000000   float64          35410\n",
              "NumLanes          7197   0.194861   float64              9\n",
              "PedAge             657   0.017788   float64            100\n",
              "PedAgeGrp          280   0.007581    object             19\n",
              "PedAlcDrg         9190   0.248822    object              8\n",
              "PedAlcFlag        1851   0.050116    object              3\n",
              "PedInjury         1452   0.039313    object              5\n",
              "PedPos               0   0.000000    object              9\n",
              "PedRace           1130   0.030595    object              6\n",
              "PedSex             797   0.021579    object              2\n",
              "RdCharacte          83   0.002247    object             10\n",
              "RdClass              0   0.000000    object              7\n",
              "RdConditio         170   0.004603    object              8\n",
              "RdConfig          1140   0.030866    object              4\n",
              "RdDefects          211   0.005713    object             13\n",
              "RdFeature            0   0.000000    object             21\n",
              "RdSurface           68   0.001841    object              9\n",
              "Region               0   0.000000    object              3\n",
              "RuralUrban           0   0.000000    object              2\n",
              "SpeedLimit        3935   0.106541   float64              6\n",
              "TraffCntrl           0   0.000000    object             15\n",
              "Weather              0   0.000000    object              6\n",
              "Workzone             0   0.000000    object              3\n",
              "Class                0   0.000000  category              2"
            ]
          },
          "metadata": {},
          "execution_count": 10
        }
      ],
      "source": [
        "# View the counts of null values and the datatype of each feature\n",
        "pd.set_option(\"display.max_rows\", 100)\n",
        "null_values = pd.DataFrame((data.isnull().sum()), columns = ['null_count'])\n",
        "null_values['% Missing'] = null_values['null_count']/ data.shape[0]\n",
        "null_values['dtype'] = data.dtypes\n",
        "null_values['Unique Values'] = data.nunique()\n",
        "null_values"
      ]
    },
    {
      "cell_type": "code",
      "execution_count": 11,
      "metadata": {
        "id": "EdQTFsRvPmR_"
      },
      "outputs": [],
      "source": [
        "data = data.dropna(subset=[\"CrashLoc\"])\n",
        "data = data.dropna(subset=[\"CrashDay\"])\n",
        "data = data.dropna(subset=[\"LightCond\"])"
      ]
    },
    {
      "cell_type": "code",
      "execution_count": 12,
      "metadata": {
        "colab": {
          "base_uri": "https://localhost:8080/",
          "height": 487
        },
        "id": "p66jMG89ZSx_",
        "outputId": "8cc2c3bc-e995-4320-e8a7-cecef2557159"
      },
      "outputs": [
        {
          "output_type": "execute_result",
          "data": {
            "text/html": [
              "<div>\n",
              "<style scoped>\n",
              "    .dataframe tbody tr th:only-of-type {\n",
              "        vertical-align: middle;\n",
              "    }\n",
              "\n",
              "    .dataframe tbody tr th {\n",
              "        vertical-align: top;\n",
              "    }\n",
              "\n",
              "    .dataframe thead th {\n",
              "        text-align: right;\n",
              "    }\n",
              "</style>\n",
              "<table border=\"1\" class=\"dataframe\">\n",
              "  <thead>\n",
              "    <tr style=\"text-align: right;\">\n",
              "      <th></th>\n",
              "      <th>X</th>\n",
              "      <th>Y</th>\n",
              "      <th>OBJECTID_1</th>\n",
              "      <th>AmbulanceR</th>\n",
              "      <th>City</th>\n",
              "      <th>County</th>\n",
              "      <th>CrashAlcoh</th>\n",
              "      <th>CrashDay</th>\n",
              "      <th>CrashGrp</th>\n",
              "      <th>CrashHour</th>\n",
              "      <th>CrashLoc</th>\n",
              "      <th>CrashMonth</th>\n",
              "      <th>CrashSevr</th>\n",
              "      <th>CrashType</th>\n",
              "      <th>CrashYear</th>\n",
              "      <th>Developmen</th>\n",
              "      <th>DrvrAge</th>\n",
              "      <th>DrvrAgeGrp</th>\n",
              "      <th>DrvrAlcDrg</th>\n",
              "      <th>DrvrAlcFlg</th>\n",
              "      <th>DrvrInjury</th>\n",
              "      <th>DrvrRace</th>\n",
              "      <th>DrvrSex</th>\n",
              "      <th>DrvrVehTyp</th>\n",
              "      <th>HitRun</th>\n",
              "      <th>Latitude</th>\n",
              "      <th>LightCond</th>\n",
              "      <th>Locality</th>\n",
              "      <th>Longitude</th>\n",
              "      <th>NumLanes</th>\n",
              "      <th>PedAge</th>\n",
              "      <th>PedAgeGrp</th>\n",
              "      <th>PedAlcDrg</th>\n",
              "      <th>PedAlcFlag</th>\n",
              "      <th>PedInjury</th>\n",
              "      <th>PedPos</th>\n",
              "      <th>PedRace</th>\n",
              "      <th>PedSex</th>\n",
              "      <th>RdCharacte</th>\n",
              "      <th>RdClass</th>\n",
              "      <th>RdConditio</th>\n",
              "      <th>RdConfig</th>\n",
              "      <th>RdDefects</th>\n",
              "      <th>RdFeature</th>\n",
              "      <th>RdSurface</th>\n",
              "      <th>Region</th>\n",
              "      <th>RuralUrban</th>\n",
              "      <th>SpeedLimit</th>\n",
              "      <th>TraffCntrl</th>\n",
              "      <th>Weather</th>\n",
              "      <th>Workzone</th>\n",
              "      <th>Class</th>\n",
              "    </tr>\n",
              "  </thead>\n",
              "  <tbody>\n",
              "    <tr>\n",
              "      <th>68</th>\n",
              "      <td>-79.0605</td>\n",
              "      <td>35.91948</td>\n",
              "      <td>69</td>\n",
              "      <td>No</td>\n",
              "      <td>Chapel Hill</td>\n",
              "      <td>Orange</td>\n",
              "      <td>No</td>\n",
              "      <td>Saturday</td>\n",
              "      <td>Backing Vehicle</td>\n",
              "      <td>18</td>\n",
              "      <td>Non-Intersection</td>\n",
              "      <td>January</td>\n",
              "      <td>C: Possible Injury</td>\n",
              "      <td>Backing Vehicle - Roadway</td>\n",
              "      <td>2007</td>\n",
              "      <td>Farms, Woods, Pastures</td>\n",
              "      <td>30.0</td>\n",
              "      <td>30-39</td>\n",
              "      <td>NaN</td>\n",
              "      <td>No</td>\n",
              "      <td>O: No Injury</td>\n",
              "      <td>White</td>\n",
              "      <td>Female</td>\n",
              "      <td>Passenger Car</td>\n",
              "      <td>No</td>\n",
              "      <td>35.91948</td>\n",
              "      <td>Dark - Roadway Not Lighted</td>\n",
              "      <td>Urban (&gt;70% Developed)</td>\n",
              "      <td>-79.0605</td>\n",
              "      <td>2.0</td>\n",
              "      <td>NaN</td>\n",
              "      <td>NaN</td>\n",
              "      <td>NaN</td>\n",
              "      <td>No</td>\n",
              "      <td>C: Possible Injury</td>\n",
              "      <td>Travel Lane</td>\n",
              "      <td>Black</td>\n",
              "      <td>Female</td>\n",
              "      <td>Straight - Grade</td>\n",
              "      <td>Local Street</td>\n",
              "      <td>Dry</td>\n",
              "      <td>Two-Way, Not Divided</td>\n",
              "      <td>None</td>\n",
              "      <td>Driveway, Private</td>\n",
              "      <td>Coarse Asphalt</td>\n",
              "      <td>Piedmont</td>\n",
              "      <td>Urban</td>\n",
              "      <td>35.0</td>\n",
              "      <td>No Control Present</td>\n",
              "      <td>Clear</td>\n",
              "      <td>No</td>\n",
              "      <td>Minor Collision</td>\n",
              "    </tr>\n",
              "    <tr>\n",
              "      <th>165</th>\n",
              "      <td>-79.0286</td>\n",
              "      <td>35.92906</td>\n",
              "      <td>166</td>\n",
              "      <td>Yes</td>\n",
              "      <td>Chapel Hill</td>\n",
              "      <td>Orange</td>\n",
              "      <td>No</td>\n",
              "      <td>Friday</td>\n",
              "      <td>Backing Vehicle</td>\n",
              "      <td>12</td>\n",
              "      <td>Non-Roadway</td>\n",
              "      <td>January</td>\n",
              "      <td>C: Possible Injury</td>\n",
              "      <td>Backing Vehicle - Parking Lot</td>\n",
              "      <td>2007</td>\n",
              "      <td>Commercial</td>\n",
              "      <td>NaN</td>\n",
              "      <td>70+</td>\n",
              "      <td>NaN</td>\n",
              "      <td>No</td>\n",
              "      <td>O: No Injury</td>\n",
              "      <td>White</td>\n",
              "      <td>Male</td>\n",
              "      <td>Passenger Car</td>\n",
              "      <td>No</td>\n",
              "      <td>35.92906</td>\n",
              "      <td>Daylight</td>\n",
              "      <td>Urban (&gt;70% Developed)</td>\n",
              "      <td>-79.0286</td>\n",
              "      <td>NaN</td>\n",
              "      <td>22.0</td>\n",
              "      <td>21-25</td>\n",
              "      <td>NaN</td>\n",
              "      <td>No</td>\n",
              "      <td>C: Possible Injury</td>\n",
              "      <td>Non-Roadway - Parking Lot / Other</td>\n",
              "      <td>White</td>\n",
              "      <td>Male</td>\n",
              "      <td>Straight - Level</td>\n",
              "      <td>Public Vehicular Area</td>\n",
              "      <td>Dry</td>\n",
              "      <td>Two-Way, Not Divided</td>\n",
              "      <td>None</td>\n",
              "      <td>Driveway, Public</td>\n",
              "      <td>Smooth Asphalt</td>\n",
              "      <td>Piedmont</td>\n",
              "      <td>Urban</td>\n",
              "      <td>25.0</td>\n",
              "      <td>No Control Present</td>\n",
              "      <td>Clear</td>\n",
              "      <td>No</td>\n",
              "      <td>Minor Collision</td>\n",
              "    </tr>\n",
              "    <tr>\n",
              "      <th>170</th>\n",
              "      <td>-79.0692</td>\n",
              "      <td>35.88617</td>\n",
              "      <td>171</td>\n",
              "      <td>No</td>\n",
              "      <td>Chapel Hill</td>\n",
              "      <td>Orange</td>\n",
              "      <td>No</td>\n",
              "      <td>Sunday</td>\n",
              "      <td>Crossing Roadway - Vehicle Turning</td>\n",
              "      <td>15</td>\n",
              "      <td>Intersection</td>\n",
              "      <td>January</td>\n",
              "      <td>C: Possible Injury</td>\n",
              "      <td>Motorist Left Turn - Parallel Paths</td>\n",
              "      <td>2007</td>\n",
              "      <td>Residential</td>\n",
              "      <td>NaN</td>\n",
              "      <td>NaN</td>\n",
              "      <td>NaN</td>\n",
              "      <td>No</td>\n",
              "      <td>NaN</td>\n",
              "      <td>NaN</td>\n",
              "      <td>NaN</td>\n",
              "      <td>Van</td>\n",
              "      <td>Yes</td>\n",
              "      <td>35.88617</td>\n",
              "      <td>Daylight</td>\n",
              "      <td>Urban (&gt;70% Developed)</td>\n",
              "      <td>-79.0692</td>\n",
              "      <td>2.0</td>\n",
              "      <td>13.0</td>\n",
              "      <td>11-15</td>\n",
              "      <td>NaN</td>\n",
              "      <td>No</td>\n",
              "      <td>C: Possible Injury</td>\n",
              "      <td>Crosswalk Area</td>\n",
              "      <td>White</td>\n",
              "      <td>Male</td>\n",
              "      <td>Straight - Grade</td>\n",
              "      <td>Local Street</td>\n",
              "      <td>Dry</td>\n",
              "      <td>Two-Way, Not Divided</td>\n",
              "      <td>None</td>\n",
              "      <td>Four-Way Intersection</td>\n",
              "      <td>Smooth Asphalt</td>\n",
              "      <td>Piedmont</td>\n",
              "      <td>Urban</td>\n",
              "      <td>25.0</td>\n",
              "      <td>Stop Sign</td>\n",
              "      <td>Clear</td>\n",
              "      <td>No</td>\n",
              "      <td>Minor Collision</td>\n",
              "    </tr>\n",
              "    <tr>\n",
              "      <th>237</th>\n",
              "      <td>-79.0498</td>\n",
              "      <td>35.91652</td>\n",
              "      <td>238</td>\n",
              "      <td>Yes</td>\n",
              "      <td>Chapel Hill</td>\n",
              "      <td>Orange</td>\n",
              "      <td>No</td>\n",
              "      <td>Thursday</td>\n",
              "      <td>Crossing Roadway - Vehicle Turning</td>\n",
              "      <td>12</td>\n",
              "      <td>Intersection</td>\n",
              "      <td>February</td>\n",
              "      <td>C: Possible Injury</td>\n",
              "      <td>Motorist Right Turn on Red - Perpendicular Paths</td>\n",
              "      <td>2007</td>\n",
              "      <td>Residential</td>\n",
              "      <td>29.0</td>\n",
              "      <td>25-29</td>\n",
              "      <td>NaN</td>\n",
              "      <td>No</td>\n",
              "      <td>O: No Injury</td>\n",
              "      <td>Black</td>\n",
              "      <td>Female</td>\n",
              "      <td>Passenger Car</td>\n",
              "      <td>No</td>\n",
              "      <td>35.91652</td>\n",
              "      <td>Daylight</td>\n",
              "      <td>Urban (&gt;70% Developed)</td>\n",
              "      <td>-79.0498</td>\n",
              "      <td>2.0</td>\n",
              "      <td>19.0</td>\n",
              "      <td>16-20</td>\n",
              "      <td>NaN</td>\n",
              "      <td>No</td>\n",
              "      <td>C: Possible Injury</td>\n",
              "      <td>Crosswalk Area</td>\n",
              "      <td>Asian</td>\n",
              "      <td>Female</td>\n",
              "      <td>Straight - Level</td>\n",
              "      <td>Local Street</td>\n",
              "      <td>Dry</td>\n",
              "      <td>Two-Way, Not Divided</td>\n",
              "      <td>None</td>\n",
              "      <td>Four-Way Intersection</td>\n",
              "      <td>Smooth Asphalt</td>\n",
              "      <td>Piedmont</td>\n",
              "      <td>Urban</td>\n",
              "      <td>25.0</td>\n",
              "      <td>Stop And Go Signal</td>\n",
              "      <td>Clear</td>\n",
              "      <td>No</td>\n",
              "      <td>Minor Collision</td>\n",
              "    </tr>\n",
              "    <tr>\n",
              "      <th>264</th>\n",
              "      <td>-79.0556</td>\n",
              "      <td>35.93511</td>\n",
              "      <td>265</td>\n",
              "      <td>No</td>\n",
              "      <td>Chapel Hill</td>\n",
              "      <td>Orange</td>\n",
              "      <td>No</td>\n",
              "      <td>Tuesday</td>\n",
              "      <td>Other / Unknown - Insufficient Details</td>\n",
              "      <td>9</td>\n",
              "      <td>Non-Intersection</td>\n",
              "      <td>February</td>\n",
              "      <td>C: Possible Injury</td>\n",
              "      <td>Non-Intersection - Other / Unknown</td>\n",
              "      <td>2007</td>\n",
              "      <td>Residential</td>\n",
              "      <td>NaN</td>\n",
              "      <td>NaN</td>\n",
              "      <td>NaN</td>\n",
              "      <td>Missing</td>\n",
              "      <td>NaN</td>\n",
              "      <td>NaN</td>\n",
              "      <td>NaN</td>\n",
              "      <td>NaN</td>\n",
              "      <td>Yes</td>\n",
              "      <td>35.93511</td>\n",
              "      <td>Daylight</td>\n",
              "      <td>Urban (&gt;70% Developed)</td>\n",
              "      <td>-79.0556</td>\n",
              "      <td>2.0</td>\n",
              "      <td>NaN</td>\n",
              "      <td>NaN</td>\n",
              "      <td>NaN</td>\n",
              "      <td>No</td>\n",
              "      <td>C: Possible Injury</td>\n",
              "      <td>Other / Unknown</td>\n",
              "      <td>Black</td>\n",
              "      <td>Male</td>\n",
              "      <td>Straight - Level</td>\n",
              "      <td>Local Street</td>\n",
              "      <td>Wet</td>\n",
              "      <td>Two-Way, Not Divided</td>\n",
              "      <td>None</td>\n",
              "      <td>No Special Feature</td>\n",
              "      <td>Smooth Asphalt</td>\n",
              "      <td>Piedmont</td>\n",
              "      <td>Urban</td>\n",
              "      <td>35.0</td>\n",
              "      <td>No Control Present</td>\n",
              "      <td>Rain</td>\n",
              "      <td>No</td>\n",
              "      <td>Minor Collision</td>\n",
              "    </tr>\n",
              "  </tbody>\n",
              "</table>\n",
              "</div>"
            ],
            "text/plain": [
              "           X         Y  OBJECTID_1  ... Weather Workzone            Class\n",
              "68  -79.0605  35.91948          69  ...   Clear       No  Minor Collision\n",
              "165 -79.0286  35.92906         166  ...   Clear       No  Minor Collision\n",
              "170 -79.0692  35.88617         171  ...   Clear       No  Minor Collision\n",
              "237 -79.0498  35.91652         238  ...   Clear       No  Minor Collision\n",
              "264 -79.0556  35.93511         265  ...    Rain       No  Minor Collision\n",
              "\n",
              "[5 rows x 52 columns]"
            ]
          },
          "metadata": {},
          "execution_count": 12
        }
      ],
      "source": [
        "#Isolate Data for State and Chapel Hill\n",
        "state_data = data\n",
        "ch_data = data[(data.City == \"Chapel Hill\")]\n",
        "ch_data.head()"
      ]
    },
    {
      "cell_type": "code",
      "execution_count": 13,
      "metadata": {
        "id": "RvDtinVlIiC_"
      },
      "outputs": [],
      "source": [
        "ch_data = ch_data.dropna(subset=[\"CrashSevr\"])"
      ]
    },
    {
      "cell_type": "markdown",
      "metadata": {
        "id": "ph8K2fFz4kAL"
      },
      "source": [
        "# Data Exploration"
      ]
    },
    {
      "cell_type": "code",
      "execution_count": 14,
      "metadata": {
        "colab": {
          "base_uri": "https://localhost:8080/",
          "height": 542
        },
        "id": "S-y5e_Pmd56Q",
        "outputId": "aa467b24-3729-400b-dfc9-19f6e15429e2"
      },
      "outputs": [
        {
          "output_type": "display_data",
          "data": {
            "text/html": [
              "<html>\n",
              "<head><meta charset=\"utf-8\" /></head>\n",
              "<body>\n",
              "    <div>\n",
              "            <script src=\"https://cdnjs.cloudflare.com/ajax/libs/mathjax/2.7.5/MathJax.js?config=TeX-AMS-MML_SVG\"></script><script type=\"text/javascript\">if (window.MathJax) {MathJax.Hub.Config({SVG: {font: \"STIX-Web\"}});}</script>\n",
              "                <script type=\"text/javascript\">window.PlotlyConfig = {MathJaxConfig: 'local'};</script>\n",
              "        <script src=\"https://cdn.plot.ly/plotly-latest.min.js\"></script>    \n",
              "            <div id=\"81474414-f8d7-4a8d-b6cb-299f29670abd\" class=\"plotly-graph-div\" style=\"height:525px; width:100%;\"></div>\n",
              "            <script type=\"text/javascript\">\n",
              "                \n",
              "                    window.PLOTLYENV=window.PLOTLYENV || {};\n",
              "                    \n",
              "                if (document.getElementById(\"81474414-f8d7-4a8d-b6cb-299f29670abd\")) {\n",
              "                    Plotly.newPlot(\n",
              "                        '81474414-f8d7-4a8d-b6cb-299f29670abd',\n",
              "                        [{\"customdata\": [[\"C: Possible Injury\"], [\"C: Possible Injury\"], [\"C: Possible Injury\"], [\"C: Possible Injury\"], [\"C: Possible Injury\"], [\"C: Possible Injury\"], [\"B: Suspected Minor Injury\"], [\"C: Possible Injury\"], [\"C: Possible Injury\"], [\"C: Possible Injury\"], [\"O: No Injury\"], [\"B: Suspected Minor Injury\"], [\"B: Suspected Minor Injury\"], [\"B: Suspected Minor Injury\"], [\"B: Suspected Minor Injury\"], [\"B: Suspected Minor Injury\"], [\"B: Suspected Minor Injury\"], [\"C: Possible Injury\"], [\"O: No Injury\"], [\"O: No Injury\"], [\"C: Possible Injury\"], [\"B: Suspected Minor Injury\"], [\"O: No Injury\"], [\"B: Suspected Minor Injury\"], [\"B: Suspected Minor Injury\"], [\"B: Suspected Minor Injury\"], [\"B: Suspected Minor Injury\"], [\"C: Possible Injury\"], [\"C: Possible Injury\"], [\"C: Possible Injury\"], [\"C: Possible Injury\"], [\"C: Possible Injury\"], [\"B: Suspected Minor Injury\"], [\"C: Possible Injury\"], [\"B: Suspected Minor Injury\"], [\"B: Suspected Minor Injury\"], [\"B: Suspected Minor Injury\"], [\"O: No Injury\"], [\"C: Possible Injury\"], [\"B: Suspected Minor Injury\"], [\"C: Possible Injury\"], [\"B: Suspected Minor Injury\"], [\"C: Possible Injury\"], [\"B: Suspected Minor Injury\"], [\"B: Suspected Minor Injury\"], [\"B: Suspected Minor Injury\"], [\"B: Suspected Minor Injury\"], [\"O: No Injury\"], [\"B: Suspected Minor Injury\"], [\"C: Possible Injury\"], [\"C: Possible Injury\"], [\"B: Suspected Minor Injury\"], [\"O: No Injury\"], [\"C: Possible Injury\"], [\"B: Suspected Minor Injury\"], [\"C: Possible Injury\"], [\"C: Possible Injury\"], [\"C: Possible Injury\"], [\"C: Possible Injury\"], [\"B: Suspected Minor Injury\"], [\"C: Possible Injury\"], [\"B: Suspected Minor Injury\"], [\"B: Suspected Minor Injury\"], [\"C: Possible Injury\"], [\"B: Suspected Minor Injury\"], [\"B: Suspected Minor Injury\"], [\"B: Suspected Minor Injury\"], [\"B: Suspected Minor Injury\"], [\"B: Suspected Minor Injury\"], [\"B: Suspected Minor Injury\"], [\"C: Possible Injury\"], [\"O: No Injury\"], [\"B: Suspected Minor Injury\"], [\"C: Possible Injury\"], [\"C: Possible Injury\"], [\"C: Possible Injury\"], [\"B: Suspected Minor Injury\"], [\"C: Possible Injury\"], [\"C: Possible Injury\"], [\"C: Possible Injury\"], [\"C: Possible Injury\"], [\"B: Suspected Minor Injury\"], [\"C: Possible Injury\"], [\"C: Possible Injury\"], [\"C: Possible Injury\"], [\"C: Possible Injury\"], [\"B: Suspected Minor Injury\"], [\"B: Suspected Minor Injury\"], [\"O: No Injury\"], [\"C: Possible Injury\"], [\"B: Suspected Minor Injury\"], [\"B: Suspected Minor Injury\"], [\"B: Suspected Minor Injury\"], [\"B: Suspected Minor Injury\"], [\"C: Possible Injury\"], [\"B: Suspected Minor Injury\"], [\"C: Possible Injury\"], [\"B: Suspected Minor Injury\"], [\"B: Suspected Minor Injury\"], [\"B: Suspected Minor Injury\"], [\"C: Possible Injury\"], [\"B: Suspected Minor Injury\"], [\"B: Suspected Minor Injury\"], [\"C: Possible Injury\"], [\"C: Possible Injury\"], [\"C: Possible Injury\"], [\"B: Suspected Minor Injury\"], [\"C: Possible Injury\"], [\"C: Possible Injury\"], [\"B: Suspected Minor Injury\"], [\"B: Suspected Minor Injury\"], [\"B: Suspected Minor Injury\"], [\"B: Suspected Minor Injury\"], [\"C: Possible Injury\"], [\"C: Possible Injury\"], [\"B: Suspected Minor Injury\"], [\"B: Suspected Minor Injury\"], [\"B: Suspected Minor Injury\"], [\"B: Suspected Minor Injury\"], [\"C: Possible Injury\"], [\"B: Suspected Minor Injury\"], [\"C: Possible Injury\"], [\"C: Possible Injury\"], [\"B: Suspected Minor Injury\"], [\"C: Possible Injury\"], [\"C: Possible Injury\"], [\"C: Possible Injury\"], [\"C: Possible Injury\"], [\"B: Suspected Minor Injury\"], [\"C: Possible Injury\"], [\"B: Suspected Minor Injury\"], [\"B: Suspected Minor Injury\"], [\"B: Suspected Minor Injury\"], [\"B: Suspected Minor Injury\"], [\"C: Possible Injury\"], [\"B: Suspected Minor Injury\"], [\"C: Possible Injury\"], [\"C: Possible Injury\"], [\"C: Possible Injury\"], [\"B: Suspected Minor Injury\"], [\"B: Suspected Minor Injury\"], [\"B: Suspected Minor Injury\"], [\"C: Possible Injury\"], [\"C: Possible Injury\"], [\"B: Suspected Minor Injury\"], [\"B: Suspected Minor Injury\"], [\"B: Suspected Minor Injury\"], [\"C: Possible Injury\"], [\"B: Suspected Minor Injury\"], [\"B: Suspected Minor Injury\"], [\"C: Possible Injury\"], [\"B: Suspected Minor Injury\"], [\"C: Possible Injury\"], [\"B: Suspected Minor Injury\"], [\"B: Suspected Minor Injury\"], [\"B: Suspected Minor Injury\"], [\"O: No Injury\"], [\"O: No Injury\"], [\"B: Suspected Minor Injury\"], [\"C: Possible Injury\"], [\"B: Suspected Minor Injury\"], [\"C: Possible Injury\"], [\"B: Suspected Minor Injury\"], [\"C: Possible Injury\"], [\"B: Suspected Minor Injury\"], [\"B: Suspected Minor Injury\"], [\"B: Suspected Minor Injury\"], [\"C: Possible Injury\"], [\"C: Possible Injury\"], [\"C: Possible Injury\"], [\"C: Possible Injury\"], [\"B: Suspected Minor Injury\"], [\"B: Suspected Minor Injury\"], [\"C: Possible Injury\"], [\"C: Possible Injury\"], [\"C: Possible Injury\"], [\"B: Suspected Minor Injury\"], [\"B: Suspected Minor Injury\"], [\"B: Suspected Minor Injury\"], [\"B: Suspected Minor Injury\"], [\"B: Suspected Minor Injury\"], [\"B: Suspected Minor Injury\"], [\"B: Suspected Minor Injury\"], [\"B: Suspected Minor Injury\"], [\"B: Suspected Minor Injury\"], [\"C: Possible Injury\"], [\"C: Possible Injury\"], [\"B: Suspected Minor Injury\"], [\"C: Possible Injury\"], [\"C: Possible Injury\"], [\"C: Possible Injury\"], [\"B: Suspected Minor Injury\"], [\"O: No Injury\"], [\"C: Possible Injury\"], [\"C: Possible Injury\"], [\"B: Suspected Minor Injury\"], [\"C: Possible Injury\"], [\"C: Possible Injury\"], [\"B: Suspected Minor Injury\"], [\"C: Possible Injury\"], [\"C: Possible Injury\"], [\"B: Suspected Minor Injury\"], [\"B: Suspected Minor Injury\"], [\"C: Possible Injury\"], [\"B: Suspected Minor Injury\"], [\"B: Suspected Minor Injury\"], [\"C: Possible Injury\"], [\"C: Possible Injury\"], [\"C: Possible Injury\"], [\"B: Suspected Minor Injury\"], [\"C: Possible Injury\"], [\"B: Suspected Minor Injury\"], [\"B: Suspected Minor Injury\"], [\"C: Possible Injury\"], [\"B: Suspected Minor Injury\"], [\"O: No Injury\"], [\"B: Suspected Minor Injury\"], [\"C: Possible Injury\"], [\"B: Suspected Minor Injury\"], [\"O: No Injury\"], [\"B: Suspected Minor Injury\"], [\"B: Suspected Minor Injury\"], [\"C: Possible Injury\"], [\"C: Possible Injury\"], [\"C: Possible Injury\"], [\"B: Suspected Minor Injury\"], [\"O: No Injury\"], [\"C: Possible Injury\"], [\"B: Suspected Minor Injury\"], [\"C: Possible Injury\"], [\"B: Suspected Minor Injury\"], [\"C: Possible Injury\"], [\"C: Possible Injury\"], [\"B: Suspected Minor Injury\"], [\"B: Suspected Minor Injury\"], [\"B: Suspected Minor Injury\"], [\"C: Possible Injury\"], [\"C: Possible Injury\"], [\"C: Possible Injury\"], [\"O: No Injury\"], [\"B: Suspected Minor Injury\"], [\"C: Possible Injury\"], [\"B: Suspected Minor Injury\"], [\"B: Suspected Minor Injury\"], [\"C: Possible Injury\"], [\"C: Possible Injury\"], [\"C: Possible Injury\"], [\"C: Possible Injury\"], [\"B: Suspected Minor Injury\"], [\"B: Suspected Minor Injury\"], [\"C: Possible Injury\"], [\"C: Possible Injury\"], [\"C: Possible Injury\"], [\"C: Possible Injury\"], [\"B: Suspected Minor Injury\"], [\"O: No Injury\"], [\"B: Suspected Minor Injury\"], [\"C: Possible Injury\"], [\"B: Suspected Minor Injury\"], [\"C: Possible Injury\"], [\"B: Suspected Minor Injury\"], [\"B: Suspected Minor Injury\"], [\"C: Possible Injury\"], [\"B: Suspected Minor Injury\"], [\"C: Possible Injury\"], [\"B: Suspected Minor Injury\"], [\"C: Possible Injury\"], [\"B: Suspected Minor Injury\"], [\"C: Possible Injury\"]], \"hoverlabel\": {\"namelength\": 0}, \"hovertemplate\": \"Class=Minor Collision<br>CrashSevr=%{customdata[0]}<br>Y=%{lat}<br>X=%{lon}\", \"lat\": [35.9194800004368, 35.929060000272706, 35.8861699999418, 35.9165200000133, 35.9351099999557, 35.9130600001824, 35.9487399997648, 35.9086300000833, 35.9251399998342, 35.9303300001923, 35.9036600000484, 35.9277700000694, 35.9107599998851, 35.9110299997181, 35.963890000314606, 35.90875999993371, 35.9114900001796, 35.9006499996961, 35.903639999991896, 35.903639999643005, 35.9141400000935, 35.9376099996164, 35.9005000002697, 35.9624299998094, 35.9029699996886, 35.9080699999044, 35.9081799997783, 35.9639799997055, 35.90039000040729, 35.9036000001395, 35.90113000013721, 35.968360000241496, 35.8986299996627, 35.9017800000911, 35.92527000043871, 35.9425200000155, 35.9066800004319, 35.903570000219496, 35.912139999808204, 35.9099600003235, 35.9441200001076, 35.9330300003822, 35.9165599997486, 35.9108200000751, 35.9452300003178, 35.8988600001845, 35.9090299998921, 35.908660000076296, 35.8853599997351, 35.914339999603705, 35.9370699998216, 35.9350300003396, 35.9081100002601, 35.9116700002559, 35.9113000000491, 35.9371100000712, 35.9471720003318, 35.9356119996204, 35.9043659995655, 35.922651999580296, 35.9046759999913, 35.9145580002389, 35.9131270003399, 35.913989999673, 35.9283530003871, 35.9506799998182, 35.9220219996792, 35.8975299996973, 35.9141330004117, 35.9284109996996, 35.9142659997392, 35.903661000156795, 35.91574899975121, 35.9451019998944, 35.9115459995822, 35.9141970001222, 35.930286999646704, 35.9270149999336, 35.92922599972621, 35.9081090002809, 35.91287400044929, 35.9160130001216, 35.9294389999825, 35.9165569997037, 35.914085000144894, 35.9127310000844, 35.9036299996318, 35.908670999615296, 35.9037380003585, 35.9639689996628, 35.9156149998503, 35.9446669995784, 35.9045980001981, 35.9303739996582, 35.9035419997936, 35.91352900030989, 35.927518000171794, 35.909185999581794, 35.9101790003621, 35.903634000003294, 35.9364670001517, 35.912892000374, 35.94436199986679, 35.9051669997169, 35.9008829999201, 35.9148250001585, 35.9026520002892, 35.9128229998533, 35.9102240000799, 35.915563999998795, 35.9080580003242, 35.9249849996598, 35.9407169996996, 35.9142669998594, 35.96394199956129, 35.9099409999559, 35.903841000444004, 35.964281999608396, 35.9133360002522, 35.912303000162204, 35.9131989998714, 35.9135140002409, 35.913130999903295, 35.9040189998311, 35.9243949998827, 35.9350790002426, 35.9041230003278, 35.912821000348, 35.935585999966705, 35.9249830002211, 35.910133000274, 35.9101770002101, 35.9120699999809, 35.911149000452205, 35.913995000090296, 35.9145279998349, 35.9128020002594, 35.912707000027, 35.9081330001574, 35.9454720003557, 35.91272800007, 35.9323789997628, 35.9130579999292, 35.9372770000572, 35.913712999937296, 35.951643000377004, 35.907481000201294, 35.9099209996089, 35.9211059997108, 35.903376999695, 35.900886999916395, 35.9108160004002, 35.9015370000784, 35.902955999736, 35.9041499997911, 35.9098899999551, 35.922967000418794, 35.913212999654796, 35.9037850001362, 35.9513969996668, 35.9115070001925, 35.9249909999196, 35.905857000099395, 35.9159919996449, 35.936125999767704, 35.91604200020029, 35.91634199959321, 35.9370719999941, 35.9038339996031, 35.908448999892, 35.9038040000534, 35.9665130002804, 35.9219390004261, 35.9065179999445, 35.903356999730796, 35.9033739998713, 35.905558000362795, 35.90365300040379, 35.9021349998147, 35.964080999758394, 35.9142819999357, 35.9497150001858, 35.9276730001105, 35.9091119995631, 35.9131550001587, 35.908777999887, 35.9021589997896, 35.9142730000057, 35.903694999588794, 35.9142599999903, 35.8841350003788, 35.966279999984295, 35.909008000385604, 35.9029779998621, 35.9019960003824, 35.9324149998529, 35.9319819995802, 35.90911000020839, 35.9119759997805, 35.9645639999759, 35.8854439995691, 35.9133140004225, 35.907773000025, 35.914286999672, 35.932496000224, 35.948884000094, 35.963863000162505, 35.9295619997774, 35.9695239997274, 35.9663789997009, 35.9271680003516, 35.9362119999668, 35.904162000331795, 35.9029540003323, 35.9081060001733, 35.907862000041, 35.9035599996573, 35.9127200000898, 35.9280469996316, 35.9293589996013, 35.909110999739106, 35.90813099995071, 35.91318499988, 35.913832999910206, 35.903385000246395, 35.9099600002381, 35.945083000405205, 35.901828999747295, 35.966656000357496, 35.9132820000819, 35.9291749995855, 35.9627039998425, 35.9036519999212, 35.9124319996823, 35.9410260002916, 35.9461729999227, 35.9142889997322, 35.9066739997346, 35.9099770000062, 35.9417460000785, 35.9300530003899, 35.9040969998018, 35.903566000129, 35.91320300025579, 35.9087160000262, 35.913197999987105, 35.912631000286204, 35.958866999591706, 35.90382899988, 35.914042000018796, 35.9493889995779, 35.91347700044221, 35.9024799997614, 35.903820999568296, 35.9351659996005, 35.9354229995571, 35.9351190000805, 35.9355660001196, 35.9323360004237, 35.9275219997211, 35.9095089999621, 35.9009829995797, 35.9081109996669, 35.937283999586, 35.9666129996314, 35.9028539996017, 35.9037639995841, 35.9081979999591, 35.913210999857995], \"legendgroup\": \"Class=Minor Collision\", \"lon\": [-79.0605000000905, -79.02860000010091, -79.0692000002125, -79.0498000004817, -79.0556000003741, -79.0556999994862, -79.0023999995221, -79.0482000002983, -79.0539999997642, -79.0246000000621, -79.0441999998044, -79.0302999997434, -79.05449999966291, -79.0417999997223, -79.0508000005155, -79.0500000005071, -79.0549000003185, -79.0402000005414, -79.04630000046129, -79.0465000003539, -79.05630000005169, -79.0213999996058, -79.03980000036891, -79.0545999996047, -79.04869999952679, -79.05839999999341, -79.0240000005425, -79.05629999978059, -79.0389000000576, -79.0526000004833, -79.0444999998676, -79.0593999995633, -79.0700000001224, -79.04430000047759, -79.0247999999696, -79.0119999996807, -79.0242999995911, -79.04420000040041, -79.0580999997168, -79.0552999994837, -79.007500000547, -79.03140000046851, -79.0497999996667, -79.054399999739, -79.0117000005004, -79.03579999950159, -79.0489999995297, -79.05649999980459, -79.0712000004231, -79.0530000002481, -79.01540000007, -79.02179999957579, -79.054700000407, -79.06430000047271, -79.06029999965071, -79.0221999998469, -79.0092479999455, -79.02586199982109, -79.052673000063, -79.0514550004202, -79.04659499965541, -79.0563940000643, -79.0559539995769, -79.05576100040791, -79.0254459995608, -79.0612270000338, -79.0388170004674, -79.0593250003037, -79.05631599968041, -79.0332299996959, -79.0527990003135, -79.0464949995683, -79.0649860004745, -79.0115289999907, -79.0626669999334, -79.056389999717, -79.024428000224, -79.02812599970801, -79.0269750002509, -79.0239460002508, -79.0564800004416, -79.05122200040391, -79.0342369996132, -79.04984100028159, -79.0561939996225, -79.056497000411, -79.0463009995189, -79.0531210001097, -79.0467099995922, -79.0430719995622, -79.05730299998879, -79.0125629994695, -79.04678100046421, -79.0258089996178, -79.0443899999743, -79.0576169995377, -79.053882999839, -79.04875399992271, -79.06327200006591, -79.0463000003451, -79.0248540001335, -79.05651499971229, -79.0580410002223, -79.06594099953541, -79.04400300006971, -79.0552350003319, -79.0512930003967, -79.0596350000443, -79.06328000007541, -79.04929800054859, -79.0546540004153, -79.05413300014399, -79.0195750005193, -79.0527809998819, -79.0597889998123, -79.0641909997552, -79.0526160003886, -79.0583689996648, -79.0554749999482, -79.04736099946959, -79.0558440002134, -79.057623999964, -79.05559799979241, -79.0499929996186, -79.0539030001698, -79.0294869996315, -79.04887000028741, -79.05668200025549, -79.02954699962109, -79.05421299996429, -79.05387099997029, -79.04664500049479, -79.0507790005065, -79.0408069997617, -79.05629299969141, -79.0564809999696, -79.05937100035491, -79.0570090003082, -79.0239370003082, -79.01087399993101, -79.0570270003653, -79.0320600000938, -79.0556670001184, -79.05663500004029, -79.0544959997241, -79.01633499961109, -79.0103779997639, -79.06520999971241, -79.05588899985679, -79.0515770003697, -79.0439679997224, -79.0543709995508, -79.0519519994592, -79.04871799961921, -79.05035299971021, -79.0467559995499, -79.0549519998573, -79.0477870000654, -79.0444880005554, -79.0164170001148, -79.0444880002369, -79.05417899963079, -79.0090140000874, -79.0479920002174, -79.0241319999916, -79.0512160002087, -79.0568630003765, -79.0223860003089, -79.0306589995665, -79.0537519999955, -79.0444770003979, -79.0591609997959, -79.0388070001346, -79.0444019997694, -79.05157699978321, -79.0515670004306, -79.04546300045521, -79.0464660000419, -79.0442610002285, -79.0563170003997, -79.052789999705, -79.0585699999617, -79.0301640002882, -79.04908300054991, -79.05595799983679, -79.05307699980241, -79.05523000032909, -79.05279099985259, -79.05258100012091, -79.052785999978, -79.06082899978, -79.0591579996339, -79.0078719995383, -79.05020500023141, -79.056851000007, -79.0210299999581, -79.03168800031429, -79.0487870002695, -79.06163800027109, -79.05854199958641, -79.0613360002381, -79.0581900000665, -79.0256730004294, -79.052802000007, -79.0554880004561, -79.00885999984591, -79.05560799977741, -79.02940099947021, -79.0616699997519, -79.0592770002215, -79.0275580002028, -79.0235619997236, -79.0538919996598, -79.0487119996304, -79.0546599999369, -79.05463400023301, -79.0444199995744, -79.0491170003672, -79.03009099972941, -79.0341579996619, -79.0487689998295, -79.0546129995602, -79.0477730000743, -79.0570580002621, -79.0515650000948, -79.04646899974121, -79.0582589996317, -79.0524030003383, -79.0593529999135, -79.0558140000318, -79.03417199998141, -79.0537830004036, -79.0462930003919, -79.0582219999441, -79.0051809997288, -79.0584860000297, -79.0528059999567, -79.0213350005429, -79.03266499961691, -79.02338500044391, -79.05485400039079, -79.0539190004884, -79.0444359997494, -79.0477810001438, -79.0530999997898, -79.04777600033529, -79.05704399969991, -79.0581250001671, -79.044439000416, -79.05623099995809, -79.0601210000374, -79.05498400004329, -79.0107100000328, -79.0444300005129, -79.0477980000014, -79.02546099961691, -79.02207800034, -79.0259730001805, -79.0319960004255, -79.0301740002923, -79.0481539998541, -79.0441159995108, -79.0546459997275, -79.05662900029209, -79.0593279996509, -79.04887199971141, -79.0442430002383, -79.05455100024321, -79.0477749997928], \"marker\": {\"color\": \"rgb(229, 134, 6)\"}, \"mode\": \"markers\", \"name\": \"Class=Minor Collision\", \"showlegend\": true, \"subplot\": \"mapbox\", \"type\": \"scattermapbox\"}, {\"customdata\": [[\"A: Suspected Serious Injury\"], [\"A: Suspected Serious Injury\"], [\"A: Suspected Serious Injury\"], [\"A: Suspected Serious Injury\"], [\"K: Killed\"], [\"K: Killed\"], [\"K: Killed\"], [\"A: Suspected Serious Injury\"], [\"K: Killed\"], [\"K: Killed\"], [\"A: Suspected Serious Injury\"], [\"A: Suspected Serious Injury\"], [\"A: Suspected Serious Injury\"], [\"A: Suspected Serious Injury\"], [\"K: Killed\"], [\"A: Suspected Serious Injury\"], [\"A: Suspected Serious Injury\"], [\"K: Killed\"], [\"A: Suspected Serious Injury\"], [\"A: Suspected Serious Injury\"], [\"A: Suspected Serious Injury\"], [\"K: Killed\"], [\"A: Suspected Serious Injury\"], [\"K: Killed\"]], \"hoverlabel\": {\"namelength\": 0}, \"hovertemplate\": \"Class=KSI<br>CrashSevr=%{customdata[0]}<br>Y=%{lat}<br>X=%{lon}\", \"lat\": [35.9035499997451, 35.8949399997365, 35.9622700004485, 35.92860000027721, 35.904390000182296, 35.925019999776296, 35.964000000117295, 35.915150000077794, 35.9019600004183, 35.8944199999023, 35.936200000225206, 35.912052999615, 35.9448890002573, 35.946768999847706, 35.9252139999523, 35.927491000313296, 35.9041619996961, 35.9515749998447, 35.944877999800504, 35.9120159998598, 35.913980000432794, 35.9609870003084, 35.9030889997953, 35.9615760001871], \"legendgroup\": \"Class=KSI\", \"lon\": [-79.0444000002005, -79.0501999996056, -79.0552999998808, -79.06110000024908, -79.05450000050101, -79.0542000000684, -79.05630000043, -79.0571000001865, -79.0571000003023, -79.0610000002271, -79.0245000002971, -79.0507789997878, -79.0580979998449, -79.02157700025691, -79.0248140004069, -79.03019300004259, -79.0488859998309, -79.06619599959349, -79.0011090000584, -79.0616659994588, -79.05635200027871, -79.0575740005015, -79.05054199976479, -79.054302999734], \"marker\": {\"color\": \"rgb(93, 105, 177)\"}, \"mode\": \"markers\", \"name\": \"Class=KSI\", \"showlegend\": true, \"subplot\": \"mapbox\", \"type\": \"scattermapbox\"}],\n",
              "                        {\"legend\": {\"tracegroupgap\": 0}, \"mapbox\": {\"accesstoken\": \"pk.eyJ1IjoiZG1hdGgwMTAiLCJhIjoiY2t3cWhveno3MG1wOTJwbTh6YnJ5aHdoMSJ9.FqnsHZHLg8TJYhewHnUfyA\", \"center\": {\"lat\": 35.919929805447225, \"lon\": -79.04601962117658}, \"domain\": {\"x\": [0.0, 1.0], \"y\": [0.0, 1.0]}, \"zoom\": 11}, \"margin\": {\"t\": 60}, \"template\": {\"data\": {\"bar\": [{\"error_x\": {\"color\": \"#2a3f5f\"}, \"error_y\": {\"color\": \"#2a3f5f\"}, \"marker\": {\"line\": {\"color\": \"#E5ECF6\", \"width\": 0.5}}, \"type\": \"bar\"}], \"barpolar\": [{\"marker\": {\"line\": {\"color\": \"#E5ECF6\", \"width\": 0.5}}, \"type\": \"barpolar\"}], \"carpet\": [{\"aaxis\": {\"endlinecolor\": \"#2a3f5f\", \"gridcolor\": \"white\", \"linecolor\": \"white\", \"minorgridcolor\": \"white\", \"startlinecolor\": \"#2a3f5f\"}, \"baxis\": {\"endlinecolor\": \"#2a3f5f\", \"gridcolor\": \"white\", \"linecolor\": \"white\", \"minorgridcolor\": \"white\", \"startlinecolor\": \"#2a3f5f\"}, \"type\": \"carpet\"}], \"choropleth\": [{\"colorbar\": {\"outlinewidth\": 0, \"ticks\": \"\"}, \"type\": \"choropleth\"}], \"contour\": [{\"colorbar\": {\"outlinewidth\": 0, \"ticks\": \"\"}, \"colorscale\": [[0.0, \"#0d0887\"], [0.1111111111111111, \"#46039f\"], [0.2222222222222222, \"#7201a8\"], [0.3333333333333333, \"#9c179e\"], [0.4444444444444444, \"#bd3786\"], [0.5555555555555556, \"#d8576b\"], [0.6666666666666666, \"#ed7953\"], [0.7777777777777778, \"#fb9f3a\"], [0.8888888888888888, \"#fdca26\"], [1.0, \"#f0f921\"]], \"type\": \"contour\"}], \"contourcarpet\": [{\"colorbar\": {\"outlinewidth\": 0, \"ticks\": \"\"}, \"type\": \"contourcarpet\"}], \"heatmap\": [{\"colorbar\": {\"outlinewidth\": 0, \"ticks\": \"\"}, \"colorscale\": [[0.0, \"#0d0887\"], [0.1111111111111111, \"#46039f\"], [0.2222222222222222, \"#7201a8\"], [0.3333333333333333, \"#9c179e\"], [0.4444444444444444, \"#bd3786\"], [0.5555555555555556, \"#d8576b\"], [0.6666666666666666, \"#ed7953\"], [0.7777777777777778, \"#fb9f3a\"], [0.8888888888888888, \"#fdca26\"], [1.0, \"#f0f921\"]], \"type\": \"heatmap\"}], \"heatmapgl\": [{\"colorbar\": {\"outlinewidth\": 0, \"ticks\": \"\"}, \"colorscale\": [[0.0, \"#0d0887\"], [0.1111111111111111, \"#46039f\"], [0.2222222222222222, \"#7201a8\"], [0.3333333333333333, \"#9c179e\"], [0.4444444444444444, \"#bd3786\"], [0.5555555555555556, \"#d8576b\"], [0.6666666666666666, \"#ed7953\"], [0.7777777777777778, \"#fb9f3a\"], [0.8888888888888888, \"#fdca26\"], [1.0, \"#f0f921\"]], \"type\": \"heatmapgl\"}], \"histogram\": [{\"marker\": {\"colorbar\": {\"outlinewidth\": 0, \"ticks\": \"\"}}, \"type\": \"histogram\"}], \"histogram2d\": [{\"colorbar\": {\"outlinewidth\": 0, \"ticks\": \"\"}, \"colorscale\": [[0.0, \"#0d0887\"], [0.1111111111111111, \"#46039f\"], [0.2222222222222222, \"#7201a8\"], [0.3333333333333333, \"#9c179e\"], [0.4444444444444444, \"#bd3786\"], [0.5555555555555556, \"#d8576b\"], [0.6666666666666666, \"#ed7953\"], [0.7777777777777778, \"#fb9f3a\"], [0.8888888888888888, \"#fdca26\"], [1.0, \"#f0f921\"]], \"type\": \"histogram2d\"}], \"histogram2dcontour\": [{\"colorbar\": {\"outlinewidth\": 0, \"ticks\": \"\"}, \"colorscale\": [[0.0, \"#0d0887\"], [0.1111111111111111, \"#46039f\"], [0.2222222222222222, \"#7201a8\"], [0.3333333333333333, \"#9c179e\"], [0.4444444444444444, \"#bd3786\"], [0.5555555555555556, \"#d8576b\"], [0.6666666666666666, \"#ed7953\"], [0.7777777777777778, \"#fb9f3a\"], [0.8888888888888888, \"#fdca26\"], [1.0, \"#f0f921\"]], \"type\": \"histogram2dcontour\"}], \"mesh3d\": [{\"colorbar\": {\"outlinewidth\": 0, \"ticks\": \"\"}, \"type\": \"mesh3d\"}], \"parcoords\": [{\"line\": {\"colorbar\": {\"outlinewidth\": 0, \"ticks\": \"\"}}, \"type\": \"parcoords\"}], \"pie\": [{\"automargin\": true, \"type\": \"pie\"}], \"scatter\": [{\"marker\": {\"colorbar\": {\"outlinewidth\": 0, \"ticks\": \"\"}}, \"type\": \"scatter\"}], \"scatter3d\": [{\"line\": {\"colorbar\": {\"outlinewidth\": 0, \"ticks\": \"\"}}, \"marker\": {\"colorbar\": {\"outlinewidth\": 0, \"ticks\": \"\"}}, \"type\": \"scatter3d\"}], \"scattercarpet\": [{\"marker\": {\"colorbar\": {\"outlinewidth\": 0, \"ticks\": \"\"}}, \"type\": \"scattercarpet\"}], \"scattergeo\": [{\"marker\": {\"colorbar\": {\"outlinewidth\": 0, \"ticks\": \"\"}}, \"type\": \"scattergeo\"}], \"scattergl\": [{\"marker\": {\"colorbar\": {\"outlinewidth\": 0, \"ticks\": \"\"}}, \"type\": \"scattergl\"}], \"scattermapbox\": [{\"marker\": {\"colorbar\": {\"outlinewidth\": 0, \"ticks\": \"\"}}, \"type\": \"scattermapbox\"}], \"scatterpolar\": [{\"marker\": {\"colorbar\": {\"outlinewidth\": 0, \"ticks\": \"\"}}, \"type\": \"scatterpolar\"}], \"scatterpolargl\": [{\"marker\": {\"colorbar\": {\"outlinewidth\": 0, \"ticks\": \"\"}}, \"type\": \"scatterpolargl\"}], \"scatterternary\": [{\"marker\": {\"colorbar\": {\"outlinewidth\": 0, \"ticks\": \"\"}}, \"type\": \"scatterternary\"}], \"surface\": [{\"colorbar\": {\"outlinewidth\": 0, \"ticks\": \"\"}, \"colorscale\": [[0.0, \"#0d0887\"], [0.1111111111111111, \"#46039f\"], [0.2222222222222222, \"#7201a8\"], [0.3333333333333333, \"#9c179e\"], [0.4444444444444444, \"#bd3786\"], [0.5555555555555556, \"#d8576b\"], [0.6666666666666666, \"#ed7953\"], [0.7777777777777778, \"#fb9f3a\"], [0.8888888888888888, \"#fdca26\"], [1.0, \"#f0f921\"]], \"type\": \"surface\"}], \"table\": [{\"cells\": {\"fill\": {\"color\": \"#EBF0F8\"}, \"line\": {\"color\": \"white\"}}, \"header\": {\"fill\": {\"color\": \"#C8D4E3\"}, \"line\": {\"color\": \"white\"}}, \"type\": \"table\"}]}, \"layout\": {\"annotationdefaults\": {\"arrowcolor\": \"#2a3f5f\", \"arrowhead\": 0, \"arrowwidth\": 1}, \"coloraxis\": {\"colorbar\": {\"outlinewidth\": 0, \"ticks\": \"\"}}, \"colorscale\": {\"diverging\": [[0, \"#8e0152\"], [0.1, \"#c51b7d\"], [0.2, \"#de77ae\"], [0.3, \"#f1b6da\"], [0.4, \"#fde0ef\"], [0.5, \"#f7f7f7\"], [0.6, \"#e6f5d0\"], [0.7, \"#b8e186\"], [0.8, \"#7fbc41\"], [0.9, \"#4d9221\"], [1, \"#276419\"]], \"sequential\": [[0.0, \"#0d0887\"], [0.1111111111111111, \"#46039f\"], [0.2222222222222222, \"#7201a8\"], [0.3333333333333333, \"#9c179e\"], [0.4444444444444444, \"#bd3786\"], [0.5555555555555556, \"#d8576b\"], [0.6666666666666666, \"#ed7953\"], [0.7777777777777778, \"#fb9f3a\"], [0.8888888888888888, \"#fdca26\"], [1.0, \"#f0f921\"]], \"sequentialminus\": [[0.0, \"#0d0887\"], [0.1111111111111111, \"#46039f\"], [0.2222222222222222, \"#7201a8\"], [0.3333333333333333, \"#9c179e\"], [0.4444444444444444, \"#bd3786\"], [0.5555555555555556, \"#d8576b\"], [0.6666666666666666, \"#ed7953\"], [0.7777777777777778, \"#fb9f3a\"], [0.8888888888888888, \"#fdca26\"], [1.0, \"#f0f921\"]]}, \"colorway\": [\"#636efa\", \"#EF553B\", \"#00cc96\", \"#ab63fa\", \"#FFA15A\", \"#19d3f3\", \"#FF6692\", \"#B6E880\", \"#FF97FF\", \"#FECB52\"], \"font\": {\"color\": \"#2a3f5f\"}, \"geo\": {\"bgcolor\": \"white\", \"lakecolor\": \"white\", \"landcolor\": \"#E5ECF6\", \"showlakes\": true, \"showland\": true, \"subunitcolor\": \"white\"}, \"hoverlabel\": {\"align\": \"left\"}, \"hovermode\": \"closest\", \"mapbox\": {\"style\": \"light\"}, \"paper_bgcolor\": \"white\", \"plot_bgcolor\": \"#E5ECF6\", \"polar\": {\"angularaxis\": {\"gridcolor\": \"white\", \"linecolor\": \"white\", \"ticks\": \"\"}, \"bgcolor\": \"#E5ECF6\", \"radialaxis\": {\"gridcolor\": \"white\", \"linecolor\": \"white\", \"ticks\": \"\"}}, \"scene\": {\"xaxis\": {\"backgroundcolor\": \"#E5ECF6\", \"gridcolor\": \"white\", \"gridwidth\": 2, \"linecolor\": \"white\", \"showbackground\": true, \"ticks\": \"\", \"zerolinecolor\": \"white\"}, \"yaxis\": {\"backgroundcolor\": \"#E5ECF6\", \"gridcolor\": \"white\", \"gridwidth\": 2, \"linecolor\": \"white\", \"showbackground\": true, \"ticks\": \"\", \"zerolinecolor\": \"white\"}, \"zaxis\": {\"backgroundcolor\": \"#E5ECF6\", \"gridcolor\": \"white\", \"gridwidth\": 2, \"linecolor\": \"white\", \"showbackground\": true, \"ticks\": \"\", \"zerolinecolor\": \"white\"}}, \"shapedefaults\": {\"line\": {\"color\": \"#2a3f5f\"}}, \"ternary\": {\"aaxis\": {\"gridcolor\": \"white\", \"linecolor\": \"white\", \"ticks\": \"\"}, \"baxis\": {\"gridcolor\": \"white\", \"linecolor\": \"white\", \"ticks\": \"\"}, \"bgcolor\": \"#E5ECF6\", \"caxis\": {\"gridcolor\": \"white\", \"linecolor\": \"white\", \"ticks\": \"\"}}, \"title\": {\"x\": 0.05}, \"xaxis\": {\"automargin\": true, \"gridcolor\": \"white\", \"linecolor\": \"white\", \"ticks\": \"\", \"title\": {\"standoff\": 15}, \"zerolinecolor\": \"white\", \"zerolinewidth\": 2}, \"yaxis\": {\"automargin\": true, \"gridcolor\": \"white\", \"linecolor\": \"white\", \"ticks\": \"\", \"title\": {\"standoff\": 15}, \"zerolinecolor\": \"white\", \"zerolinewidth\": 2}}}},\n",
              "                        {\"responsive\": true}\n",
              "                    ).then(function(){\n",
              "                            \n",
              "var gd = document.getElementById('81474414-f8d7-4a8d-b6cb-299f29670abd');\n",
              "var x = new MutationObserver(function (mutations, observer) {{\n",
              "        var display = window.getComputedStyle(gd).display;\n",
              "        if (!display || display === 'none') {{\n",
              "            console.log([gd, 'removed!']);\n",
              "            Plotly.purge(gd);\n",
              "            observer.disconnect();\n",
              "        }}\n",
              "}});\n",
              "\n",
              "// Listen for the removal of the full notebook cells\n",
              "var notebookContainer = gd.closest('#notebook-container');\n",
              "if (notebookContainer) {{\n",
              "    x.observe(notebookContainer, {childList: true});\n",
              "}}\n",
              "\n",
              "// Listen for the clearing of the current output cell\n",
              "var outputEl = gd.closest('.output');\n",
              "if (outputEl) {{\n",
              "    x.observe(outputEl, {childList: true});\n",
              "}}\n",
              "\n",
              "                        })\n",
              "                };\n",
              "                \n",
              "            </script>\n",
              "        </div>\n",
              "</body>\n",
              "</html>"
            ]
          },
          "metadata": {}
        }
      ],
      "source": [
        "px.set_mapbox_access_token(\"pk.eyJ1IjoiZG1hdGgwMTAiLCJhIjoiY2t3cWhveno3MG1wOTJwbTh6YnJ5aHdoMSJ9.FqnsHZHLg8TJYhewHnUfyA\")\n",
        "px.scatter_mapbox(ch_data, lat=\"Y\", lon=\"X\",  zoom=11, color='Class', color_discrete_sequence=px.colors.qualitative.Vivid, hover_data=[\"CrashSevr\"])           "
      ]
    },
    {
      "cell_type": "code",
      "execution_count": 15,
      "metadata": {
        "id": "CBe9TA2kQrX9"
      },
      "outputs": [],
      "source": [
        "year_data = pd.DataFrame(state_data.groupby('CrashYear').count()['X'])\n",
        "year_data['KSI' ] = pd.DataFrame(state_data.loc[(state_data.Class == \"KSI\")].groupby('CrashYear').count()['X'])\n",
        "year_data['Minor Collision'] = pd.DataFrame(state_data.loc[(state_data.Class == \"Minor Collision\")].groupby('CrashYear').count()['X'])"
      ]
    },
    {
      "cell_type": "code",
      "execution_count": 16,
      "metadata": {
        "colab": {
          "base_uri": "https://localhost:8080/",
          "height": 285
        },
        "id": "-HFRd8bxzf9c",
        "outputId": "b64dd8e5-7015-4bba-8f32-6ea2e7b83dad"
      },
      "outputs": [
        {
          "output_type": "display_data",
          "data": {
            "image/png": "[encoded data removed]",
            "text/plain": [
              "<Figure size 432x288 with 1 Axes>"
            ]
          },
          "metadata": {}
        }
      ],
      "source": [
        "sns.set_theme(style=\"darkgrid\")\n",
        "ax = sns.lineplot(data=year_data, x=\"CrashYear\", y=\"X\", label='Crashes per Year');\n",
        "ax.set_ylabel(\"Total\");"
      ]
    },
    {
      "cell_type": "code",
      "execution_count": 17,
      "metadata": {
        "colab": {
          "base_uri": "https://localhost:8080/",
          "height": 339
        },
        "id": "7telRSwH28aq",
        "outputId": "f6939db6-1524-4cc0-ef02-398d8c300e4f"
      },
      "outputs": [
        {
          "output_type": "display_data",
          "data": {
            "image/png": "[encoded data removed]",
            "text/plain": [
              "<Figure size 576x360 with 1 Axes>"
            ]
          },
          "metadata": {}
        }
      ],
      "source": [
        "fig, ax = plt.subplots(figsize=(8,5))\n",
        "ax= sns.lineplot(x='CrashYear', y='KSI', data=year_data, color='darkorange', label= 'KSI Collision')\n",
        "ax1 = sns.lineplot(x='CrashYear', y='Minor Collision', data=year_data, color='steelblue', label= 'Minor Collision')\n",
        "ax.set(xlabel='Year', ylabel='Total');"
      ]
    },
    {
      "cell_type": "code",
      "execution_count": 18,
      "metadata": {
        "colab": {
          "base_uri": "https://localhost:8080/",
          "height": 953
        },
        "id": "7AbPbRVOZQlx",
        "outputId": "0a5e2251-4b3e-4b0b-9835-d7ef401fc77e"
      },
      "outputs": [
        {
          "output_type": "display_data",
          "data": {
            "image/png": "[encoded data removed]",
            "text/plain": [
              "<Figure size 576x1152 with 3 Axes>"
            ]
          },
          "metadata": {}
        }
      ],
      "source": [
        "sns.set_theme(style=\"white\")\n",
        "hue_order = [\"Minor Collision\", \"KSI\"]\n",
        "\n",
        "fig, axes = plt.subplots(3, 1, figsize=(8, 16), sharey=False)\n",
        "axes[0].set_title('Travel Lane')\n",
        "axes[0].set_xlabel(\" \")\n",
        "sns.histplot(ax=axes[0], data=state_data[state_data['PedPos'].str.contains(\"Travel\")], x=\"Class\", hue=\"Class\", stat='probability', legend=None, hue_order=hue_order);\n",
        "axes[1].set_title('Bike Lane')\n",
        "axes[1].set_xlabel(\" \")\n",
        "sns.histplot(ax=axes[1], data=state_data[state_data['PedPos'].str.contains(\"Bike\")], x=\"Class\", hue=\"Class\", stat='probability',legend=None, hue_order=hue_order);\n",
        "axes[2].set_title('Shared Use Path')\n",
        "axes[2].set_xlabel(\"Class\")\n",
        "sns.histplot(ax=axes[2], data=state_data[state_data['PedPos'].str.contains(\"Path\")], x=\"Class\", hue=\"Class\", stat='probability',legend=None, hue_order=hue_order);"
      ]
    },
    {
      "cell_type": "code",
      "execution_count": 19,
      "metadata": {
        "colab": {
          "base_uri": "https://localhost:8080/",
          "height": 736
        },
        "id": "mjzWNGSiNVNd",
        "outputId": "4c448d18-9cba-49d7-b5be-a6459117b1e0"
      },
      "outputs": [
        {
          "output_type": "display_data",
          "data": {
            "image/png": "[encoded data removed]",
            "text/plain": [
              "<Figure size 576x864 with 2 Axes>"
            ]
          },
          "metadata": {}
        }
      ],
      "source": [
        "fig, axes = plt.subplots(2, 1, figsize=(8, 12), sharey=False)\n",
        "axes[0].set_title('Intersection')\n",
        "axes[0].set_xlabel(\" \")\n",
        "sns.histplot(ax=axes[0], data=state_data[(state_data['CrashLoc'].str.startswith(\"Intersection\"))], x=\"Class\", hue=\"Class\", stat='probability', legend=None, hue_order=hue_order);\n",
        "axes[1].set_title('Non Intersection')\n",
        "axes[1].set_xlabel(\"Class\")\n",
        "sns.histplot(ax=axes[1], data=state_data[state_data['CrashLoc'].str.contains(\"Non-Intersection\")], x=\"Class\", hue=\"Class\", stat='probability',legend=None, hue_order=hue_order);\n",
        "\n"
      ]
    },
    {
      "cell_type": "code",
      "execution_count": 20,
      "metadata": {
        "colab": {
          "base_uri": "https://localhost:8080/",
          "height": 953
        },
        "id": "jG-gimzWbwB7",
        "outputId": "d58c4bd4-1d93-49f7-b521-0898c1c85b52"
      },
      "outputs": [
        {
          "output_type": "display_data",
          "data": {
            "image/png": "[encoded data removed]",
            "text/plain": [
              "<Figure size 576x1152 with 3 Axes>"
            ]
          },
          "metadata": {}
        }
      ],
      "source": [
        "fig, axes = plt.subplots(3, 1, figsize=(8, 16), sharey=False)\n",
        "axes[0].set_title('Local')\n",
        "axes[0].set_xlabel(\" \")\n",
        "sns.histplot(ax=axes[0], data=state_data[state_data['RdClass'].str.contains(\"Local\")], x=\"Class\", hue=\"Class\", stat='probability', legend=None, hue_order=hue_order);\n",
        "axes[1].set_title('State')\n",
        "axes[1].set_xlabel(\" \")\n",
        "sns.histplot(ax=axes[1], data=state_data[state_data['RdClass'].str.contains(\"State\")], x=\"Class\", hue=\"Class\", stat='probability',legend=None, hue_order=hue_order);\n",
        "axes[2].set_title('NC Route')\n",
        "axes[2].set_xlabel(\" \")\n",
        "sns.histplot(ax=axes[2], data=state_data[state_data['RdClass'].str.contains(\"NC\")], x=\"Class\", hue=\"Class\", stat='probability', legend=None, hue_order=hue_order);\n"
      ]
    },
    {
      "cell_type": "code",
      "execution_count": 21,
      "metadata": {
        "colab": {
          "base_uri": "https://localhost:8080/",
          "height": 953
        },
        "id": "7KKYSi6XdaWW",
        "outputId": "3bb03515-c100-46a8-eae4-b6fb348187c6"
      },
      "outputs": [
        {
          "output_type": "display_data",
          "data": {
            "image/png": "[encoded data removed]",
            "text/plain": [
              "<Figure size 576x1152 with 3 Axes>"
            ]
          },
          "metadata": {}
        }
      ],
      "source": [
        "fig, axes = plt.subplots(3, 1, figsize=(8, 16), sharey=False, )\n",
        "axes[0].set_title('25 MPH and Below')\n",
        "axes[0].set_xlabel(\" \")\n",
        "sns.histplot(ax=axes[0], data=state_data[state_data['SpeedLimit'] <= 25.0], x=\"Class\", hue=\"Class\", stat='probability', legend=None, hue_order=hue_order);\n",
        "axes[1].set_title('30-45 MPH')\n",
        "axes[1].set_xlabel(\" \")\n",
        "sns.histplot(ax=axes[1], data=state_data[(state_data['SpeedLimit'] > 25.0) & (state_data['SpeedLimit'] < 55.0)], x=\"Class\", hue=\"Class\", stat='probability',legend=None, hue_order=hue_order);\n",
        "axes[2].set_title('50 MPH and Above')\n",
        "axes[2].set_xlabel(\"Class\")\n",
        "sns.histplot(ax=axes[2], data=state_data[state_data['SpeedLimit'] >= 55.0], x=\"Class\", hue=\"Class\", stat='probability', legend=None, hue_order=hue_order);\n"
      ]
    },
    {
      "cell_type": "markdown",
      "metadata": {
        "id": "VEV01wrS9NGy"
      },
      "source": [
        "# Data Preprocessing 2\n",
        "Feature engineering for supervised machine learning"
      ]
    },
    {
      "cell_type": "code",
      "execution_count": 22,
      "metadata": {
        "id": "uoVmwd0Ptd6M"
      },
      "outputs": [],
      "source": [
        "#Change Day and Month to Numeric Representation\n",
        "d=dict(enumerate(calendar.day_name))\n",
        "for new, old in d.items():\n",
        "    state_data['CrashDay'] = state_data['CrashDay'].replace(old, new)\n",
        "\n",
        "d=dict(enumerate(calendar.month_name))\n",
        "for new, old in d.items():\n",
        "    state_data['CrashMonth'] = state_data['CrashMonth'].replace(old, new)\n"
      ]
    },
    {
      "cell_type": "code",
      "execution_count": 23,
      "metadata": {
        "colab": {
          "base_uri": "https://localhost:8080/",
          "height": 487
        },
        "id": "vmD_7LXu9Zg2",
        "outputId": "6dd21a1b-482a-45b3-b917-3733ab868cb4"
      },
      "outputs": [
        {
          "output_type": "execute_result",
          "data": {
            "text/html": [
              "<div>\n",
              "<style scoped>\n",
              "    .dataframe tbody tr th:only-of-type {\n",
              "        vertical-align: middle;\n",
              "    }\n",
              "\n",
              "    .dataframe tbody tr th {\n",
              "        vertical-align: top;\n",
              "    }\n",
              "\n",
              "    .dataframe thead th {\n",
              "        text-align: right;\n",
              "    }\n",
              "</style>\n",
              "<table border=\"1\" class=\"dataframe\">\n",
              "  <thead>\n",
              "    <tr style=\"text-align: right;\">\n",
              "      <th></th>\n",
              "      <th>CrashAlcoh</th>\n",
              "      <th>CrashDay</th>\n",
              "      <th>CrashGrp</th>\n",
              "      <th>CrashHour</th>\n",
              "      <th>CrashLoc</th>\n",
              "      <th>CrashMonth</th>\n",
              "      <th>CrashYear</th>\n",
              "      <th>Developmen</th>\n",
              "      <th>DrvrAgeGrp</th>\n",
              "      <th>DrvrRace</th>\n",
              "      <th>DrvrSex</th>\n",
              "      <th>DrvrVehTyp</th>\n",
              "      <th>HitRun</th>\n",
              "      <th>LightCond</th>\n",
              "      <th>Locality</th>\n",
              "      <th>NumLanes</th>\n",
              "      <th>PedAgeGrp</th>\n",
              "      <th>PedPos</th>\n",
              "      <th>PedRace</th>\n",
              "      <th>PedSex</th>\n",
              "      <th>RdCharacte</th>\n",
              "      <th>RdClass</th>\n",
              "      <th>RdConditio</th>\n",
              "      <th>RdConfig</th>\n",
              "      <th>RdDefects</th>\n",
              "      <th>RdFeature</th>\n",
              "      <th>RdSurface</th>\n",
              "      <th>RuralUrban</th>\n",
              "      <th>SpeedLimit</th>\n",
              "      <th>TraffCntrl</th>\n",
              "      <th>Weather</th>\n",
              "      <th>Workzone</th>\n",
              "      <th>Class</th>\n",
              "    </tr>\n",
              "  </thead>\n",
              "  <tbody>\n",
              "    <tr>\n",
              "      <th>68</th>\n",
              "      <td>No</td>\n",
              "      <td>Saturday</td>\n",
              "      <td>Backing Vehicle</td>\n",
              "      <td>18</td>\n",
              "      <td>Non-Intersection</td>\n",
              "      <td>January</td>\n",
              "      <td>2007</td>\n",
              "      <td>Farms, Woods, Pastures</td>\n",
              "      <td>30-39</td>\n",
              "      <td>White</td>\n",
              "      <td>Female</td>\n",
              "      <td>Passenger Car</td>\n",
              "      <td>No</td>\n",
              "      <td>Dark - Roadway Not Lighted</td>\n",
              "      <td>Urban (&gt;70% Developed)</td>\n",
              "      <td>2.0</td>\n",
              "      <td>NaN</td>\n",
              "      <td>Travel Lane</td>\n",
              "      <td>Black</td>\n",
              "      <td>Female</td>\n",
              "      <td>Straight - Grade</td>\n",
              "      <td>Local Street</td>\n",
              "      <td>Dry</td>\n",
              "      <td>Two-Way, Not Divided</td>\n",
              "      <td>None</td>\n",
              "      <td>Driveway, Private</td>\n",
              "      <td>Coarse Asphalt</td>\n",
              "      <td>Urban</td>\n",
              "      <td>35.0</td>\n",
              "      <td>No Control Present</td>\n",
              "      <td>Clear</td>\n",
              "      <td>No</td>\n",
              "      <td>Minor Collision</td>\n",
              "    </tr>\n",
              "    <tr>\n",
              "      <th>165</th>\n",
              "      <td>No</td>\n",
              "      <td>Friday</td>\n",
              "      <td>Backing Vehicle</td>\n",
              "      <td>12</td>\n",
              "      <td>Non-Roadway</td>\n",
              "      <td>January</td>\n",
              "      <td>2007</td>\n",
              "      <td>Commercial</td>\n",
              "      <td>70+</td>\n",
              "      <td>White</td>\n",
              "      <td>Male</td>\n",
              "      <td>Passenger Car</td>\n",
              "      <td>No</td>\n",
              "      <td>Daylight</td>\n",
              "      <td>Urban (&gt;70% Developed)</td>\n",
              "      <td>NaN</td>\n",
              "      <td>21-25</td>\n",
              "      <td>Non-Roadway - Parking Lot / Other</td>\n",
              "      <td>White</td>\n",
              "      <td>Male</td>\n",
              "      <td>Straight - Level</td>\n",
              "      <td>Public Vehicular Area</td>\n",
              "      <td>Dry</td>\n",
              "      <td>Two-Way, Not Divided</td>\n",
              "      <td>None</td>\n",
              "      <td>Driveway, Public</td>\n",
              "      <td>Smooth Asphalt</td>\n",
              "      <td>Urban</td>\n",
              "      <td>25.0</td>\n",
              "      <td>No Control Present</td>\n",
              "      <td>Clear</td>\n",
              "      <td>No</td>\n",
              "      <td>Minor Collision</td>\n",
              "    </tr>\n",
              "    <tr>\n",
              "      <th>170</th>\n",
              "      <td>No</td>\n",
              "      <td>Sunday</td>\n",
              "      <td>Crossing Roadway - Vehicle Turning</td>\n",
              "      <td>15</td>\n",
              "      <td>Intersection</td>\n",
              "      <td>January</td>\n",
              "      <td>2007</td>\n",
              "      <td>Residential</td>\n",
              "      <td>NaN</td>\n",
              "      <td>NaN</td>\n",
              "      <td>NaN</td>\n",
              "      <td>Van</td>\n",
              "      <td>Yes</td>\n",
              "      <td>Daylight</td>\n",
              "      <td>Urban (&gt;70% Developed)</td>\n",
              "      <td>2.0</td>\n",
              "      <td>11-15</td>\n",
              "      <td>Crosswalk Area</td>\n",
              "      <td>White</td>\n",
              "      <td>Male</td>\n",
              "      <td>Straight - Grade</td>\n",
              "      <td>Local Street</td>\n",
              "      <td>Dry</td>\n",
              "      <td>Two-Way, Not Divided</td>\n",
              "      <td>None</td>\n",
              "      <td>Four-Way Intersection</td>\n",
              "      <td>Smooth Asphalt</td>\n",
              "      <td>Urban</td>\n",
              "      <td>25.0</td>\n",
              "      <td>Stop Sign</td>\n",
              "      <td>Clear</td>\n",
              "      <td>No</td>\n",
              "      <td>Minor Collision</td>\n",
              "    </tr>\n",
              "    <tr>\n",
              "      <th>237</th>\n",
              "      <td>No</td>\n",
              "      <td>Thursday</td>\n",
              "      <td>Crossing Roadway - Vehicle Turning</td>\n",
              "      <td>12</td>\n",
              "      <td>Intersection</td>\n",
              "      <td>February</td>\n",
              "      <td>2007</td>\n",
              "      <td>Residential</td>\n",
              "      <td>25-29</td>\n",
              "      <td>Black</td>\n",
              "      <td>Female</td>\n",
              "      <td>Passenger Car</td>\n",
              "      <td>No</td>\n",
              "      <td>Daylight</td>\n",
              "      <td>Urban (&gt;70% Developed)</td>\n",
              "      <td>2.0</td>\n",
              "      <td>16-20</td>\n",
              "      <td>Crosswalk Area</td>\n",
              "      <td>Asian</td>\n",
              "      <td>Female</td>\n",
              "      <td>Straight - Level</td>\n",
              "      <td>Local Street</td>\n",
              "      <td>Dry</td>\n",
              "      <td>Two-Way, Not Divided</td>\n",
              "      <td>None</td>\n",
              "      <td>Four-Way Intersection</td>\n",
              "      <td>Smooth Asphalt</td>\n",
              "      <td>Urban</td>\n",
              "      <td>25.0</td>\n",
              "      <td>Stop And Go Signal</td>\n",
              "      <td>Clear</td>\n",
              "      <td>No</td>\n",
              "      <td>Minor Collision</td>\n",
              "    </tr>\n",
              "    <tr>\n",
              "      <th>264</th>\n",
              "      <td>No</td>\n",
              "      <td>Tuesday</td>\n",
              "      <td>Other / Unknown - Insufficient Details</td>\n",
              "      <td>9</td>\n",
              "      <td>Non-Intersection</td>\n",
              "      <td>February</td>\n",
              "      <td>2007</td>\n",
              "      <td>Residential</td>\n",
              "      <td>NaN</td>\n",
              "      <td>NaN</td>\n",
              "      <td>NaN</td>\n",
              "      <td>NaN</td>\n",
              "      <td>Yes</td>\n",
              "      <td>Daylight</td>\n",
              "      <td>Urban (&gt;70% Developed)</td>\n",
              "      <td>2.0</td>\n",
              "      <td>NaN</td>\n",
              "      <td>Other / Unknown</td>\n",
              "      <td>Black</td>\n",
              "      <td>Male</td>\n",
              "      <td>Straight - Level</td>\n",
              "      <td>Local Street</td>\n",
              "      <td>Wet</td>\n",
              "      <td>Two-Way, Not Divided</td>\n",
              "      <td>None</td>\n",
              "      <td>No Special Feature</td>\n",
              "      <td>Smooth Asphalt</td>\n",
              "      <td>Urban</td>\n",
              "      <td>35.0</td>\n",
              "      <td>No Control Present</td>\n",
              "      <td>Rain</td>\n",
              "      <td>No</td>\n",
              "      <td>Minor Collision</td>\n",
              "    </tr>\n",
              "  </tbody>\n",
              "</table>\n",
              "</div>"
            ],
            "text/plain": [
              "    CrashAlcoh  CrashDay  ... Workzone            Class\n",
              "68          No  Saturday  ...       No  Minor Collision\n",
              "165         No    Friday  ...       No  Minor Collision\n",
              "170         No    Sunday  ...       No  Minor Collision\n",
              "237         No  Thursday  ...       No  Minor Collision\n",
              "264         No   Tuesday  ...       No  Minor Collision\n",
              "\n",
              "[5 rows x 33 columns]"
            ]
          },
          "metadata": {},
          "execution_count": 23
        }
      ],
      "source": [
        "#Drop values that are indicative of target and have little use in training\n",
        "ml_data = ch_data.drop(['AmbulanceR','OBJECTID_1','DrvrInjury', 'PedInjury', 'CrashSevr', 'X', 'Y','County', 'CrashType', 'DrvrAlcDrg', 'DrvrAlcFlg', \n",
        "              'Latitude', 'Longitude', 'PedAlcDrg', 'PedAlcFlag', 'Region', 'DrvrAge', 'PedAge'], axis=1)\n",
        "ml_data = ml_data.drop(['City'], axis=1)\n",
        "ml_data.head()"
      ]
    },
    {
      "cell_type": "code",
      "execution_count": 24,
      "metadata": {
        "colab": {
          "base_uri": "https://localhost:8080/",
          "height": 487
        },
        "id": "yY-i5ydfBkny",
        "outputId": "abcaf2ed-8ed1-4308-af3a-9213ebefdc91"
      },
      "outputs": [
        {
          "output_type": "execute_result",
          "data": {
            "text/html": [
              "<div>\n",
              "<style scoped>\n",
              "    .dataframe tbody tr th:only-of-type {\n",
              "        vertical-align: middle;\n",
              "    }\n",
              "\n",
              "    .dataframe tbody tr th {\n",
              "        vertical-align: top;\n",
              "    }\n",
              "\n",
              "    .dataframe thead th {\n",
              "        text-align: right;\n",
              "    }\n",
              "</style>\n",
              "<table border=\"1\" class=\"dataframe\">\n",
              "  <thead>\n",
              "    <tr style=\"text-align: right;\">\n",
              "      <th></th>\n",
              "      <th>CrashAlcoh</th>\n",
              "      <th>CrashDay</th>\n",
              "      <th>CrashGrp</th>\n",
              "      <th>CrashHour</th>\n",
              "      <th>CrashLoc</th>\n",
              "      <th>CrashMonth</th>\n",
              "      <th>CrashYear</th>\n",
              "      <th>Developmen</th>\n",
              "      <th>DrvrAgeGrp</th>\n",
              "      <th>DrvrRace</th>\n",
              "      <th>DrvrSex</th>\n",
              "      <th>DrvrVehTyp</th>\n",
              "      <th>HitRun</th>\n",
              "      <th>LightCond</th>\n",
              "      <th>Locality</th>\n",
              "      <th>NumLanes</th>\n",
              "      <th>PedAgeGrp</th>\n",
              "      <th>PedPos</th>\n",
              "      <th>PedRace</th>\n",
              "      <th>PedSex</th>\n",
              "      <th>RdCharacte</th>\n",
              "      <th>RdClass</th>\n",
              "      <th>RdConditio</th>\n",
              "      <th>RdConfig</th>\n",
              "      <th>RdDefects</th>\n",
              "      <th>RdFeature</th>\n",
              "      <th>RdSurface</th>\n",
              "      <th>RuralUrban</th>\n",
              "      <th>SpeedLimit</th>\n",
              "      <th>TraffCntrl</th>\n",
              "      <th>Weather</th>\n",
              "      <th>Workzone</th>\n",
              "      <th>Class</th>\n",
              "    </tr>\n",
              "  </thead>\n",
              "  <tbody>\n",
              "    <tr>\n",
              "      <th>68</th>\n",
              "      <td>No</td>\n",
              "      <td>Saturday</td>\n",
              "      <td>Backing Vehicle</td>\n",
              "      <td>18</td>\n",
              "      <td>Non-Intersection</td>\n",
              "      <td>January</td>\n",
              "      <td>2007</td>\n",
              "      <td>Farms, Woods, Pastures</td>\n",
              "      <td>30-39</td>\n",
              "      <td>White</td>\n",
              "      <td>Female</td>\n",
              "      <td>Passenger Car</td>\n",
              "      <td>No</td>\n",
              "      <td>Dark - Roadway Not Lighted</td>\n",
              "      <td>Urban (&gt;70% Developed)</td>\n",
              "      <td>2.0</td>\n",
              "      <td>20-24</td>\n",
              "      <td>Travel Lane</td>\n",
              "      <td>Black</td>\n",
              "      <td>Female</td>\n",
              "      <td>Straight - Grade</td>\n",
              "      <td>Local Street</td>\n",
              "      <td>Dry</td>\n",
              "      <td>Two-Way, Not Divided</td>\n",
              "      <td>None</td>\n",
              "      <td>Driveway, Private</td>\n",
              "      <td>Coarse Asphalt</td>\n",
              "      <td>Urban</td>\n",
              "      <td>35.0</td>\n",
              "      <td>No Control Present</td>\n",
              "      <td>Clear</td>\n",
              "      <td>No</td>\n",
              "      <td>Minor Collision</td>\n",
              "    </tr>\n",
              "    <tr>\n",
              "      <th>165</th>\n",
              "      <td>No</td>\n",
              "      <td>Friday</td>\n",
              "      <td>Backing Vehicle</td>\n",
              "      <td>12</td>\n",
              "      <td>Non-Roadway</td>\n",
              "      <td>January</td>\n",
              "      <td>2007</td>\n",
              "      <td>Commercial</td>\n",
              "      <td>70+</td>\n",
              "      <td>White</td>\n",
              "      <td>Male</td>\n",
              "      <td>Passenger Car</td>\n",
              "      <td>No</td>\n",
              "      <td>Daylight</td>\n",
              "      <td>Urban (&gt;70% Developed)</td>\n",
              "      <td>4.0</td>\n",
              "      <td>21-25</td>\n",
              "      <td>Non-Roadway - Parking Lot / Other</td>\n",
              "      <td>White</td>\n",
              "      <td>Male</td>\n",
              "      <td>Straight - Level</td>\n",
              "      <td>Public Vehicular Area</td>\n",
              "      <td>Dry</td>\n",
              "      <td>Two-Way, Not Divided</td>\n",
              "      <td>None</td>\n",
              "      <td>Driveway, Public</td>\n",
              "      <td>Smooth Asphalt</td>\n",
              "      <td>Urban</td>\n",
              "      <td>25.0</td>\n",
              "      <td>No Control Present</td>\n",
              "      <td>Clear</td>\n",
              "      <td>No</td>\n",
              "      <td>Minor Collision</td>\n",
              "    </tr>\n",
              "    <tr>\n",
              "      <th>170</th>\n",
              "      <td>No</td>\n",
              "      <td>Sunday</td>\n",
              "      <td>Crossing Roadway - Vehicle Turning</td>\n",
              "      <td>15</td>\n",
              "      <td>Intersection</td>\n",
              "      <td>January</td>\n",
              "      <td>2007</td>\n",
              "      <td>Residential</td>\n",
              "      <td>40-49</td>\n",
              "      <td>White</td>\n",
              "      <td>Male</td>\n",
              "      <td>Van</td>\n",
              "      <td>Yes</td>\n",
              "      <td>Daylight</td>\n",
              "      <td>Urban (&gt;70% Developed)</td>\n",
              "      <td>2.0</td>\n",
              "      <td>11-15</td>\n",
              "      <td>Crosswalk Area</td>\n",
              "      <td>White</td>\n",
              "      <td>Male</td>\n",
              "      <td>Straight - Grade</td>\n",
              "      <td>Local Street</td>\n",
              "      <td>Dry</td>\n",
              "      <td>Two-Way, Not Divided</td>\n",
              "      <td>None</td>\n",
              "      <td>Four-Way Intersection</td>\n",
              "      <td>Smooth Asphalt</td>\n",
              "      <td>Urban</td>\n",
              "      <td>25.0</td>\n",
              "      <td>Stop Sign</td>\n",
              "      <td>Clear</td>\n",
              "      <td>No</td>\n",
              "      <td>Minor Collision</td>\n",
              "    </tr>\n",
              "    <tr>\n",
              "      <th>237</th>\n",
              "      <td>No</td>\n",
              "      <td>Thursday</td>\n",
              "      <td>Crossing Roadway - Vehicle Turning</td>\n",
              "      <td>12</td>\n",
              "      <td>Intersection</td>\n",
              "      <td>February</td>\n",
              "      <td>2007</td>\n",
              "      <td>Residential</td>\n",
              "      <td>25-29</td>\n",
              "      <td>Black</td>\n",
              "      <td>Female</td>\n",
              "      <td>Passenger Car</td>\n",
              "      <td>No</td>\n",
              "      <td>Daylight</td>\n",
              "      <td>Urban (&gt;70% Developed)</td>\n",
              "      <td>2.0</td>\n",
              "      <td>16-20</td>\n",
              "      <td>Crosswalk Area</td>\n",
              "      <td>Asian</td>\n",
              "      <td>Female</td>\n",
              "      <td>Straight - Level</td>\n",
              "      <td>Local Street</td>\n",
              "      <td>Dry</td>\n",
              "      <td>Two-Way, Not Divided</td>\n",
              "      <td>None</td>\n",
              "      <td>Four-Way Intersection</td>\n",
              "      <td>Smooth Asphalt</td>\n",
              "      <td>Urban</td>\n",
              "      <td>25.0</td>\n",
              "      <td>Stop And Go Signal</td>\n",
              "      <td>Clear</td>\n",
              "      <td>No</td>\n",
              "      <td>Minor Collision</td>\n",
              "    </tr>\n",
              "    <tr>\n",
              "      <th>264</th>\n",
              "      <td>No</td>\n",
              "      <td>Tuesday</td>\n",
              "      <td>Other / Unknown - Insufficient Details</td>\n",
              "      <td>9</td>\n",
              "      <td>Non-Intersection</td>\n",
              "      <td>February</td>\n",
              "      <td>2007</td>\n",
              "      <td>Residential</td>\n",
              "      <td>40-49</td>\n",
              "      <td>White</td>\n",
              "      <td>Male</td>\n",
              "      <td>Passenger Car</td>\n",
              "      <td>Yes</td>\n",
              "      <td>Daylight</td>\n",
              "      <td>Urban (&gt;70% Developed)</td>\n",
              "      <td>2.0</td>\n",
              "      <td>20-24</td>\n",
              "      <td>Other / Unknown</td>\n",
              "      <td>Black</td>\n",
              "      <td>Male</td>\n",
              "      <td>Straight - Level</td>\n",
              "      <td>Local Street</td>\n",
              "      <td>Wet</td>\n",
              "      <td>Two-Way, Not Divided</td>\n",
              "      <td>None</td>\n",
              "      <td>No Special Feature</td>\n",
              "      <td>Smooth Asphalt</td>\n",
              "      <td>Urban</td>\n",
              "      <td>35.0</td>\n",
              "      <td>No Control Present</td>\n",
              "      <td>Rain</td>\n",
              "      <td>No</td>\n",
              "      <td>Minor Collision</td>\n",
              "    </tr>\n",
              "  </tbody>\n",
              "</table>\n",
              "</div>"
            ],
            "text/plain": [
              "    CrashAlcoh  CrashDay  ... Workzone            Class\n",
              "68          No  Saturday  ...       No  Minor Collision\n",
              "165         No    Friday  ...       No  Minor Collision\n",
              "170         No    Sunday  ...       No  Minor Collision\n",
              "237         No  Thursday  ...       No  Minor Collision\n",
              "264         No   Tuesday  ...       No  Minor Collision\n",
              "\n",
              "[5 rows x 33 columns]"
            ]
          },
          "metadata": {},
          "execution_count": 24
        }
      ],
      "source": [
        "ml_data['NumLanes'] = ml_data['NumLanes'].fillna(ml_data['NumLanes'].median())\n",
        "ml_data['SpeedLimit'] = ml_data['SpeedLimit'].fillna(ml_data['SpeedLimit'].median())\n",
        "\n",
        "# Impute other missing values with mode. Feature mode often indicates N/A or uknown. See below.\n",
        "for column in ml_data:\n",
        "    if ml_data[column].isnull().any():\n",
        "            ml_data[column]=ml_data[column].fillna(ml_data[column].mode()[0])\n",
        "ml_data.head()"
      ]
    },
    {
      "cell_type": "markdown",
      "metadata": {
        "id": "kqvyi_0vVtu6"
      },
      "source": [
        "# Supervised Machine Learning"
      ]
    },
    {
      "cell_type": "code",
      "execution_count": 25,
      "metadata": {
        "colab": {
          "base_uri": "https://localhost:8080/"
        },
        "id": "dW2QR4jNVJLt",
        "outputId": "7cb499f4-c5d7-4e2e-c147-222f5a969867"
      },
      "outputs": [
        {
          "output_type": "execute_result",
          "data": {
            "text/plain": [
              "Minor Collision    269\n",
              "KSI                 24\n",
              "Name: Class, dtype: int64"
            ]
          },
          "metadata": {},
          "execution_count": 25
        }
      ],
      "source": [
        "ml_data['Class'].value_counts()\n"
      ]
    },
    {
      "cell_type": "code",
      "execution_count": 26,
      "metadata": {
        "colab": {
          "base_uri": "https://localhost:8080/",
          "height": 487
        },
        "id": "ZLxFHoSMVN44",
        "outputId": "199678c9-9cb7-4576-e9ec-eb3bea6e5c0a"
      },
      "outputs": [
        {
          "output_type": "execute_result",
          "data": {
            "text/html": [
              "<div>\n",
              "<style scoped>\n",
              "    .dataframe tbody tr th:only-of-type {\n",
              "        vertical-align: middle;\n",
              "    }\n",
              "\n",
              "    .dataframe tbody tr th {\n",
              "        vertical-align: top;\n",
              "    }\n",
              "\n",
              "    .dataframe thead th {\n",
              "        text-align: right;\n",
              "    }\n",
              "</style>\n",
              "<table border=\"1\" class=\"dataframe\">\n",
              "  <thead>\n",
              "    <tr style=\"text-align: right;\">\n",
              "      <th></th>\n",
              "      <th>CrashAlcoh</th>\n",
              "      <th>CrashDay</th>\n",
              "      <th>CrashGrp</th>\n",
              "      <th>CrashHour</th>\n",
              "      <th>CrashLoc</th>\n",
              "      <th>CrashMonth</th>\n",
              "      <th>CrashYear</th>\n",
              "      <th>Developmen</th>\n",
              "      <th>DrvrAgeGrp</th>\n",
              "      <th>DrvrRace</th>\n",
              "      <th>DrvrSex</th>\n",
              "      <th>DrvrVehTyp</th>\n",
              "      <th>HitRun</th>\n",
              "      <th>LightCond</th>\n",
              "      <th>Locality</th>\n",
              "      <th>NumLanes</th>\n",
              "      <th>PedAgeGrp</th>\n",
              "      <th>PedPos</th>\n",
              "      <th>PedRace</th>\n",
              "      <th>PedSex</th>\n",
              "      <th>RdCharacte</th>\n",
              "      <th>RdClass</th>\n",
              "      <th>RdConditio</th>\n",
              "      <th>RdConfig</th>\n",
              "      <th>RdDefects</th>\n",
              "      <th>RdFeature</th>\n",
              "      <th>RdSurface</th>\n",
              "      <th>RuralUrban</th>\n",
              "      <th>SpeedLimit</th>\n",
              "      <th>TraffCntrl</th>\n",
              "      <th>Weather</th>\n",
              "      <th>Workzone</th>\n",
              "    </tr>\n",
              "  </thead>\n",
              "  <tbody>\n",
              "    <tr>\n",
              "      <th>68</th>\n",
              "      <td>No</td>\n",
              "      <td>Saturday</td>\n",
              "      <td>Backing Vehicle</td>\n",
              "      <td>18</td>\n",
              "      <td>Non-Intersection</td>\n",
              "      <td>January</td>\n",
              "      <td>2007</td>\n",
              "      <td>Farms, Woods, Pastures</td>\n",
              "      <td>30-39</td>\n",
              "      <td>White</td>\n",
              "      <td>Female</td>\n",
              "      <td>Passenger Car</td>\n",
              "      <td>No</td>\n",
              "      <td>Dark - Roadway Not Lighted</td>\n",
              "      <td>Urban (&gt;70% Developed)</td>\n",
              "      <td>2.0</td>\n",
              "      <td>20-24</td>\n",
              "      <td>Travel Lane</td>\n",
              "      <td>Black</td>\n",
              "      <td>Female</td>\n",
              "      <td>Straight - Grade</td>\n",
              "      <td>Local Street</td>\n",
              "      <td>Dry</td>\n",
              "      <td>Two-Way, Not Divided</td>\n",
              "      <td>None</td>\n",
              "      <td>Driveway, Private</td>\n",
              "      <td>Coarse Asphalt</td>\n",
              "      <td>Urban</td>\n",
              "      <td>35.0</td>\n",
              "      <td>No Control Present</td>\n",
              "      <td>Clear</td>\n",
              "      <td>No</td>\n",
              "    </tr>\n",
              "    <tr>\n",
              "      <th>165</th>\n",
              "      <td>No</td>\n",
              "      <td>Friday</td>\n",
              "      <td>Backing Vehicle</td>\n",
              "      <td>12</td>\n",
              "      <td>Non-Roadway</td>\n",
              "      <td>January</td>\n",
              "      <td>2007</td>\n",
              "      <td>Commercial</td>\n",
              "      <td>70+</td>\n",
              "      <td>White</td>\n",
              "      <td>Male</td>\n",
              "      <td>Passenger Car</td>\n",
              "      <td>No</td>\n",
              "      <td>Daylight</td>\n",
              "      <td>Urban (&gt;70% Developed)</td>\n",
              "      <td>4.0</td>\n",
              "      <td>21-25</td>\n",
              "      <td>Non-Roadway - Parking Lot / Other</td>\n",
              "      <td>White</td>\n",
              "      <td>Male</td>\n",
              "      <td>Straight - Level</td>\n",
              "      <td>Public Vehicular Area</td>\n",
              "      <td>Dry</td>\n",
              "      <td>Two-Way, Not Divided</td>\n",
              "      <td>None</td>\n",
              "      <td>Driveway, Public</td>\n",
              "      <td>Smooth Asphalt</td>\n",
              "      <td>Urban</td>\n",
              "      <td>25.0</td>\n",
              "      <td>No Control Present</td>\n",
              "      <td>Clear</td>\n",
              "      <td>No</td>\n",
              "    </tr>\n",
              "    <tr>\n",
              "      <th>170</th>\n",
              "      <td>No</td>\n",
              "      <td>Sunday</td>\n",
              "      <td>Crossing Roadway - Vehicle Turning</td>\n",
              "      <td>15</td>\n",
              "      <td>Intersection</td>\n",
              "      <td>January</td>\n",
              "      <td>2007</td>\n",
              "      <td>Residential</td>\n",
              "      <td>40-49</td>\n",
              "      <td>White</td>\n",
              "      <td>Male</td>\n",
              "      <td>Van</td>\n",
              "      <td>Yes</td>\n",
              "      <td>Daylight</td>\n",
              "      <td>Urban (&gt;70% Developed)</td>\n",
              "      <td>2.0</td>\n",
              "      <td>11-15</td>\n",
              "      <td>Crosswalk Area</td>\n",
              "      <td>White</td>\n",
              "      <td>Male</td>\n",
              "      <td>Straight - Grade</td>\n",
              "      <td>Local Street</td>\n",
              "      <td>Dry</td>\n",
              "      <td>Two-Way, Not Divided</td>\n",
              "      <td>None</td>\n",
              "      <td>Four-Way Intersection</td>\n",
              "      <td>Smooth Asphalt</td>\n",
              "      <td>Urban</td>\n",
              "      <td>25.0</td>\n",
              "      <td>Stop Sign</td>\n",
              "      <td>Clear</td>\n",
              "      <td>No</td>\n",
              "    </tr>\n",
              "    <tr>\n",
              "      <th>237</th>\n",
              "      <td>No</td>\n",
              "      <td>Thursday</td>\n",
              "      <td>Crossing Roadway - Vehicle Turning</td>\n",
              "      <td>12</td>\n",
              "      <td>Intersection</td>\n",
              "      <td>February</td>\n",
              "      <td>2007</td>\n",
              "      <td>Residential</td>\n",
              "      <td>25-29</td>\n",
              "      <td>Black</td>\n",
              "      <td>Female</td>\n",
              "      <td>Passenger Car</td>\n",
              "      <td>No</td>\n",
              "      <td>Daylight</td>\n",
              "      <td>Urban (&gt;70% Developed)</td>\n",
              "      <td>2.0</td>\n",
              "      <td>16-20</td>\n",
              "      <td>Crosswalk Area</td>\n",
              "      <td>Asian</td>\n",
              "      <td>Female</td>\n",
              "      <td>Straight - Level</td>\n",
              "      <td>Local Street</td>\n",
              "      <td>Dry</td>\n",
              "      <td>Two-Way, Not Divided</td>\n",
              "      <td>None</td>\n",
              "      <td>Four-Way Intersection</td>\n",
              "      <td>Smooth Asphalt</td>\n",
              "      <td>Urban</td>\n",
              "      <td>25.0</td>\n",
              "      <td>Stop And Go Signal</td>\n",
              "      <td>Clear</td>\n",
              "      <td>No</td>\n",
              "    </tr>\n",
              "    <tr>\n",
              "      <th>264</th>\n",
              "      <td>No</td>\n",
              "      <td>Tuesday</td>\n",
              "      <td>Other / Unknown - Insufficient Details</td>\n",
              "      <td>9</td>\n",
              "      <td>Non-Intersection</td>\n",
              "      <td>February</td>\n",
              "      <td>2007</td>\n",
              "      <td>Residential</td>\n",
              "      <td>40-49</td>\n",
              "      <td>White</td>\n",
              "      <td>Male</td>\n",
              "      <td>Passenger Car</td>\n",
              "      <td>Yes</td>\n",
              "      <td>Daylight</td>\n",
              "      <td>Urban (&gt;70% Developed)</td>\n",
              "      <td>2.0</td>\n",
              "      <td>20-24</td>\n",
              "      <td>Other / Unknown</td>\n",
              "      <td>Black</td>\n",
              "      <td>Male</td>\n",
              "      <td>Straight - Level</td>\n",
              "      <td>Local Street</td>\n",
              "      <td>Wet</td>\n",
              "      <td>Two-Way, Not Divided</td>\n",
              "      <td>None</td>\n",
              "      <td>No Special Feature</td>\n",
              "      <td>Smooth Asphalt</td>\n",
              "      <td>Urban</td>\n",
              "      <td>35.0</td>\n",
              "      <td>No Control Present</td>\n",
              "      <td>Rain</td>\n",
              "      <td>No</td>\n",
              "    </tr>\n",
              "  </tbody>\n",
              "</table>\n",
              "</div>"
            ],
            "text/plain": [
              "    CrashAlcoh  CrashDay  ... Weather  Workzone\n",
              "68          No  Saturday  ...   Clear        No\n",
              "165         No    Friday  ...   Clear        No\n",
              "170         No    Sunday  ...   Clear        No\n",
              "237         No  Thursday  ...   Clear        No\n",
              "264         No   Tuesday  ...    Rain        No\n",
              "\n",
              "[5 rows x 32 columns]"
            ]
          },
          "metadata": {},
          "execution_count": 26
        }
      ],
      "source": [
        "le = preprocessing.LabelEncoder()\n",
        "y = le.fit_transform(ml_data.Class)\n",
        "X = ml_data.drop(['Class'], axis=1)\n",
        "X.head()"
      ]
    },
    {
      "cell_type": "code",
      "source": [
        "pd.DataFrame(y).value_counts()"
      ],
      "metadata": {
        "colab": {
          "base_uri": "https://localhost:8080/"
        },
        "id": "lD1fd5NR-8wo",
        "outputId": "2feafea5-cc18-465d-e884-e5a0bfed5361"
      },
      "execution_count": 27,
      "outputs": [
        {
          "output_type": "execute_result",
          "data": {
            "text/plain": [
              "1    269\n",
              "0     24\n",
              "dtype: int64"
            ]
          },
          "metadata": {},
          "execution_count": 27
        }
      ]
    },
    {
      "cell_type": "code",
      "execution_count": 28,
      "metadata": {
        "colab": {
          "base_uri": "https://localhost:8080/"
        },
        "id": "W6OClf2oYeOJ",
        "outputId": "f901c536-7143-4d51-feb0-4db8a4df481f"
      },
      "outputs": [
        {
          "output_type": "execute_result",
          "data": {
            "text/plain": [
              "(293, 185)"
            ]
          },
          "metadata": {},
          "execution_count": 28
        }
      ],
      "source": [
        "X = pd.get_dummies(X)\n",
        "X.shape\n"
      ]
    },
    {
      "cell_type": "markdown",
      "source": [
        "# ML Experimentation "
      ],
      "metadata": {
        "id": "V3VIZ3G8qM_a"
      }
    },
    {
      "cell_type": "code",
      "source": [
        "from sklearn.metrics import f1_score, make_scorer\n",
        "\n",
        "f1_custom = make_scorer(f1_score , average='weighted', pos_label=1)"
      ],
      "metadata": {
        "id": "LyBwE1ow6uzb"
      },
      "execution_count": null,
      "outputs": []
    },
    {
      "cell_type": "code",
      "source": [
        "def plot_metric_results(grid):\n",
        "    \"\"\"\n",
        "    Params: \n",
        "        grid: A trained GridSearchCV object.\n",
        "    \"\"\"\n",
        "    ## Results from grid search\n",
        "    results = grid.cv_results_\n",
        "    means_test = results['mean_test_score']\n",
        "    stds_test = results['std_test_score']\n",
        "    means_train = results['mean_train_score']\n",
        "    stds_train = results['std_train_score']\n",
        "\n",
        "    ## Getting indexes of values per hyper-parameter\n",
        "    masks=[]\n",
        "    masks_names= list(grid.best_params_.keys())\n",
        "    for p_k, p_v in grid.best_params_.items():\n",
        "        masks.append(list(results['param_'+p_k].data==p_v))\n",
        "\n",
        "    params=grid.param_grid\n",
        "\n",
        "    ## Ploting results\n",
        "    fig, ax = plt.subplots(len(params),1,sharex='none', sharey='all',figsize=(8,20))\n",
        "    fig.suptitle('Score per parameter')\n",
        "    fig.text(0.04, 0.5, 'MEAN SCORE', va='center', rotation='vertical')\n",
        "    pram_preformace_in_best = {}\n",
        "    for i, p in enumerate(masks_names):\n",
        "        m = np.stack(masks[:i] + masks[i+1:])\n",
        "        pram_preformace_in_best\n",
        "        best_parms_mask = m.all(axis=0)\n",
        "        best_index = np.where(best_parms_mask)[0]\n",
        "        x = np.array(params[p])\n",
        "        y_1 = np.array(means_test[best_index])\n",
        "        e_1 = np.array(stds_test[best_index])\n",
        "        y_2 = np.array(means_train[best_index])\n",
        "        e_2 = np.array(stds_train[best_index])\n",
        "        ax[i].errorbar(x, y_1, e_1, linestyle='--', marker='o', label='test')\n",
        "        ax[i].errorbar(x, y_2, e_2, linestyle='-', marker='^',label='train' )\n",
        "        ax[i].set_xlabel(p.upper())\n",
        "\n",
        "    plt.legend()\n",
        "    plt.show()"
      ],
      "metadata": {
        "id": "mcQOrSMZnT5h"
      },
      "execution_count": null,
      "outputs": []
    },
    {
      "cell_type": "code",
      "source": [
        "def plot_combined_results(cv_results, param_x, param_z, metric='mean_test_score'):\n",
        "    \"\"\"\n",
        "    cv_results - cv_results_ attribute of a GridSearchCV instance (or similar)\n",
        "    param_x - name of grid search parameter to plot on x axis\n",
        "    param_z - name of grid search parameter to plot by line color\n",
        "    \"\"\"\n",
        "    cv_results = pd.DataFrame(cv_results)\n",
        "    col_x = 'param_' + param_x\n",
        "    col_z = 'param_' + param_z\n",
        "    fig, ax = plt.subplots(1, 1, figsize=(8, 8))\n",
        "    sns.pointplot(x=col_x, y=metric, hue=col_z, data=cv_results, ci=99, n_boot=64, ax=ax)\n",
        "    ax.set_title(\"CV Grid Search Results\")\n",
        "    ax.set_xlabel(param_x)\n",
        "    ax.set_ylabel(metric)\n",
        "    ax.legend(title=param_z, loc='best')\n",
        "    return fig"
      ],
      "metadata": {
        "id": "cRTz-SHqpbwc"
      },
      "execution_count": null,
      "outputs": []
    },
    {
      "cell_type": "code",
      "source": [
        "def print_results(grid):\n",
        "  print (\"Best Parameters\")\n",
        "  print (grid.best_params_)\n",
        "  print()\n",
        "  print (\"Best Estimator\")\n",
        "  print (grid.best_estimator_)\n",
        "  print()\n",
        "  print (\"Best F1 Score\")\n",
        "  print (grid.best_score_)"
      ],
      "metadata": {
        "id": "KHjctWkHtrpM"
      },
      "execution_count": null,
      "outputs": []
    },
    {
      "cell_type": "code",
      "source": [
        "X_train, X_test, y_train, y_test = model_selection.train_test_split(X, y, random_state=42, stratify=y)\n"
      ],
      "metadata": {
        "id": "ZqAMnSg5bvFa"
      },
      "execution_count": null,
      "outputs": []
    },
    {
      "cell_type": "markdown",
      "source": [
        "## Decision Tree"
      ],
      "metadata": {
        "id": "nwinLbqWq35n"
      }
    },
    {
      "cell_type": "code",
      "source": [
        "dt_clf =  tree.DecisionTreeClassifier()\n",
        "param_dict = {\"criterion\": [\"gini\", \"entropy\"], \"max_depth\": range(1,10), \"min_samples_leaf\": range(1,5)}\n",
        "grid = model_selection.GridSearchCV(dt_clf, param_grid=param_dict, cv=5, scoring=f1_custom, n_jobs=-1, return_train_score=True)\n",
        "grid.fit(X_train, y_train);"
      ],
      "metadata": {
        "id": "WCgJg2-PbvHx"
      },
      "execution_count": null,
      "outputs": []
    },
    {
      "cell_type": "code",
      "source": [
        "print_results(grid)"
      ],
      "metadata": {
        "id": "Mjyo8ej3t7_A"
      },
      "execution_count": null,
      "outputs": []
    },
    {
      "cell_type": "code",
      "source": [
        "sns.set_theme(style=\"darkgrid\")\n",
        "plot_metric_results(grid)"
      ],
      "metadata": {
        "id": "J77_s2pOoEFx"
      },
      "execution_count": null,
      "outputs": []
    },
    {
      "cell_type": "code",
      "source": [
        "fig = plot_combined_results(grid.cv_results_, 'min_samples_leaf', 'max_depth')"
      ],
      "metadata": {
        "id": "Lk19SaZ-pQW-"
      },
      "execution_count": null,
      "outputs": []
    },
    {
      "cell_type": "code",
      "source": [
        "rf_clf =  ensemble.RandomForestClassifier()\n",
        "param_dict = {'bootstrap': [True, False],\n",
        " 'max_depth': [1, 2, 5, 10],\n",
        " 'min_samples_leaf': [1, 2, 4],\n",
        " 'min_samples_split': [1, 2, 5, 10],\n",
        " 'n_estimators': [10, 20, 30, 40, 50]}\n",
        "rf_grid = model_selection.GridSearchCV(rf_clf, param_grid=param_dict, cv=5, scoring=f1_custom, n_jobs=-1, return_train_score=True)\n",
        "rf_grid.fit(X_train, y_train);"
      ],
      "metadata": {
        "id": "lx4nRABbrEJ2"
      },
      "execution_count": null,
      "outputs": []
    },
    {
      "cell_type": "code",
      "source": [
        "print_results(rf_grid)"
      ],
      "metadata": {
        "id": "W3FuKo_jrESy"
      },
      "execution_count": null,
      "outputs": []
    },
    {
      "cell_type": "code",
      "source": [
        "plot_metric_results(rf_grid)"
      ],
      "metadata": {
        "id": "WGinMnfjrE7x"
      },
      "execution_count": null,
      "outputs": []
    },
    {
      "cell_type": "code",
      "source": [
        "fig = plot_combined_results(rf_grid.cv_results_, 'n_estimators', 'max_depth')"
      ],
      "metadata": {
        "id": "PhOYq0aIrFFD"
      },
      "execution_count": null,
      "outputs": []
    },
    {
      "cell_type": "markdown",
      "source": [
        "### KNN"
      ],
      "metadata": {
        "id": "oQJI7A9JyU9F"
      }
    },
    {
      "cell_type": "code",
      "source": [
        "knn_clf =  neighbors.KNeighborsClassifier()\n",
        "param_dict = {'n_neighbors': [1,3,5,7,9,11,13,15],\n",
        "              'algorithm': ['ball_tree', 'kd_tree', 'brute']}\n",
        "knn_grid = model_selection.GridSearchCV(knn_clf, param_grid=param_dict, cv=5, scoring=f1_custom, n_jobs=-1, return_train_score=True)\n",
        "knn_grid.fit(X_train, y_train);"
      ],
      "metadata": {
        "id": "7WsqClf5yWuX"
      },
      "execution_count": null,
      "outputs": []
    },
    {
      "cell_type": "code",
      "source": [
        "print_results(knn_grid)"
      ],
      "metadata": {
        "id": "-pcdYiXDyWwQ"
      },
      "execution_count": null,
      "outputs": []
    },
    {
      "cell_type": "code",
      "source": [
        "plot_metric_results(knn_grid)"
      ],
      "metadata": {
        "id": "H3Ab9zuvyWyX"
      },
      "execution_count": null,
      "outputs": []
    },
    {
      "cell_type": "code",
      "source": [
        "fig = plot_combined_results(knn_grid.cv_results_, 'algorithm', 'n_neighbors')\n"
      ],
      "metadata": {
        "id": "2G2ZnbfrzwX4"
      },
      "execution_count": null,
      "outputs": []
    },
    {
      "cell_type": "markdown",
      "source": [
        "### MLP"
      ],
      "metadata": {
        "id": "5RQEpblV0rX5"
      }
    },
    {
      "cell_type": "code",
      "source": [
        "scaler = preprocessing.StandardScaler()\n",
        "scaler.fit(X)\n",
        "X = scaler.transform(X)"
      ],
      "metadata": {
        "id": "zsaDPNpH1dMC"
      },
      "execution_count": null,
      "outputs": []
    },
    {
      "cell_type": "code",
      "source": [
        "mlp_clf =  neural_network.MLPClassifier()\n",
        "param_dict = {\n",
        "     'solver': ['adam', 'lbfgs'],\n",
        "     'learning_rate_init': [0.0001],\n",
        "     'max_iter': [10000],\n",
        "     'hidden_layer_sizes': [(20, 20, 20), (100, 100, 100), (20, 20, 20, 20, 20), (100, 100, 100, 100, 100)],\n",
        "     'activation': ['logistic', 'tanh']\n",
        "     }\n",
        "\n",
        "mlp_grid = model_selection.GridSearchCV(mlp_clf, param_grid=param_dict, cv=5, scoring=f1_custom, n_jobs=-1, return_train_score=True)\n",
        "mlp_grid.fit(X_train, y_train);"
      ],
      "metadata": {
        "id": "YYCjMsy00tDz"
      },
      "execution_count": null,
      "outputs": []
    },
    {
      "cell_type": "code",
      "source": [
        "print_results(mlp_grid)"
      ],
      "metadata": {
        "id": "5-BG_WHA0tFv"
      },
      "execution_count": null,
      "outputs": []
    },
    {
      "cell_type": "code",
      "source": [
        "fig = plot_combined_results(mlp_grid.cv_results_, 'activation', 'hidden_layer_sizes')\n"
      ],
      "metadata": {
        "id": "EoWZIcAi0tH6"
      },
      "execution_count": null,
      "outputs": []
    },
    {
      "cell_type": "markdown",
      "metadata": {
        "id": "IiqoaTP7ndTH"
      },
      "source": [
        "# Results"
      ]
    },
    {
      "cell_type": "code",
      "execution_count": null,
      "metadata": {
        "id": "lyTkPkt1a71Y"
      },
      "outputs": [],
      "source": [
        "# Functions for running and validating supervised classification models on categorical target\n",
        "def model_eval(df, target, model):\n",
        "\n",
        "    kf = model_selection.StratifiedKFold(n_splits=5, shuffle=True)\n",
        "\n",
        "    # Arrays to store metrics\n",
        "    recall = []\n",
        "    precision = []\n",
        "    f1 = []\n",
        "    timer = []\n",
        "\n",
        "\n",
        "    for train_index, test_index in kf.split(df, target):\n",
        "        X_train, X_test = df.iloc[train_index], df.iloc[test_index]\n",
        "        y_train, y_test = target[train_index], target[test_index]\n",
        "        start = time.time()\n",
        "        model.fit(X_train, y_train)\n",
        "        time_spent = time.time() - start\n",
        "        y_pred = model.predict(X_test)\n",
        "\n",
        "        recall += [metrics.recall_score(y_pred, y_test, zero_division=0, average=\"weighted\", labels=[1])]\n",
        "        precision += [metrics.precision_score(y_pred, y_test, average=\"weighted\", labels=[1])]\n",
        "        f1 += [metrics.f1_score(y_pred, y_test, average=\"weighted\", labels=[1])]\n",
        "        timer+= [time_spent]\n",
        "\n",
        "    \n",
        "    print(\"recall    = {:.4f} ±{:.4f}\".format(np.mean(recall), np.std(recall)))\n",
        "    print(\"precision = {:.4f} ±{:.4f}\".format(np.mean(precision), np.std(precision)))\n",
        "    print(\"f1        = {:.4f} ±{:.4f}\".format(np.mean(f1), np.std(f1)))\n",
        "    print('The time to fit this model was {:.4f} seconds'.format(np.mean(timer)))\n",
        "\n",
        "\n",
        "def scaled_model_eval(df, target, model):\n",
        "\n",
        "    kf = model_selection.StratifiedKFold(n_splits=5, shuffle=True)\n",
        "\n",
        "    # Arrays to store metrics\n",
        "    recall = []\n",
        "    precision = []\n",
        "    f1 = []\n",
        "    timer= []\n",
        "\n",
        "    for train_index, test_index in kf.split(df, target):\n",
        "        X_train, X_test = df.iloc[train_index], df.iloc[test_index]\n",
        "        y_train, y_test = target[train_index], target[test_index]\n",
        "        \n",
        "        X_scaler = preprocessing.StandardScaler()\n",
        "    \n",
        "        X_train = X_scaler.fit_transform(X_train)\n",
        "        start = time.time()\n",
        "        model.fit(X_train, y_train)\n",
        "        time_spent = time.time() - start\n",
        "        X_test = X_scaler.transform(X_test)\n",
        "        y_pred = model.predict(X_test)\n",
        "\n",
        "        \n",
        "        recall += [metrics.recall_score(y_pred, y_test, average=\"macro\", zero_division=0)]\n",
        "        precision += [metrics.precision_score(y_pred, y_test, average=\"macro\")]\n",
        "        f1 += [metrics.f1_score(y_pred, y_test, average=\"macro\")]\n",
        "        timer+= [time_spent]\n",
        "\n",
        "    \n",
        "    print(\"recall    = {:.4f} ±{:.4f}\".format(np.mean(recall), np.std(recall)))\n",
        "    print(\"precision = {:.4f} ±{:.4f}\".format(np.mean(precision), np.std(precision)))\n",
        "    print(\"f1        = {:.4f} ±{:.4f}\".format(np.mean(f1), np.std(f1)))\n",
        "    print('The time to fit this model was {:.4f} seconds'.format(np.mean(timer)))\n"
      ]
    },
    {
      "cell_type": "markdown",
      "source": [
        "### Machine Learning"
      ],
      "metadata": {
        "id": "E3R3I-ivtLzg"
      }
    },
    {
      "cell_type": "markdown",
      "source": [
        "### Decision Tree"
      ],
      "metadata": {
        "id": "VvKeAzkJtYNC"
      }
    },
    {
      "cell_type": "code",
      "source": [
        "y = pd.DataFrame(y)\n"
      ],
      "metadata": {
        "id": "iIYb8VMeKm_8"
      },
      "execution_count": null,
      "outputs": []
    },
    {
      "cell_type": "code",
      "source": [
        "dt_model = tree.DecisionTreeClassifier(max_depth=7, min_samples_leaf=4)\n",
        "model_eval(X, y, dt_model)"
      ],
      "metadata": {
        "id": "wSVwMMpEws5_"
      },
      "execution_count": null,
      "outputs": []
    },
    {
      "cell_type": "markdown",
      "source": [
        "### Random Forest"
      ],
      "metadata": {
        "id": "AI6lLjH_tfvd"
      }
    },
    {
      "cell_type": "code",
      "source": [
        "rf_model = ensemble.RandomForestClassifier(max_depth=10, n_estimators=10)\n",
        "model_eval(X, y, rf_model)"
      ],
      "metadata": {
        "id": "t88mXLidw3EQ"
      },
      "execution_count": null,
      "outputs": []
    },
    {
      "cell_type": "code",
      "source": [
        "important_features= rf_model.feature_importances_.argsort()[-1:-15:-1]\n",
        "X.columns[important_features]\n"
      ],
      "metadata": {
        "id": "Q5CftTfAEhH7"
      },
      "execution_count": null,
      "outputs": []
    },
    {
      "cell_type": "markdown",
      "source": [
        "### K Nearest Neighbors"
      ],
      "metadata": {
        "id": "3qColzoRtf4o"
      }
    },
    {
      "cell_type": "code",
      "source": [
        "knn_model= neighbors.KNeighborsClassifier(algorithm='ball_tree', n_neighbors=7)\n",
        "model_eval(X, y, knn_model)"
      ],
      "metadata": {
        "id": "v15T82fdw-2J"
      },
      "execution_count": null,
      "outputs": []
    },
    {
      "cell_type": "markdown",
      "source": [
        "### Multilayer Perceptron"
      ],
      "metadata": {
        "id": "L38-H2abtgAb"
      }
    },
    {
      "cell_type": "code",
      "source": [
        "mlp_model = neural_network.MLPClassifier(activation='logistic', hidden_layer_sizes=(20, 20, 20),\n",
        "              learning_rate_init=0.0001, max_iter=10000)\n",
        "model_eval(X, y, mlp_model)"
      ],
      "metadata": {
        "id": "hJwWxDA-xEiT"
      },
      "execution_count": null,
      "outputs": []
    },
    {
      "cell_type": "code",
      "execution_count": null,
      "metadata": {
        "id": "Oii0Ue7Onhlx"
      },
      "outputs": [],
      "source": [
        "cluster= pd.read_csv('/content/gdrive/My Drive/Urban_Computing/Urban_Computing_Project_Fall_2021/First_Cluster.csv')\n",
        "cluster = cluster.drop(['X', 'Y'], axis=1)\n",
        "cluster = cluster.merge(ch_data, on='OBJECTID_1', how='inner')\n",
        "cluster = cluster.loc[(cluster['Cluster'] != 'No Cluster')]"
      ]
    },
    {
      "cell_type": "code",
      "execution_count": null,
      "metadata": {
        "id": "rPlEuf__oLrr"
      },
      "outputs": [],
      "source": [
        "px.set_mapbox_access_token(\"pk.eyJ1Ijoic2hha2Fzb20iLCJhIjoiY2plMWg1NGFpMXZ5NjJxbjhlM2ttN3AwbiJ9.RtGYHmreKiyBfHuElgYq_w\")\n",
        "px.scatter_mapbox(cluster, lat=\"Y\", lon=\"X\",  zoom=11, color='Cluster', color_discrete_sequence=px.colors.qualitative.Vivid, hover_data=[\"CrashSevr\"])           "
      ]
    },
    {
      "cell_type": "code",
      "execution_count": null,
      "metadata": {
        "id": "HIiiyMi0qEtu"
      },
      "outputs": [],
      "source": [
        "  "
      ]
    },
    {
      "cell_type": "markdown",
      "metadata": {
        "id": "pW7r2cMnqAcp"
      },
      "source": [
        "# New Section"
      ]
    },
    {
      "cell_type": "code",
      "execution_count": 29,
      "metadata": {
        "id": "sAN2dm25wicR"
      },
      "outputs": [],
      "source": [
        "data_ns = pd.read_csv('/content/gdrive/My Drive/Urban_Computing/Urban_Computing_Project_Fall_2021/toMerge.csv')\n"
      ]
    },
    {
      "cell_type": "code",
      "execution_count": 30,
      "metadata": {
        "colab": {
          "base_uri": "https://localhost:8080/",
          "height": 206
        },
        "id": "WeRbFCVhyf2_",
        "outputId": "5995e11e-58f5-4920-a6e9-1cbd20b0f4d4"
      },
      "outputs": [
        {
          "output_type": "execute_result",
          "data": {
            "text/html": [
              "<div>\n",
              "<style scoped>\n",
              "    .dataframe tbody tr th:only-of-type {\n",
              "        vertical-align: middle;\n",
              "    }\n",
              "\n",
              "    .dataframe tbody tr th {\n",
              "        vertical-align: top;\n",
              "    }\n",
              "\n",
              "    .dataframe thead th {\n",
              "        text-align: right;\n",
              "    }\n",
              "</style>\n",
              "<table border=\"1\" class=\"dataframe\">\n",
              "  <thead>\n",
              "    <tr style=\"text-align: right;\">\n",
              "      <th></th>\n",
              "      <th>OBJECTID_1</th>\n",
              "      <th>X</th>\n",
              "      <th>Y</th>\n",
              "    </tr>\n",
              "  </thead>\n",
              "  <tbody>\n",
              "    <tr>\n",
              "      <th>0</th>\n",
              "      <td>69</td>\n",
              "      <td>-79.0605</td>\n",
              "      <td>35.91948</td>\n",
              "    </tr>\n",
              "    <tr>\n",
              "      <th>1</th>\n",
              "      <td>166</td>\n",
              "      <td>-79.0286</td>\n",
              "      <td>35.92906</td>\n",
              "    </tr>\n",
              "    <tr>\n",
              "      <th>2</th>\n",
              "      <td>171</td>\n",
              "      <td>-79.0692</td>\n",
              "      <td>35.88617</td>\n",
              "    </tr>\n",
              "    <tr>\n",
              "      <th>3</th>\n",
              "      <td>238</td>\n",
              "      <td>-79.0498</td>\n",
              "      <td>35.91652</td>\n",
              "    </tr>\n",
              "    <tr>\n",
              "      <th>4</th>\n",
              "      <td>265</td>\n",
              "      <td>-79.0556</td>\n",
              "      <td>35.93511</td>\n",
              "    </tr>\n",
              "  </tbody>\n",
              "</table>\n",
              "</div>"
            ],
            "text/plain": [
              "   OBJECTID_1        X         Y\n",
              "0          69 -79.0605  35.91948\n",
              "1         166 -79.0286  35.92906\n",
              "2         171 -79.0692  35.88617\n",
              "3         238 -79.0498  35.91652\n",
              "4         265 -79.0556  35.93511"
            ]
          },
          "metadata": {},
          "execution_count": 30
        }
      ],
      "source": [
        "data_df = data_ns[[\"OBJECTID_1\", \"X\", \"Y\"]].copy()\n",
        "\n",
        "data_df.head()"
      ]
    },
    {
      "cell_type": "code",
      "execution_count": 31,
      "metadata": {
        "colab": {
          "base_uri": "https://localhost:8080/"
        },
        "id": "M-LI-giDSC3M",
        "outputId": "a498f3c9-d770-4eed-c657-dc3c7abde380"
      },
      "outputs": [
        {
          "output_type": "stream",
          "name": "stdout",
          "text": [
            "0.09354391764162316\n"
          ]
        }
      ],
      "source": [
        "from scipy.spatial.distance import cdist\n",
        "\n",
        "data_np = data_df.to_numpy()\n",
        "\n",
        "pos = dict()\n",
        "\n",
        "for node in data_np:\n",
        "  pos[node[0].astype(int)] = node[1:3].tolist()\n",
        "\n",
        "data_np_xy = data_np[:, 1:3]\n",
        "data_dist = cdist(data_np_xy, data_np_xy, \"euclidean\")\n",
        "\n",
        "print(np.amax(data_dist))"
      ]
    },
    {
      "cell_type": "code",
      "execution_count": 32,
      "metadata": {
        "id": "i-tAjnNMhWp6"
      },
      "outputs": [],
      "source": [
        "def getDistThreshold(data_np, distances, threshold):\n",
        "\n",
        "  data_dist_include = np.where(distances < threshold, distances, 0)\n",
        "\n",
        "  crashes_dict = dict()\n",
        "  for index_crash, crash in enumerate(data_dist_include):\n",
        "    curr_crashes = list()\n",
        "    for index_curr, curr_crash in enumerate(crash):\n",
        "      if curr_crash != 0:\n",
        "        curr_crashes.append(data_np[index_curr, 0].astype(int))\n",
        "    crashes_dict[data_np[index_crash, 0].astype(int)] = curr_crashes\n",
        "\n",
        "  return crashes_dict"
      ]
    },
    {
      "cell_type": "code",
      "execution_count": 33,
      "metadata": {
        "colab": {
          "base_uri": "https://localhost:8080/"
        },
        "id": "Y2rbLyRov4ve",
        "outputId": "8b1b665d-4c08-4297-b953-b40f9d8046fa"
      },
      "outputs": [
        {
          "output_type": "stream",
          "name": "stdout",
          "text": [
            "[4.00000000e-06 2.28408163e-04 4.52816327e-04 6.77224490e-04\n",
            " 9.01632653e-04 1.12604082e-03 1.35044898e-03 1.57485714e-03\n",
            " 1.79926531e-03 2.02367347e-03 2.24808163e-03 2.47248980e-03\n",
            " 2.69689796e-03 2.92130612e-03 3.14571429e-03 3.37012245e-03\n",
            " 3.59453061e-03 3.81893878e-03 4.04334694e-03 4.26775510e-03\n",
            " 4.49216327e-03 4.71657143e-03 4.94097959e-03 5.16538776e-03\n",
            " 5.38979592e-03 5.61420408e-03 5.83861224e-03 6.06302041e-03\n",
            " 6.28742857e-03 6.51183673e-03 6.73624490e-03 6.96065306e-03\n",
            " 7.18506122e-03 7.40946939e-03 7.63387755e-03 7.85828571e-03\n",
            " 8.08269388e-03 8.30710204e-03 8.53151020e-03 8.75591837e-03\n",
            " 8.98032653e-03 9.20473469e-03 9.42914286e-03 9.65355102e-03\n",
            " 9.87795918e-03 1.01023673e-02 1.03267755e-02 1.05511837e-02\n",
            " 1.07755918e-02 1.10000000e-02]\n",
            "[295, 190, 168, 152, 134, 116, 108, 94, 75, 71, 62, 56, 51, 46, 42, 39, 33, 30, 28, 25, 25, 25, 23, 21, 20, 18, 18, 18, 18, 14, 14, 12, 11, 10, 10, 7, 6, 6, 5, 4, 4, 3, 3, 3, 3, 3, 3, 3, 3, 1]\n"
          ]
        }
      ],
      "source": [
        "# Max threshold is 0.011\n",
        "# Min threshold is 0.000004\n",
        "thresholds = np.linspace(0.000004, 0.011, 50)\n",
        "\n",
        "print(thresholds)\n",
        "\n",
        "num_components = list()\n",
        "for x in thresholds:\n",
        "  curr_crashes = getDistThreshold(data_np, data_dist, x)\n",
        "  graph = nx.Graph(curr_crashes)\n",
        "  num_components.append(nx.number_connected_components(graph))\n",
        "\n",
        "print(num_components)"
      ]
    },
    {
      "cell_type": "code",
      "execution_count": 34,
      "metadata": {
        "colab": {
          "base_uri": "https://localhost:8080/",
          "height": 303
        },
        "id": "EvRGWeLWwAnp",
        "outputId": "dae032b0-03ce-4d6c-af75-bc8375a8b978"
      },
      "outputs": [
        {
          "output_type": "execute_result",
          "data": {
            "text/plain": [
              "Text(0, 0.5, 'Distance Threshold')"
            ]
          },
          "metadata": {},
          "execution_count": 34
        },
        {
          "output_type": "display_data",
          "data": {
            "image/png": "[encoded data removed]",
            "text/plain": [
              "<Figure size 432x288 with 1 Axes>"
            ]
          },
          "metadata": {}
        }
      ],
      "source": [
        "plt.plot(num_components, thresholds)\n",
        "plt.xlabel(\"Number of Strongly Connected Components\",fontsize=14)\n",
        "plt.ylabel(\"Distance Threshold\",fontsize=14)"
      ]
    },
    {
      "cell_type": "code",
      "execution_count": 35,
      "metadata": {
        "colab": {
          "base_uri": "https://localhost:8080/",
          "height": 286
        },
        "id": "-yYS5ff2zNKW",
        "outputId": "ad655b67-cfcf-4eb8-e90a-c30a21ab09a4"
      },
      "outputs": [
        {
          "output_type": "display_data",
          "data": {
            "image/png": "[encoded data removed]",
            "text/plain": [
              "<Figure size 432x288 with 1 Axes>"
            ]
          },
          "metadata": {}
        }
      ],
      "source": [
        "plt.plot(num_components, thresholds)\n",
        "plt.xlabel(\"Number of Strongly Connected Components\",fontsize=14)\n",
        "plt.ylabel(\"Distance Threshold\",fontsize=14)\n",
        "plt.yscale(\"log\")"
      ]
    },
    {
      "cell_type": "code",
      "execution_count": 36,
      "metadata": {
        "colab": {
          "base_uri": "https://localhost:8080/",
          "height": 319
        },
        "id": "fSfbRtvYzrIt",
        "outputId": "289dc598-b163-4ed7-9bd0-578b78b94352"
      },
      "outputs": [
        {
          "output_type": "display_data",
          "data": {
            "image/png": "[encoded data removed]",
            "text/plain": [
              "<Figure size 432x288 with 1 Axes>"
            ]
          },
          "metadata": {}
        }
      ],
      "source": [
        "crashes_dict = getDistThreshold(data_np, data_dist, 0.00472)\n",
        "\n",
        "graph = nx.Graph(crashes_dict)\n",
        "\n",
        "nx.draw(graph, pos, width=0.30, node_size=50)"
      ]
    },
    {
      "cell_type": "code",
      "execution_count": 37,
      "metadata": {
        "colab": {
          "base_uri": "https://localhost:8080/"
        },
        "id": "Gju-q-Xkz4Am",
        "outputId": "881557c7-14a3-4b0e-a956-434191fcc760"
      },
      "outputs": [
        {
          "output_type": "stream",
          "name": "stdout",
          "text": [
            "Component 1: Nodes: [69, 238, 460, 661, 792, 1018, 1098, 1593, 1620, 1677, 1754, 2096, 2350, 2385, 2387, 2503, 2528, 2799, 2941, 2962, 3256, 3928, 4566, 4654, 4967, 4988, 5037, 5343, 5388, 5538, 5636, 5682, 6006, 6558, 6706, 7051, 7491, 7577, 8177, 8394, 8553, 9027, 9227, 9256, 9390, 9823, 9912, 10543, 10575, 11210, 11373, 11396, 11458, 11518, 11743, 12157, 12446, 12518, 12703, 12898, 12919, 13019, 13208, 13550, 13818, 13867, 14089, 14311, 14657, 14659, 14673, 14763, 14869, 15148, 15306, 15489, 15544, 15588, 15973, 16058, 17062, 17336, 17602, 17681, 18091, 18400, 18783, 18789, 19030, 19134, 19404, 20435, 20587, 20700, 21269, 21488, 21964, 21965, 21966, 21976, 21983, 21984, 21985, 21993, 22606, 22666, 22842, 23147, 23338, 23615, 24988, 24989, 25386, 25887, 26105, 26106, 26201, 26377, 26613, 26920, 27079, 27088, 27089, 27381, 27397, 27398, 27844, 27845, 27861, 28234, 28280, 29156, 29560, 30092, 30181, 30186, 30477, 30551, 30552, 30639, 31289, 31290, 31445, 31452, 31789, 31790, 31850, 32182, 32586, 32638, 32827, 33507, 33605, 33606, 33607, 33608, 33629, 34130, 34226, 34779, 34908, 35152, 36454, 36455, 36509, 36929, 36930, 36931, 36932] Edges: [(69, 14659), (238, 5343), (238, 6006), (238, 9227), (238, 10575), (238, 11210), (238, 13019), (238, 14673), (238, 14869), (238, 18400), (238, 22606), (238, 23147), (238, 23338), (238, 26613), (238, 27381), (238, 27398), (238, 29560), (238, 30639), (238, 31445), (238, 32827), (238, 33606), (238, 33608), (238, 36932), (460, 1018), (460, 1620), (460, 2350), (460, 3928), (460, 4988), (460, 5037), (460, 5388), (460, 5682), (460, 6006), (460, 8177), (460, 8394), (460, 8553), (460, 9027), (460, 9227), (460, 9912), (460, 10543), (460, 11373), (460, 11396), (460, 12157), (460, 12703), (460, 13550), (460, 13867), (460, 14311), (460, 14869), (460, 15489), (460, 15588), (460, 15973), (460, 16058), (460, 17602), (460, 17681), (460, 18789), (460, 19030), (460, 19134), (460, 19404), (460, 20435), (460, 20587), (460, 20700), (460, 21269), (460, 21976), (460, 23615), (460, 26613), (460, 27079), (460, 27381), (460, 27398), (460, 29156), (460, 29560), (460, 30092), (460, 31452), (460, 32182), (460, 32638), (460, 32827), (460, 33629), (460, 34226), (460, 34779), (661, 1593), (661, 5636), (661, 7577), (661, 12446), (661, 12898), (661, 13019), (661, 15544), (661, 17336), (661, 18091), (661, 18400), (661, 21966), (661, 21993), (661, 22606), (661, 22842), (661, 25386), (661, 26106), (661, 26920), (661, 28234), (661, 30639), (661, 31289), (661, 31445), (661, 31790), (661, 33606), (661, 33608), (661, 36454), (661, 36932), (792, 1754), (792, 2096), (792, 2385), (792, 2503), (792, 2962), (792, 4654), (792, 4967), (792, 7577), (792, 9256), (792, 11458), (792, 11743), (792, 12446), (792, 12518), (792, 13208), (792, 13818), (792, 17336), (792, 21965), (792, 21966), (792, 21984), (792, 22666), (792, 24989), (792, 25386), (792, 26106), (792, 26201), (792, 26377), (792, 30186), (792, 30552), (792, 32586), (792, 33605), (792, 34130), (792, 35152), (792, 36455), (792, 36930), (1018, 1620), (1018, 2350), (1018, 4988), (1018, 5037), (1018, 5388), (1018, 5682), (1018, 6006), (1018, 6558), (1018, 8177), (1018, 8394), (1018, 8553), (1018, 9027), (1018, 9227), (1018, 9912), (1018, 10543), (1018, 11373), (1018, 11396), (1018, 11518), (1018, 12703), (1018, 13019), (1018, 13550), (1018, 13867), (1018, 14763), (1018, 14869), (1018, 15489), (1018, 15588), (1018, 15973), (1018, 16058), (1018, 17602), (1018, 17681), (1018, 18400), (1018, 18789), (1018, 19030), (1018, 19404), (1018, 20435), (1018, 20587), (1018, 20700), (1018, 21269), (1018, 21976), (1018, 24988), (1018, 26613), (1018, 27079), (1018, 27088), (1018, 27381), (1018, 27398), (1018, 29156), (1018, 29560), (1018, 30092), (1018, 30477), (1018, 30551), (1018, 31290), (1018, 31452), (1018, 32182), (1018, 32638), (1018, 32827), (1018, 33607), (1018, 33629), (1018, 34226), (1018, 34779), (1018, 36509), (1018, 36931), (1098, 18783), (1098, 22842), (1593, 5636), (1593, 11518), (1593, 12898), (1593, 13019), (1593, 14763), (1593, 15544), (1593, 17681), (1593, 18091), (1593, 18400), (1593, 21985), (1593, 21993), (1593, 24988), (1593, 26920), (1593, 27088), (1593, 28234), (1593, 30477), (1593, 30639), (1593, 31289), (1593, 31290), (1593, 31790), (1593, 33607), (1593, 36454), (1593, 36509), (1593, 36931), (1620, 2350), (1620, 3928), (1620, 4988), (1620, 5037), (1620, 5388), (1620, 5682), (1620, 6006), (1620, 6558), (1620, 8177), (1620, 8394), (1620, 8553), (1620, 9027), (1620, 9227), (1620, 9912), (1620, 10543), (1620, 11373), (1620, 11396), (1620, 11518), (1620, 12703), (1620, 13019), (1620, 13550), (1620, 13867), (1620, 14763), (1620, 14869), (1620, 15489), (1620, 15588), (1620, 15973), (1620, 16058), (1620, 17602), (1620, 17681), (1620, 18400), (1620, 18789), (1620, 19030), (1620, 19134), (1620, 19404), (1620, 20435), (1620, 20587), (1620, 20700), (1620, 21269), (1620, 21976), (1620, 24988), (1620, 26613), (1620, 27079), (1620, 27088), (1620, 27381), (1620, 27398), (1620, 29156), (1620, 29560), (1620, 30092), (1620, 30477), (1620, 30551), (1620, 31290), (1620, 31452), (1620, 32182), (1620, 32638), (1620, 32827), (1620, 33607), (1620, 33629), (1620, 34226), (1620, 34779), (1620, 36509), (1620, 36931), (1677, 2387), (1677, 2799), (1677, 2962), (1677, 4654), (1677, 13818), (1677, 21965), (1677, 26377), (1677, 36455), (1754, 2096), (1754, 2385), (1754, 2503), (1754, 2962), (1754, 4654), (1754, 4967), (1754, 7577), (1754, 9256), (1754, 11458), (1754, 11743), (1754, 12446), (1754, 12518), (1754, 13208), (1754, 13818), (1754, 17062), (1754, 17336), (1754, 21965), (1754, 21966), (1754, 21984), (1754, 21985), (1754, 22666), (1754, 24989), (1754, 25386), (1754, 26106), (1754, 26201), (1754, 26377), (1754, 27844), (1754, 30186), (1754, 30552), (1754, 32586), (1754, 33605), (1754, 34130), (1754, 34908), (1754, 35152), (1754, 36455), (1754, 36929), (1754, 36930), (2096, 2385), (2096, 2503), (2096, 2962), (2096, 4654), (2096, 4967), (2096, 7577), (2096, 9256), (2096, 11458), (2096, 11743), (2096, 12446), (2096, 12518), (2096, 13208), (2096, 13818), (2096, 17062), (2096, 17336), (2096, 21965), (2096, 21966), (2096, 21984), (2096, 21985), (2096, 22666), (2096, 24989), (2096, 25386), (2096, 26106), (2096, 26201), (2096, 26377), (2096, 27844), (2096, 30186), (2096, 30552), (2096, 32586), (2096, 33605), (2096, 34130), (2096, 34908), (2096, 35152), (2096, 36455), (2096, 36929), (2096, 36930), (2350, 3928), (2350, 4988), (2350, 5037), (2350, 5388), (2350, 6006), (2350, 8177), (2350, 8394), (2350, 8553), (2350, 9027), (2350, 9227), (2350, 9912), (2350, 10543), (2350, 11373), (2350, 11396), (2350, 12157), (2350, 12703), (2350, 13550), (2350, 13867), (2350, 14311), (2350, 14659), (2350, 14869), (2350, 15489), (2350, 15588), (2350, 15973), (2350, 16058), (2350, 17602), (2350, 17681), (2350, 18789), (2350, 19030), (2350, 19134), (2350, 19404), (2350, 20435), (2350, 20587), (2350, 20700), (2350, 21269), (2350, 21976), (2350, 23615), (2350, 26613), (2350, 27079), (2350, 27381), (2350, 27398), (2350, 29156), (2350, 29560), (2350, 30092), (2350, 31452), (2350, 32182), (2350, 32638), (2350, 32827), (2350, 33629), (2350, 34226), (2350, 34779), (2385, 2503), (2385, 2962), (2385, 4654), (2385, 4967), (2385, 7577), (2385, 9256), (2385, 11458), (2385, 11743), (2385, 12446), (2385, 12518), (2385, 13208), (2385, 13818), (2385, 17336), (2385, 21965), (2385, 21966), (2385, 21984), (2385, 22666), (2385, 24989), (2385, 25386), (2385, 26106), (2385, 26201), (2385, 26377), (2385, 30186), (2385, 30552), (2385, 32586), (2385, 33605), (2385, 34130), (2385, 35152), (2385, 36455), (2385, 36929), (2385, 36930), (2387, 2799), (2387, 4654), (2387, 5538), (2387, 13818), (2387, 21965), (2387, 36455), (2503, 2941), (2503, 2962), (2503, 4654), (2503, 4967), (2503, 7491), (2503, 7577), (2503, 9256), (2503, 11458), (2503, 11743), (2503, 12446), (2503, 12518), (2503, 13208), (2503, 14089), (2503, 15306), (2503, 17062), (2503, 17336), (2503, 21964), (2503, 21966), (2503, 21983), (2503, 21984), (2503, 21985), (2503, 22666), (2503, 24989), (2503, 25887), (2503, 26105), (2503, 26106), (2503, 26201), (2503, 26377), (2503, 27397), (2503, 27844), (2503, 30186), (2503, 30552), (2503, 31789), (2503, 31850), (2503, 32586), (2503, 33605), (2503, 34130), (2503, 34908), (2503, 35152), (2503, 36929), (2503, 36930), (2528, 4988), (2528, 5037), (2528, 5682), (2528, 6558), (2528, 7051), (2528, 14763), (2528, 21269), (2528, 24988), (2528, 30477), (2528, 30551), (2528, 31290), (2528, 32638), (2528, 36509), (2528, 36931), (2799, 5538), (2941, 3256), (2941, 7491), (2941, 14089), (2941, 15306), (2941, 17062), (2941, 17336), (2941, 21964), (2941, 21966), (2941, 21983), (2941, 21984), (2941, 21985), (2941, 25887), (2941, 26105), (2941, 27089), (2941, 27397), (2941, 27844), (2941, 27845), (2941, 30181), (2941, 30186), (2941, 31789), (2941, 31850), (2941, 33507), (2941, 34908), (2941, 36929), (2962, 4654), (2962, 4967), (2962, 7577), (2962, 9256), (2962, 11458), (2962, 11743), (2962, 12446), (2962, 12518), (2962, 13208), (2962, 13818), (2962, 21965), (2962, 21984), (2962, 22666), (2962, 24989), (2962, 26106), (2962, 26201), (2962, 26377), (2962, 30186), (2962, 30552), (2962, 32586), (2962, 33605), (2962, 34130), (2962, 35152), (2962, 36455), (2962, 36929), (2962, 36930), (3256, 4566), (3256, 5682), (3256, 6558), (3256, 7491), (3256, 11518), (3256, 14089), (3256, 14763), (3256, 15306), (3256, 17062), (3256, 21964), (3256, 21983), (3256, 21985), (3256, 24988), (3256, 25887), (3256, 26105), (3256, 27088), (3256, 27089), (3256, 27397), (3256, 27844), (3256, 27845), (3256, 30181), (3256, 30477), (3256, 30551), (3256, 31290), (3256, 31789), (3256, 31850), (3256, 33507), (3256, 33607), (3256, 34908), (3256, 36509), (3256, 36931), (3928, 4988), (3928, 6006), (3928, 8177), (3928, 8394), (3928, 8553), (3928, 9027), (3928, 9227), (3928, 9912), (3928, 10543), (3928, 11373), (3928, 11396), (3928, 12157), (3928, 12703), (3928, 13550), (3928, 13867), (3928, 14311), (3928, 14659), (3928, 14869), (3928, 15489), (3928, 15588), (3928, 15973), (3928, 16058), (3928, 17602), (3928, 18789), (3928, 19030), (3928, 19134), (3928, 19404), (3928, 20435), (3928, 20587), (3928, 20700), (3928, 21269), (3928, 23615), (3928, 26613), (3928, 27079), (3928, 27381), (3928, 27398), (3928, 29156), (3928, 29560), (3928, 30092), (3928, 31452), (3928, 32182), (3928, 32638), (3928, 32827), (3928, 33629), (3928, 34226), (3928, 34779), (4566, 27089), (4566, 27845), (4566, 30181), (4566, 31850), (4566, 33507), (4654, 4967), (4654, 7577), (4654, 9256), (4654, 11458), (4654, 11743), (4654, 12446), (4654, 12518), (4654, 13208), (4654, 13818), (4654, 21965), (4654, 21984), (4654, 22666), (4654, 24989), (4654, 26106), (4654, 26201), (4654, 26377), (4654, 30186), (4654, 30552), (4654, 32586), (4654, 33605), (4654, 34130), (4654, 35152), (4654, 36455), (4654, 36929), (4654, 36930), (4967, 7577), (4967, 9256), (4967, 11458), (4967, 11743), (4967, 12446), (4967, 12518), (4967, 13208), (4967, 13818), (4967, 17336), (4967, 21965), (4967, 21984), (4967, 22666), (4967, 24989), (4967, 25386), (4967, 26106), (4967, 26201), (4967, 26377), (4967, 30186), (4967, 30552), (4967, 32586), (4967, 33605), (4967, 34130), (4967, 35152), (4967, 36455), (4967, 36930), (4988, 5037), (4988, 5388), (4988, 5682), (4988, 7051), (4988, 8177), (4988, 8394), (4988, 8553), (4988, 9027), (4988, 9823), (4988, 9912), (4988, 10543), (4988, 11373), (4988, 11396), (4988, 12157), (4988, 12703), (4988, 13550), (4988, 13867), (4988, 14311), (4988, 14659), (4988, 15489), (4988, 15588), (4988, 15973), (4988, 16058), (4988, 17602), (4988, 17681), (4988, 18789), (4988, 19030), (4988, 19134), (4988, 19404), (4988, 20435), (4988, 20587), (4988, 20700), (4988, 21269), (4988, 21976), (4988, 23615), (4988, 27079), (4988, 27861), (4988, 28280), (4988, 29156), (4988, 30092), (4988, 31452), (4988, 32182), (4988, 32638), (4988, 33629), (4988, 34226), (4988, 34779), (5037, 5388), (5037, 5682), (5037, 6558), (5037, 8394), (5037, 8553), (5037, 9027), (5037, 9912), (5037, 10543), (5037, 11373), (5037, 11396), (5037, 11518), (5037, 12703), (5037, 13550), (5037, 14763), (5037, 15489), (5037, 15588), (5037, 15973), (5037, 16058), (5037, 17602), (5037, 17681), (5037, 18789), (5037, 19030), (5037, 19404), (5037, 20435), (5037, 20587), (5037, 20700), (5037, 21269), (5037, 21976), (5037, 24988), (5037, 27079), (5037, 27088), (5037, 29156), (5037, 30092), (5037, 30477), (5037, 30551), (5037, 31290), (5037, 31452), (5037, 32182), (5037, 32638), (5037, 33607), (5037, 33629), (5037, 34226), (5037, 34779), (5037, 36509), (5037, 36931), (5343, 6006), (5343, 9227), (5343, 10575), (5343, 11210), (5343, 13019), (5343, 14673), (5343, 14869), (5343, 18400), (5343, 22606), (5343, 23147), (5343, 23338), (5343, 26613), (5343, 27381), (5343, 27398), (5343, 29560), (5343, 30639), (5343, 31445), (5343, 32827), (5343, 33606), (5343, 33608), (5343, 36932), (5388, 5682), (5388, 6006), (5388, 6558), (5388, 8177), (5388, 8394), (5388, 8553), (5388, 9027), (5388, 9227), (5388, 9912), (5388, 10543), (5388, 11373), (5388, 11396), (5388, 11518), (5388, 12703), (5388, 13019), (5388, 13550), (5388, 13867), (5388, 14763), (5388, 14869), (5388, 15489), (5388, 15588), (5388, 15973), (5388, 16058), (5388, 17602), (5388, 17681), (5388, 18400), (5388, 18789), (5388, 19030), (5388, 19404), (5388, 20435), (5388, 20587), (5388, 20700), (5388, 21269), (5388, 21976), (5388, 24988), (5388, 26613), (5388, 27079), (5388, 27088), (5388, 27381), (5388, 27398), (5388, 29156), (5388, 29560), (5388, 30092), (5388, 30477), (5388, 30551), (5388, 31290), (5388, 31452), (5388, 32182), (5388, 32638), (5388, 32827), (5388, 33607), (5388, 33629), (5388, 34226), (5388, 34779), (5388, 36509), (5388, 36931), (5636, 11518), (5636, 12898), (5636, 13019), (5636, 15544), (5636, 18091), (5636, 18400), (5636, 21993), (5636, 22606), (5636, 26920), (5636, 27088), (5636, 28234), (5636, 30639), (5636, 31289), (5636, 31445), (5636, 31790), (5636, 33606), (5636, 33607), (5636, 33608), (5636, 36454), (5636, 36932), (5682, 6558), (5682, 7051), (5682, 8394), (5682, 10543), (5682, 11396), (5682, 11518), (5682, 13550), (5682, 14763), (5682, 15588), (5682, 16058), (5682, 17602), (5682, 17681), (5682, 19404), (5682, 20435), (5682, 20587), (5682, 21269), (5682, 21976), (5682, 24988), (5682, 27079), (5682, 27088), (5682, 30477), (5682, 30551), (5682, 31290), (5682, 32182), (5682, 32638), (5682, 33607), (5682, 33629), (5682, 36509), (5682, 36931), (6006, 8177), (6006, 8394), (6006, 8553), (6006, 9027), (6006, 9227), (6006, 9912), (6006, 10543), (6006, 10575), (6006, 11210), (6006, 11373), (6006, 11396), (6006, 12157), (6006, 12703), (6006, 13019), (6006, 13550), (6006, 13867), (6006, 14673), (6006, 14869), (6006, 15489), (6006, 15588), (6006, 15973), (6006, 16058), (6006, 17602), (6006, 17681), (6006, 18400), (6006, 18789), (6006, 19030), (6006, 19404), (6006, 20435), (6006, 20587), (6006, 20700), (6006, 21976), (6006, 23338), (6006, 23615), (6006, 26613), (6006, 27079), (6006, 27381), (6006, 27398), (6006, 29560), (6006, 30092), (6006, 30639), (6006, 31452), (6006, 32182), (6006, 32827), (6006, 33629), (6006, 34226), (6006, 34779), (6558, 7491), (6558, 11518), (6558, 14763), (6558, 17681), (6558, 21269), (6558, 21976), (6558, 24988), (6558, 27088), (6558, 30181), (6558, 30477), (6558, 30551), (6558, 31290), (6558, 33507), (6558, 33607), (6558, 36509), (6558, 36931), (6706, 7051), (6706, 9390), (6706, 9823), (6706, 12919), (6706, 14657), (6706, 15148), (6706, 21488), (6706, 27861), (6706, 28280), (7051, 8394), (7051, 9823), (7051, 10543), (7051, 11396), (7051, 12703), (7051, 12919), (7051, 13550), (7051, 14311), (7051, 14657), (7051, 14659), (7051, 15148), (7051, 15973), (7051, 17602), (7051, 19134), (7051, 19404), (7051, 20435), (7051, 21269), (7051, 27861), (7051, 28280), (7051, 29156), (7051, 31452), (7051, 32638), (7051, 33629), (7491, 11518), (7491, 14089), (7491, 14763), (7491, 15306), (7491, 17062), (7491, 17336), (7491, 21964), (7491, 21966), (7491, 21983), (7491, 21984), (7491, 21985), (7491, 24988), (7491, 25887), (7491, 26105), (7491, 27088), (7491, 27089), (7491, 27397), (7491, 27844), (7491, 30181), (7491, 30186), (7491, 30477), (7491, 30551), (7491, 31290), (7491, 31789), (7491, 31850), (7491, 33507), (7491, 33607), (7491, 34908), (7491, 36509), (7491, 36929), (7491, 36931), (7577, 9256), (7577, 11458), (7577, 11743), (7577, 12446), (7577, 12518), (7577, 13208), (7577, 13818), (7577, 17062), (7577, 17336), (7577, 21965), (7577, 21966), (7577, 21984), (7577, 21985), (7577, 22666), (7577, 24989), (7577, 25386), (7577, 26106), (7577, 26201), (7577, 26377), (7577, 27844), (7577, 30186), (7577, 30552), (7577, 32586), (7577, 33605), (7577, 34130), (7577, 34908), (7577, 35152), (7577, 36455), (7577, 36929), (7577, 36930), (8177, 8394), (8177, 8553), (8177, 9027), (8177, 9227), (8177, 9912), (8177, 10543), (8177, 11373), (8177, 11396), (8177, 12157), (8177, 12703), (8177, 13550), (8177, 13867), (8177, 14311), (8177, 14659), (8177, 14869), (8177, 15489), (8177, 15588), (8177, 15973), (8177, 16058), (8177, 17602), (8177, 18789), (8177, 19030), (8177, 19134), (8177, 19404), (8177, 20435), (8177, 20587), (8177, 20700), (8177, 21269), (8177, 21976), (8177, 23615), (8177, 26613), (8177, 27079), (8177, 27381), (8177, 27398), (8177, 29156), (8177, 29560), (8177, 30092), (8177, 31452), (8177, 32182), (8177, 32638), (8177, 32827), (8177, 33629), (8177, 34226), (8177, 34779), (8394, 8553), (8394, 9027), (8394, 9227), (8394, 9912), (8394, 10543), (8394, 11373), (8394, 11396), (8394, 12157), (8394, 12703), (8394, 13550), (8394, 13867), (8394, 14311), (8394, 14659), (8394, 14869), (8394, 15489), (8394, 15588), (8394, 15973), (8394, 16058), (8394, 17602), (8394, 17681), (8394, 18789), (8394, 19030), (8394, 19134), (8394, 19404), (8394, 20435), (8394, 20587), (8394, 20700), (8394, 21269), (8394, 21976), (8394, 23615), (8394, 26613), (8394, 27079), (8394, 27381), (8394, 27398), (8394, 29156), (8394, 29560), (8394, 30092), (8394, 31452), (8394, 32182), (8394, 32638), (8394, 32827), (8394, 33629), (8394, 34226), (8394, 34779), (8553, 9027), (8553, 9227), (8553, 9912), (8553, 10543), (8553, 11373), (8553, 11396), (8553, 12157), (8553, 12703), (8553, 13550), (8553, 13867), (8553, 14311), (8553, 14659), (8553, 14869), (8553, 15489), (8553, 15588), (8553, 15973), (8553, 16058), (8553, 17602), (8553, 17681), (8553, 18789), (8553, 19030), (8553, 19134), (8553, 19404), (8553, 20435), (8553, 20587), (8553, 20700), (8553, 21269), (8553, 21976), (8553, 23615), (8553, 26613), (8553, 27079), (8553, 27381), (8553, 27398), (8553, 29156), (8553, 29560), (8553, 30092), (8553, 31452), (8553, 32182), (8553, 32638), (8553, 32827), (8553, 33629), (8553, 34226), (8553, 34779), (9027, 9227), (9027, 9912), (9027, 10543), (9027, 11373), (9027, 11396), (9027, 12157), (9027, 12703), (9027, 13550), (9027, 13867), (9027, 14311), (9027, 14659), (9027, 14869), (9027, 15489), (9027, 15588), (9027, 15973), (9027, 16058), (9027, 17602), (9027, 17681), (9027, 18789), (9027, 19030), (9027, 19134), (9027, 19404), (9027, 20435), (9027, 20587), (9027, 20700), (9027, 21269), (9027, 21976), (9027, 23615), (9027, 26613), (9027, 27079), (9027, 27381), (9027, 27398), (9027, 29156), (9027, 29560), (9027, 30092), (9027, 31452), (9027, 32182), (9027, 32638), (9027, 32827), (9027, 33629), (9027, 34226), (9027, 34779), (9227, 9912), (9227, 10543), (9227, 10575), (9227, 11210), (9227, 11373), (9227, 11396), (9227, 12157), (9227, 13019), (9227, 13550), (9227, 13867), (9227, 14673), (9227, 14869), (9227, 15489), (9227, 15588), (9227, 16058), (9227, 17602), (9227, 17681), (9227, 18400), (9227, 18789), (9227, 19030), (9227, 19404), (9227, 20435), (9227, 20587), (9227, 20700), (9227, 21976), (9227, 23338), (9227, 23615), (9227, 26613), (9227, 27079), (9227, 27381), (9227, 27398), (9227, 29560), (9227, 30092), (9227, 30639), (9227, 31452), (9227, 32182), (9227, 32827), (9227, 33629), (9227, 34226), (9227, 34779), (9256, 11458), (9256, 11743), (9256, 12446), (9256, 12518), (9256, 13208), (9256, 13818), (9256, 17062), (9256, 17336), (9256, 21965), (9256, 21966), (9256, 21984), (9256, 21985), (9256, 22666), (9256, 24989), (9256, 25386), (9256, 26106), (9256, 26201), (9256, 26377), (9256, 27844), (9256, 30186), (9256, 30552), (9256, 32586), (9256, 33605), (9256, 34130), (9256, 34908), (9256, 35152), (9256, 36455), (9256, 36929), (9256, 36930), (9823, 12919), (9823, 14311), (9823, 14657), (9823, 14659), (9823, 15148), (9823, 19134), (9823, 21488), (9823, 27861), (9823, 28280), (9823, 32638), (9912, 10543), (9912, 11373), (9912, 11396), (9912, 12157), (9912, 12703), (9912, 13550), (9912, 13867), (9912, 14311), (9912, 14659), (9912, 14869), (9912, 15489), (9912, 15588), (9912, 15973), (9912, 16058), (9912, 17602), (9912, 18789), (9912, 19030), (9912, 19134), (9912, 19404), (9912, 20435), (9912, 20587), (9912, 20700), (9912, 21269), (9912, 21976), (9912, 23615), (9912, 26613), (9912, 27079), (9912, 27381), (9912, 27398), (9912, 29156), (9912, 29560), (9912, 30092), (9912, 31452), (9912, 32182), (9912, 32638), (9912, 32827), (9912, 33629), (9912, 34226), (9912, 34779), (10543, 11373), (10543, 11396), (10543, 12157), (10543, 12703), (10543, 13550), (10543, 13867), (10543, 14311), (10543, 14659), (10543, 14869), (10543, 15489), (10543, 15588), (10543, 15973), (10543, 16058), (10543, 17602), (10543, 17681), (10543, 18789), (10543, 19030), (10543, 19134), (10543, 19404), (10543, 20435), (10543, 20587), (10543, 20700), (10543, 21269), (10543, 21976), (10543, 23615), (10543, 26613), (10543, 27079), (10543, 27381), (10543, 27398), (10543, 29156), (10543, 29560), (10543, 30092), (10543, 31452), (10543, 32182), (10543, 32638), (10543, 32827), (10543, 33629), (10543, 34226), (10543, 34779), (10575, 11210), (10575, 13019), (10575, 13867), (10575, 14673), (10575, 14869), (10575, 18400), (10575, 20700), (10575, 22606), (10575, 23147), (10575, 23338), (10575, 26613), (10575, 27381), (10575, 27398), (10575, 29560), (10575, 30639), (10575, 31445), (10575, 32827), (10575, 33606), (10575, 33608), (10575, 34779), (10575, 36932), (11210, 13019), (11210, 14673), (11210, 14869), (11210, 18400), (11210, 22606), (11210, 23147), (11210, 23338), (11210, 26613), (11210, 27381), (11210, 27398), (11210, 29560), (11210, 30639), (11210, 31445), (11210, 32827), (11210, 33606), (11210, 33608), (11210, 36932), (11373, 11396), (11373, 12157), (11373, 12703), (11373, 13550), (11373, 13867), (11373, 14311), (11373, 14659), (11373, 14869), (11373, 15489), (11373, 15588), (11373, 15973), (11373, 16058), (11373, 17602), (11373, 17681), (11373, 18789), (11373, 19030), (11373, 19134), (11373, 19404), (11373, 20435), (11373, 20587), (11373, 20700), (11373, 21269), (11373, 21976), (11373, 23615), (11373, 26613), (11373, 27079), (11373, 27381), (11373, 27398), (11373, 29156), (11373, 29560), (11373, 30092), (11373, 31452), (11373, 32182), (11373, 32638), (11373, 32827), (11373, 33629), (11373, 34226), (11373, 34779), (11396, 12157), (11396, 12703), (11396, 13550), (11396, 13867), (11396, 14311), (11396, 14659), (11396, 14869), (11396, 15489), (11396, 15588), (11396, 15973), (11396, 16058), (11396, 17602), (11396, 17681), (11396, 18789), (11396, 19030), (11396, 19134), (11396, 19404), (11396, 20435), (11396, 20587), (11396, 20700), (11396, 21269), (11396, 21976), (11396, 23615), (11396, 26613), (11396, 27079), (11396, 27381), (11396, 27398), (11396, 29156), (11396, 29560), (11396, 30092), (11396, 31452), (11396, 32182), (11396, 32638), (11396, 32827), (11396, 33629), (11396, 34226), (11396, 34779), (11458, 11743), (11458, 12446), (11458, 12518), (11458, 13208), (11458, 13818), (11458, 17062), (11458, 17336), (11458, 21965), (11458, 21966), (11458, 21984), (11458, 21985), (11458, 22666), (11458, 24989), (11458, 25386), (11458, 26106), (11458, 26201), (11458, 26377), (11458, 27844), (11458, 30186), (11458, 30552), (11458, 32586), (11458, 33605), (11458, 34130), (11458, 34908), (11458, 35152), (11458, 36455), (11458, 36929), (11458, 36930), (11518, 12898), (11518, 13019), (11518, 14763), (11518, 17681), (11518, 18400), (11518, 21269), (11518, 21976), (11518, 24988), (11518, 26920), (11518, 27088), (11518, 28234), (11518, 30181), (11518, 30477), (11518, 30551), (11518, 31289), (11518, 31290), (11518, 33507), (11518, 33607), (11518, 36509), (11518, 36931), (11743, 12446), (11743, 12518), (11743, 13208), (11743, 13818), (11743, 14089), (11743, 17062), (11743, 17336), (11743, 21965), (11743, 21966), (11743, 21984), (11743, 21985), (11743, 22666), (11743, 24989), (11743, 25386), (11743, 26106), (11743, 26201), (11743, 26377), (11743, 27844), (11743, 30186), (11743, 30552), (11743, 32586), (11743, 33605), (11743, 34130), (11743, 34908), (11743, 35152), (11743, 36455), (11743, 36929), (11743, 36930), (12157, 12703), (12157, 13550), (12157, 13867), (12157, 14311), (12157, 14659), (12157, 14869), (12157, 15489), (12157, 15588), (12157, 15973), (12157, 16058), (12157, 17602), (12157, 18789), (12157, 19030), (12157, 19134), (12157, 19404), (12157, 20435), (12157, 20587), (12157, 20700), (12157, 21269), (12157, 23615), (12157, 26613), (12157, 27079), (12157, 27381), (12157, 27398), (12157, 29156), (12157, 29560), (12157, 30092), (12157, 31452), (12157, 32182), (12157, 32638), (12157, 32827), (12157, 33629), (12157, 34226), (12157, 34779), (12446, 12518), (12446, 13208), (12446, 13818), (12446, 17062), (12446, 17336), (12446, 21965), (12446, 21966), (12446, 21984), (12446, 21985), (12446, 22666), (12446, 24989), (12446, 25386), (12446, 26106), (12446, 26201), (12446, 26377), (12446, 27844), (12446, 30186), (12446, 30552), (12446, 32586), (12446, 33605), (12446, 34130), (12446, 34908), (12446, 35152), (12446, 36455), (12446, 36929), (12446, 36930), (12518, 13208), (12518, 13818), (12518, 17336), (12518, 21965), (12518, 21966), (12518, 21984), (12518, 22666), (12518, 24989), (12518, 25386), (12518, 26106), (12518, 26201), (12518, 26377), (12518, 30186), (12518, 30552), (12518, 32586), (12518, 33605), (12518, 34130), (12518, 35152), (12518, 36455), (12518, 36929), (12518, 36930), (12703, 13550), (12703, 13867), (12703, 14311), (12703, 14659), (12703, 15489), (12703, 15588), (12703, 15973), (12703, 16058), (12703, 17602), (12703, 18789), (12703, 19030), (12703, 19134), (12703, 19404), (12703, 20435), (12703, 20587), (12703, 20700), (12703, 21269), (12703, 21976), (12703, 23615), (12703, 27079), (12703, 27861), (12703, 28280), (12703, 29156), (12703, 30092), (12703, 31452), (12703, 32182), (12703, 32638), (12703, 33629), (12703, 34226), (12703, 34779), (12898, 13019), (12898, 15544), (12898, 18091), (12898, 18400), (12898, 21993), (12898, 22606), (12898, 26920), (12898, 27088), (12898, 28234), (12898, 30639), (12898, 31289), (12898, 31445), (12898, 31790), (12898, 33606), (12898, 33607), (12898, 33608), (12898, 36454), (12898, 36932), (12919, 14311), (12919, 14657), (12919, 15148), (12919, 19134), (12919, 21488), (12919, 27861), (12919, 28280), (13019, 14673), (13019, 14869), (13019, 15544), (13019, 17681), (13019, 18091), (13019, 18400), (13019, 20700), (13019, 21976), (13019, 21993), (13019, 22606), (13019, 23338), (13019, 24988), (13019, 26613), (13019, 26920), (13019, 27088), (13019, 27381), (13019, 27398), (13019, 28234), (13019, 29560), (13019, 30639), (13019, 31289), (13019, 31445), (13019, 32827), (13019, 33606), (13019, 33607), (13019, 33608), (13019, 34779), (13019, 36454), (13019, 36932), (13208, 13818), (13208, 17062), (13208, 17336), (13208, 21965), (13208, 21966), (13208, 21984), (13208, 21985), (13208, 22666), (13208, 24989), (13208, 25386), (13208, 26106), (13208, 26201), (13208, 26377), (13208, 27844), (13208, 30186), (13208, 30552), (13208, 32586), (13208, 33605), (13208, 34130), (13208, 34908), (13208, 35152), (13208, 36455), (13208, 36929), (13208, 36930), (13550, 13867), (13550, 14311), (13550, 14659), (13550, 14869), (13550, 15489), (13550, 15588), (13550, 15973), (13550, 16058), (13550, 17602), (13550, 17681), (13550, 18789), (13550, 19030), (13550, 19134), (13550, 19404), (13550, 20435), (13550, 20587), (13550, 20700), (13550, 21269), (13550, 21976), (13550, 23615), (13550, 26613), (13550, 27079), (13550, 27381), (13550, 27398), (13550, 29156), (13550, 29560), (13550, 30092), (13550, 31452), (13550, 32182), (13550, 32638), (13550, 32827), (13550, 33629), (13550, 34226), (13550, 34779), (13818, 21965), (13818, 22666), (13818, 24989), (13818, 26201), (13818, 26377), (13818, 30552), (13818, 32586), (13818, 33605), (13818, 34130), (13818, 35152), (13818, 36455), (13818, 36930), (13867, 14659), (13867, 14869), (13867, 15489), (13867, 15588), (13867, 15973), (13867, 16058), (13867, 17602), (13867, 18789), (13867, 19030), (13867, 19134), (13867, 19404), (13867, 20435), (13867, 20587), (13867, 20700), (13867, 21269), (13867, 21976), (13867, 23338), (13867, 23615), (13867, 26613), (13867, 27079), (13867, 27381), (13867, 27398), (13867, 29156), (13867, 29560), (13867, 30092), (13867, 31452), (13867, 32182), (13867, 32638), (13867, 32827), (13867, 33629), (13867, 34226), (13867, 34779), (14089, 15306), (14089, 17062), (14089, 17336), (14089, 21964), (14089, 21966), (14089, 21983), (14089, 21984), (14089, 21985), (14089, 25887), (14089, 26105), (14089, 27089), (14089, 27397), (14089, 27844), (14089, 30181), (14089, 30186), (14089, 31789), (14089, 31850), (14089, 33507), (14089, 34908), (14089, 36929), (14311, 14657), (14311, 14659), (14311, 15489), (14311, 15588), (14311, 15973), (14311, 16058), (14311, 17602), (14311, 18789), (14311, 19030), (14311, 19134), (14311, 19404), (14311, 20435), (14311, 20587), (14311, 21269), (14311, 23615), (14311, 27079), (14311, 27861), (14311, 28280), (14311, 29156), (14311, 30092), (14311, 31452), (14311, 32182), (14311, 32638), (14311, 33629), (14311, 34226), (14311, 34779), (14657, 15148), (14657, 19134), (14657, 21488), (14657, 27861), (14657, 28280), (14659, 15588), (14659, 15973), (14659, 17602), (14659, 18789), (14659, 19030), (14659, 19134), (14659, 19404), (14659, 20435), (14659, 23615), (14659, 27079), (14659, 27861), (14659, 28280), (14659, 29156), (14659, 30092), (14659, 31452), (14659, 32182), (14659, 32638), (14659, 33629), (14659, 34226), (14673, 14869), (14673, 15544), (14673, 18400), (14673, 22606), (14673, 23147), (14673, 23338), (14673, 26613), (14673, 27381), (14673, 27398), (14673, 29560), (14673, 30639), (14673, 31445), (14673, 32827), (14673, 33606), (14673, 33608), (14673, 36932), (14763, 15306), (14763, 17681), (14763, 21269), (14763, 21976), (14763, 24988), (14763, 27088), (14763, 30181), (14763, 30477), (14763, 30551), (14763, 31290), (14763, 33507), (14763, 33607), (14763, 36509), (14763, 36931), (14869, 15489), (14869, 15588), (14869, 16058), (14869, 17602), (14869, 17681), (14869, 18400), (14869, 18789), (14869, 19030), (14869, 19404), (14869, 20435), (14869, 20587), (14869, 20700), (14869, 21976), (14869, 23338), (14869, 23615), (14869, 26613), (14869, 27079), (14869, 27381), (14869, 27398), (14869, 29560), (14869, 30092), (14869, 30639), (14869, 31452), (14869, 32182), (14869, 32827), (14869, 33629), (14869, 34226), (14869, 34779), (15148, 21488), (15148, 27861), (15148, 28280), (15306, 17062), (15306, 17336), (15306, 21964), (15306, 21966), (15306, 21983), (15306, 21984), (15306, 21985), (15306, 25887), (15306, 26105), (15306, 27089), (15306, 27397), (15306, 27844), (15306, 27845), (15306, 30181), (15306, 30186), (15306, 30551), (15306, 31789), (15306, 31850), (15306, 33507), (15306, 34908), (15306, 36929), (15489, 15588), (15489, 15973), (15489, 16058), (15489, 17602), (15489, 17681), (15489, 18789), (15489, 19030), (15489, 19134), (15489, 19404), (15489, 20435), (15489, 20587), (15489, 20700), (15489, 21269), (15489, 21976), (15489, 23615), (15489, 26613), (15489, 27079), (15489, 27381), (15489, 27398), (15489, 29156), (15489, 29560), (15489, 30092), (15489, 31452), (15489, 32182), (15489, 32638), (15489, 32827), (15489, 33629), (15489, 34226), (15489, 34779), (15544, 18091), (15544, 18400), (15544, 21993), (15544, 22606), (15544, 22842), (15544, 23147), (15544, 26920), (15544, 28234), (15544, 30639), (15544, 31289), (15544, 31445), (15544, 31790), (15544, 33606), (15544, 33608), (15544, 36454), (15544, 36932), (15588, 15973), (15588, 16058), (15588, 17602), (15588, 17681), (15588, 18789), (15588, 19030), (15588, 19134), (15588, 19404), (15588, 20435), (15588, 20587), (15588, 20700), (15588, 21269), (15588, 21976), (15588, 23615), (15588, 26613), (15588, 27079), (15588, 27381), (15588, 27398), (15588, 29156), (15588, 29560), (15588, 30092), (15588, 31452), (15588, 32182), (15588, 32638), (15588, 32827), (15588, 33629), (15588, 34226), (15588, 34779), (15973, 16058), (15973, 17602), (15973, 18789), (15973, 19030), (15973, 19134), (15973, 19404), (15973, 20435), (15973, 20587), (15973, 20700), (15973, 21269), (15973, 21976), (15973, 23615), (15973, 27079), (15973, 27861), (15973, 28280), (15973, 29156), (15973, 30092), (15973, 31452), (15973, 32182), (15973, 32638), (15973, 33629), (15973, 34226), (15973, 34779), (16058, 17602), (16058, 17681), (16058, 18789), (16058, 19030), (16058, 19134), (16058, 19404), (16058, 20435), (16058, 20587), (16058, 20700), (16058, 21269), (16058, 21976), (16058, 23615), (16058, 26613), (16058, 27079), (16058, 27381), (16058, 27398), (16058, 29156), (16058, 29560), (16058, 30092), (16058, 31452), (16058, 32182), (16058, 32638), (16058, 32827), (16058, 33629), (16058, 34226), (16058, 34779), (17062, 17336), (17062, 21964), (17062, 21966), (17062, 21983), (17062, 21984), (17062, 21985), (17062, 25887), (17062, 26105), (17062, 26201), (17062, 27397), (17062, 27844), (17062, 30181), (17062, 30186), (17062, 31789), (17062, 31850), (17062, 32586), (17062, 33507), (17062, 34908), (17062, 36929), (17336, 21964), (17336, 21966), (17336, 21983), (17336, 21984), (17336, 21985), (17336, 22666), (17336, 24989), (17336, 25887), (17336, 26105), (17336, 26106), (17336, 26201), (17336, 27397), (17336, 27844), (17336, 30186), (17336, 30552), (17336, 31789), (17336, 31850), (17336, 32586), (17336, 33605), (17336, 34130), (17336, 34908), (17336, 35152), (17336, 36929), (17336, 36930), (17602, 17681), (17602, 18789), (17602, 19030), (17602, 19134), (17602, 19404), (17602, 20435), (17602, 20587), (17602, 20700), (17602, 21269), (17602, 21976), (17602, 23615), (17602, 26613), (17602, 27079), (17602, 27381), (17602, 27398), (17602, 29156), (17602, 29560), (17602, 30092), (17602, 31452), (17602, 32182), (17602, 32638), (17602, 32827), (17602, 33629), (17602, 34226), (17602, 34779), (17681, 18400), (17681, 18789), (17681, 19404), (17681, 20435), (17681, 20587), (17681, 20700), (17681, 21269), (17681, 21976), (17681, 24988), (17681, 26613), (17681, 27079), (17681, 27088), (17681, 27381), (17681, 27398), (17681, 29560), (17681, 30092), (17681, 30477), (17681, 30551), (17681, 31290), (17681, 32182), (17681, 32827), (17681, 33607), (17681, 33629), (17681, 34226), (17681, 34779), (17681, 36509), (17681, 36931), (18091, 18400), (18091, 21993), (18091, 22606), (18091, 22842), (18091, 25386), (18091, 26920), (18091, 28234), (18091, 30639), (18091, 31289), (18091, 31445), (18091, 31790), (18091, 33606), (18091, 33608), (18091, 36454), (18091, 36932), (18400, 20700), (18400, 21976), (18400, 21993), (18400, 22606), (18400, 23338), (18400, 24988), (18400, 26613), (18400, 26920), (18400, 27088), (18400, 27381), (18400, 27398), (18400, 28234), (18400, 29560), (18400, 30639), (18400, 31289), (18400, 31445), (18400, 32827), (18400, 33606), (18400, 33607), (18400, 33608), (18400, 34779), (18400, 36454), (18400, 36932), (18783, 22842), (18789, 19030), (18789, 19134), (18789, 19404), (18789, 20435), (18789, 20587), (18789, 20700), (18789, 21269), (18789, 21976), (18789, 23615), (18789, 26613), (18789, 27079), (18789, 27381), (18789, 27398), (18789, 29156), (18789, 29560), (18789, 30092), (18789, 31452), (18789, 32182), (18789, 32638), (18789, 32827), (18789, 33629), (18789, 34226), (18789, 34779), (19030, 19134), (19030, 19404), (19030, 20435), (19030, 20587), (19030, 20700), (19030, 21269), (19030, 21976), (19030, 23615), (19030, 26613), (19030, 27079), (19030, 27381), (19030, 27398), (19030, 29156), (19030, 29560), (19030, 30092), (19030, 31452), (19030, 32182), (19030, 32638), (19030, 32827), (19030, 33629), (19030, 34226), (19030, 34779), (19134, 19404), (19134, 20435), (19134, 20587), (19134, 21269), (19134, 23615), (19134, 27079), (19134, 27861), (19134, 28280), (19134, 29156), (19134, 30092), (19134, 31452), (19134, 32182), (19134, 32638), (19134, 33629), (19134, 34226), (19134, 34779), (19404, 20435), (19404, 20587), (19404, 20700), (19404, 21269), (19404, 21976), (19404, 23615), (19404, 26613), (19404, 27079), (19404, 27381), (19404, 27398), (19404, 27861), (19404, 28280), (19404, 29156), (19404, 29560), (19404, 30092), (19404, 31452), (19404, 32182), (19404, 32638), (19404, 32827), (19404, 33629), (19404, 34226), (19404, 34779), (20435, 20587), (20435, 20700), (20435, 21269), (20435, 21976), (20435, 23615), (20435, 26613), (20435, 27079), (20435, 27381), (20435, 27398), (20435, 27861), (20435, 28280), (20435, 29156), (20435, 29560), (20435, 30092), (20435, 31452), (20435, 32182), (20435, 32638), (20435, 32827), (20435, 33629), (20435, 34226), (20435, 34779), (20587, 20700), (20587, 21269), (20587, 21976), (20587, 23615), (20587, 26613), (20587, 27079), (20587, 27381), (20587, 27398), (20587, 29156), (20587, 29560), (20587, 30092), (20587, 31452), (20587, 32182), (20587, 32638), (20587, 32827), (20587, 33629), (20587, 34226), (20587, 34779), (20700, 21269), (20700, 21976), (20700, 23338), (20700, 23615), (20700, 26613), (20700, 27079), (20700, 27381), (20700, 27398), (20700, 29156), (20700, 29560), (20700, 30092), (20700, 31452), (20700, 32182), (20700, 32638), (20700, 32827), (20700, 33629), (20700, 34226), (20700, 34779), (21269, 21976), (21269, 24988), (21269, 27079), (21269, 27088), (21269, 29156), (21269, 30092), (21269, 30477), (21269, 30551), (21269, 31290), (21269, 31452), (21269, 32182), (21269, 32638), (21269, 33607), (21269, 33629), (21269, 34226), (21269, 34779), (21269, 36509), (21269, 36931), (21488, 27861), (21488, 28280), (21964, 21966), (21964, 21983), (21964, 21984), (21964, 21985), (21964, 25887), (21964, 26105), (21964, 27089), (21964, 27397), (21964, 27844), (21964, 30181), (21964, 30186), (21964, 31789), (21964, 31850), (21964, 33507), (21964, 34908), (21964, 36929), (21965, 22666), (21965, 24989), (21965, 26201), (21965, 26377), (21965, 30552), (21965, 32586), (21965, 33605), (21965, 34130), (21965, 35152), (21965, 36455), (21965, 36930), (21966, 21983), (21966, 21984), (21966, 21985), (21966, 22666), (21966, 24989), (21966, 25887), (21966, 26105), (21966, 26106), (21966, 26201), (21966, 27397), (21966, 27844), (21966, 30186), (21966, 30552), (21966, 31789), (21966, 31850), (21966, 32586), (21966, 33605), (21966, 34130), (21966, 34908), (21966, 35152), (21966, 36929), (21966, 36930), (21976, 24988), (21976, 26613), (21976, 27079), (21976, 27088), (21976, 27381), (21976, 27398), (21976, 29156), (21976, 29560), (21976, 30092), (21976, 30477), (21976, 30551), (21976, 31290), (21976, 31452), (21976, 32182), (21976, 32638), (21976, 32827), (21976, 33607), (21976, 33629), (21976, 34226), (21976, 34779), (21976, 36509), (21976, 36931), (21983, 21984), (21983, 21985), (21983, 25887), (21983, 26105), (21983, 27089), (21983, 27397), (21983, 27844), (21983, 30181), (21983, 30186), (21983, 31789), (21983, 31850), (21983, 33507), (21983, 34908), (21983, 36929), (21984, 21985), (21984, 22666), (21984, 24989), (21984, 25887), (21984, 26105), (21984, 26106), (21984, 26201), (21984, 26377), (21984, 27397), (21984, 27844), (21984, 30186), (21984, 30552), (21984, 31789), (21984, 31850), (21984, 32586), (21984, 33605), (21984, 34130), (21984, 34908), (21984, 35152), (21984, 36929), (21984, 36930), (21985, 25887), (21985, 26105), (21985, 26201), (21985, 27397), (21985, 27844), (21985, 30181), (21985, 30186), (21985, 31789), (21985, 31850), (21985, 32586), (21985, 33507), (21985, 34908), (21985, 36929), (21993, 22606), (21993, 22842), (21993, 25386), (21993, 26106), (21993, 26920), (21993, 28234), (21993, 30639), (21993, 31289), (21993, 31445), (21993, 31790), (21993, 33606), (21993, 33608), (21993, 36454), (21993, 36932), (22606, 22842), (22606, 23147), (22606, 23338), (22606, 26920), (22606, 28234), (22606, 30639), (22606, 31289), (22606, 31445), (22606, 31790), (22606, 33606), (22606, 33608), (22606, 36454), (22606, 36932), (22666, 24989), (22666, 25386), (22666, 26106), (22666, 26201), (22666, 26377), (22666, 30186), (22666, 30552), (22666, 32586), (22666, 33605), (22666, 34130), (22666, 35152), (22666, 36455), (22666, 36929), (22666, 36930), (22842, 31445), (22842, 31790), (22842, 33606), (22842, 33608), (22842, 36454), (22842, 36932), (23147, 23338), (23147, 30639), (23147, 31445), (23147, 33606), (23147, 33608), (23147, 36932), (23338, 26613), (23338, 27381), (23338, 27398), (23338, 29560), (23338, 30639), (23338, 31445), (23338, 32827), (23338, 33606), (23338, 33608), (23338, 34779), (23338, 36932), (23615, 26613), (23615, 27079), (23615, 27381), (23615, 27398), (23615, 29156), (23615, 29560), (23615, 30092), (23615, 31452), (23615, 32182), (23615, 32638), (23615, 32827), (23615, 33629), (23615, 34226), (23615, 34779), (24988, 26920), (24988, 27088), (24988, 30181), (24988, 30477), (24988, 30551), (24988, 31290), (24988, 33507), (24988, 33607), (24988, 36509), (24988, 36931), (24989, 25386), (24989, 26106), (24989, 26201), (24989, 26377), (24989, 30186), (24989, 30552), (24989, 32586), (24989, 33605), (24989, 34130), (24989, 35152), (24989, 36455), (24989, 36929), (24989, 36930), (25386, 26106), (25386, 26201), (25386, 26377), (25386, 30552), (25386, 31790), (25386, 32586), (25386, 33605), (25386, 34130), (25386, 35152), (25386, 36930), (25887, 26105), (25887, 27089), (25887, 27397), (25887, 27844), (25887, 30181), (25887, 30186), (25887, 31789), (25887, 31850), (25887, 33507), (25887, 34908), (25887, 36929), (26105, 27089), (26105, 27397), (26105, 27844), (26105, 30181), (26105, 30186), (26105, 31789), (26105, 31850), (26105, 33507), (26105, 34908), (26105, 36929), (26106, 26201), (26106, 26377), (26106, 30186), (26106, 30552), (26106, 31790), (26106, 32586), (26106, 33605), (26106, 34130), (26106, 35152), (26106, 36929), (26106, 36930), (26201, 26377), (26201, 27844), (26201, 30186), (26201, 30552), (26201, 32586), (26201, 33605), (26201, 34130), (26201, 34908), (26201, 35152), (26201, 36455), (26201, 36929), (26201, 36930), (26377, 30186), (26377, 30552), (26377, 32586), (26377, 33605), (26377, 34130), (26377, 35152), (26377, 36455), (26377, 36929), (26377, 36930), (26613, 27079), (26613, 27381), (26613, 27398), (26613, 29560), (26613, 30092), (26613, 30639), (26613, 31452), (26613, 32182), (26613, 32827), (26613, 33629), (26613, 34226), (26613, 34779), (26920, 27088), (26920, 28234), (26920, 30639), (26920, 31289), (26920, 31445), (26920, 31790), (26920, 33606), (26920, 33607), (26920, 33608), (26920, 36454), (26920, 36932), (27079, 27381), (27079, 27398), (27079, 29156), (27079, 29560), (27079, 30092), (27079, 31452), (27079, 32182), (27079, 32638), (27079, 32827), (27079, 33629), (27079, 34226), (27079, 34779), (27088, 28234), (27088, 30181), (27088, 30477), (27088, 30551), (27088, 31289), (27088, 31290), (27088, 33607), (27088, 36509), (27088, 36931), (27089, 27397), (27089, 27845), (27089, 30181), (27089, 31789), (27089, 31850), (27089, 33507), (27381, 27398), (27381, 29560), (27381, 30092), (27381, 30639), (27381, 31452), (27381, 32182), (27381, 32827), (27381, 33629), (27381, 34226), (27381, 34779), (27397, 27844), (27397, 27845), (27397, 30181), (27397, 30186), (27397, 30551), (27397, 31789), (27397, 31850), (27397, 33507), (27397, 34908), (27397, 36929), (27398, 29560), (27398, 30092), (27398, 30639), (27398, 31452), (27398, 32182), (27398, 32827), (27398, 33629), (27398, 34226), (27398, 34779), (27844, 30181), (27844, 30186), (27844, 31789), (27844, 31850), (27844, 32586), (27844, 33507), (27844, 34908), (27844, 36929), (27845, 30181), (27845, 31850), (27845, 33507), (27861, 28280), (27861, 29156), (27861, 32638), (27861, 33629), (28234, 30639), (28234, 31289), (28234, 31445), (28234, 31790), (28234, 33606), (28234, 33607), (28234, 33608), (28234, 36454), (28234, 36932), (28280, 29156), (28280, 32638), (28280, 33629), (29156, 30092), (29156, 31452), (29156, 32182), (29156, 32638), (29156, 33629), (29156, 34226), (29156, 34779), (29560, 30092), (29560, 30639), (29560, 31452), (29560, 32182), (29560, 32827), (29560, 33629), (29560, 34226), (29560, 34779), (30092, 31452), (30092, 32182), (30092, 32638), (30092, 32827), (30092, 33629), (30092, 34226), (30092, 34779), (30181, 30477), (30181, 30551), (30181, 31290), (30181, 31789), (30181, 31850), (30181, 33507), (30181, 33607), (30181, 34908), (30181, 36509), (30181, 36931), (30186, 30552), (30186, 31789), (30186, 31850), (30186, 32586), (30186, 33605), (30186, 34130), (30186, 34908), (30186, 35152), (30186, 36929), (30186, 36930), (30477, 30551), (30477, 31290), (30477, 33507), (30477, 33607), (30477, 36509), (30477, 36931), (30551, 31290), (30551, 33507), (30551, 33607), (30551, 36509), (30551, 36931), (30552, 32586), (30552, 33605), (30552, 34130), (30552, 35152), (30552, 36455), (30552, 36929), (30552, 36930), (30639, 31289), (30639, 31445), (30639, 31790), (30639, 32827), (30639, 33606), (30639, 33608), (30639, 36454), (30639, 36932), (31289, 31445), (31289, 31790), (31289, 33606), (31289, 33607), (31289, 33608), (31289, 36454), (31289, 36932), (31290, 33507), (31290, 33607), (31290, 36509), (31290, 36931), (31445, 31790), (31445, 33606), (31445, 33608), (31445, 36454), (31445, 36932), (31452, 32182), (31452, 32638), (31452, 32827), (31452, 33629), (31452, 34226), (31452, 34779), (31789, 31850), (31789, 33507), (31789, 34908), (31789, 36929), (31790, 33606), (31790, 33608), (31790, 36454), (31790, 36932), (31850, 33507), (31850, 34908), (31850, 36929), (32182, 32638), (32182, 32827), (32182, 33629), (32182, 34226), (32182, 34779), (32586, 33605), (32586, 34130), (32586, 34908), (32586, 35152), (32586, 36455), (32586, 36929), (32586, 36930), (32638, 33629), (32638, 34226), (32638, 34779), (32827, 33629), (32827, 34226), (32827, 34779), (33507, 33607), (33507, 34908), (33507, 36509), (33507, 36931), (33605, 34130), (33605, 35152), (33605, 36455), (33605, 36929), (33605, 36930), (33606, 33608), (33606, 36454), (33606, 36932), (33607, 36509), (33607, 36931), (33608, 36454), (33608, 36932), (33629, 34226), (33629, 34779), (34130, 35152), (34130, 36455), (34130, 36929), (34130, 36930), (34226, 34779), (34908, 36929), (35152, 36455), (35152, 36929), (35152, 36930), (36454, 36932), (36455, 36930), (36509, 36931), (36929, 36930)]\n",
            "\n",
            "Component 2: Nodes: [27908, 35847, 4874, 26765, 10126, 17296, 18200, 30874, 7074, 166, 7462, 35240, 811, 12461, 23223, 10042, 21691, 2365, 28224, 33347, 11077, 31175, 17613, 14803, 35929, 29786, 4953, 10077, 9182, 30175, 5342, 30176, 20580, 6372, 743, 36204, 8557, 13296, 23665, 32373, 35450] Edges: [(27908, 743), (27908, 6372), (27908, 10042), (27908, 30176), (27908, 35450), (35847, 4953), (35847, 6372), (35847, 7074), (35847, 7462), (35847, 13296), (35847, 17296), (35847, 17613), (35847, 23223), (35847, 23665), (35847, 30176), (35847, 35240), (35847, 35450), (4874, 8557), (4874, 10077), (4874, 10126), (4874, 18200), (4874, 30175), (26765, 166), (26765, 811), (26765, 9182), (26765, 10077), (26765, 10126), (26765, 11077), (26765, 21691), (26765, 28224), (26765, 29786), (26765, 30175), (26765, 30874), (26765, 31175), (26765, 32373), (26765, 36204), (10126, 166), (10126, 743), (10126, 811), (10126, 8557), (10126, 10042), (10126, 10077), (10126, 12461), (10126, 18200), (10126, 21691), (10126, 29786), (10126, 30175), (10126, 30874), (10126, 36204), (17296, 5342), (17296, 7462), (17296, 17613), (17296, 20580), (17296, 28224), (17296, 35240), (17296, 35929), (18200, 8557), (18200, 10077), (18200, 30175), (30874, 166), (30874, 811), (30874, 8557), (30874, 9182), (30874, 10077), (30874, 11077), (30874, 21691), (30874, 28224), (30874, 29786), (30874, 30175), (30874, 31175), (30874, 32373), (30874, 35929), (30874, 36204), (7074, 2365), (7074, 4953), (7074, 6372), (7074, 7462), (7074, 13296), (7074, 14803), (7074, 23223), (7074, 23665), (7074, 30176), (7074, 35240), (7074, 35450), (166, 743), (166, 811), (166, 8557), (166, 9182), (166, 10042), (166, 10077), (166, 12461), (166, 21691), (166, 28224), (166, 29786), (166, 30175), (166, 35929), (166, 36204), (7462, 4953), (7462, 6372), (7462, 13296), (7462, 17613), (7462, 23223), (7462, 23665), (7462, 30176), (7462, 35240), (7462, 35450), (35240, 2365), (35240, 4953), (35240, 6372), (35240, 13296), (35240, 17613), (35240, 23223), (35240, 23665), (35240, 30176), (35240, 35450), (811, 9182), (811, 10077), (811, 11077), (811, 21691), (811, 28224), (811, 29786), (811, 30175), (811, 31175), (811, 32373), (811, 36204), (12461, 743), (12461, 8557), (12461, 10042), (12461, 10077), (12461, 29786), (12461, 30175), (23223, 2365), (23223, 4953), (23223, 6372), (23223, 13296), (23223, 23665), (23223, 30176), (23223, 35450), (10042, 743), (10042, 8557), (10042, 30175), (21691, 9182), (21691, 10077), (21691, 11077), (21691, 29786), (21691, 30175), (21691, 31175), (21691, 32373), (21691, 36204), (2365, 4953), (2365, 6372), (2365, 13296), (2365, 14803), (2365, 23665), (2365, 30176), (2365, 33347), (2365, 35450), (28224, 5342), (28224, 9182), (28224, 11077), (28224, 17613), (28224, 20580), (28224, 29786), (28224, 31175), (28224, 32373), (28224, 35929), (28224, 36204), (33347, 14803), (11077, 5342), (11077, 9182), (11077, 20580), (11077, 31175), (11077, 32373), (11077, 35929), (11077, 36204), (31175, 5342), (31175, 9182), (31175, 20580), (31175, 32373), (31175, 35929), (31175, 36204), (17613, 5342), (17613, 20580), (17613, 35929), (14803, 23665), (35929, 5342), (35929, 9182), (35929, 20580), (35929, 29786), (35929, 32373), (29786, 5342), (29786, 8557), (29786, 9182), (29786, 10077), (29786, 20580), (29786, 30175), (29786, 36204), (4953, 6372), (4953, 13296), (4953, 23665), (4953, 30176), (4953, 35450), (10077, 8557), (10077, 30175), (10077, 36204), (9182, 20580), (9182, 32373), (9182, 36204), (30175, 743), (30175, 8557), (30175, 36204), (5342, 20580), (30176, 6372), (30176, 13296), (30176, 23665), (30176, 35450), (20580, 32373), (6372, 13296), (6372, 23665), (6372, 35450), (743, 8557), (36204, 32373), (13296, 23665), (13296, 35450), (23665, 35450)]\n",
            "\n",
            "Component 3: Nodes: [171, 5813] Edges: [(171, 5813)]\n",
            "\n",
            "Component 4: Nodes: [22981, 712, 265, 14794, 36620, 3341, 21741, 22099, 29653, 17622, 17142, 20601, 7514, 33404, 12831] Edges: [(22981, 712), (22981, 3341), (22981, 7514), (22981, 12831), (22981, 14794), (22981, 17142), (22981, 17622), (22981, 21741), (22981, 22099), (712, 3341), (712, 7514), (712, 12831), (712, 14794), (712, 17142), (712, 17622), (712, 21741), (712, 22099), (265, 20601), (265, 29653), (265, 36620), (14794, 3341), (14794, 7514), (14794, 12831), (14794, 17142), (14794, 17622), (14794, 21741), (14794, 22099), (36620, 20601), (3341, 7514), (3341, 12831), (3341, 17142), (3341, 17622), (3341, 21741), (3341, 22099), (21741, 7514), (21741, 17142), (21741, 17622), (21741, 22099), (22099, 7514), (22099, 12831), (22099, 17142), (22099, 17622), (29653, 33404), (17622, 7514), (17622, 12831), (17622, 17142), (17142, 7514), (17142, 12831), (33404, 12831)]\n",
            "\n",
            "Component 5: Nodes: [26603, 655] Edges: [(26603, 655)]\n",
            "\n",
            "Component 6: Nodes: [30096, 33689, 32417, 1188, 14897, 35252, 3510, 27587, 28625, 29778, 29907, 32084, 25045, 15452, 2653, 2399, 2790, 30567, 26477, 3445, 36860] Edges: [(30096, 2653), (30096, 3445), (30096, 3510), (30096, 14897), (30096, 15452), (30096, 25045), (30096, 26477), (30096, 27587), (30096, 28625), (30096, 29778), (30096, 29907), (30096, 32084), (30096, 36860), (33689, 2790), (33689, 30567), (33689, 35252), (32417, 1188), (32417, 2399), (32417, 2653), (32417, 2790), (32417, 3445), (32417, 26477), (32417, 29778), (32417, 30567), (32417, 35252), (1188, 2399), (1188, 35252), (14897, 2653), (14897, 3445), (14897, 3510), (14897, 15452), (14897, 25045), (14897, 26477), (14897, 27587), (14897, 28625), (14897, 29778), (14897, 30567), (14897, 32084), (14897, 36860), (35252, 2399), (35252, 2653), (35252, 2790), (35252, 3445), (35252, 26477), (35252, 29778), (35252, 30567), (3510, 15452), (3510, 25045), (3510, 27587), (3510, 28625), (3510, 29907), (3510, 32084), (3510, 36860), (27587, 2653), (27587, 3445), (27587, 15452), (27587, 25045), (27587, 26477), (27587, 28625), (27587, 29778), (27587, 29907), (27587, 32084), (27587, 36860), (28625, 2399), (28625, 2653), (28625, 2790), (28625, 3445), (28625, 15452), (28625, 25045), (28625, 26477), (28625, 29778), (28625, 30567), (28625, 32084), (28625, 36860), (29778, 2399), (29778, 2653), (29778, 2790), (29778, 3445), (29778, 15452), (29778, 25045), (29778, 26477), (29778, 30567), (29778, 32084), (29778, 36860), (29907, 25045), (29907, 32084), (29907, 36860), (32084, 2653), (32084, 3445), (32084, 15452), (32084, 25045), (32084, 26477), (32084, 36860), (25045, 2653), (25045, 3445), (25045, 15452), (25045, 26477), (25045, 36860), (15452, 2399), (15452, 2653), (15452, 2790), (15452, 3445), (15452, 26477), (15452, 30567), (15452, 36860), (2653, 2399), (2653, 2790), (2653, 3445), (2653, 26477), (2653, 30567), (2653, 36860), (2399, 2790), (2399, 3445), (2399, 26477), (2399, 30567), (2790, 3445), (2790, 26477), (2790, 30567), (30567, 3445), (30567, 26477), (26477, 3445), (26477, 36860), (3445, 36860)]\n",
            "\n",
            "Component 7: Nodes: [19522, 4965, 32839, 29450, 2581, 10231] Edges: [(19522, 2581), (19522, 4965), (19522, 10231), (19522, 29450), (19522, 32839), (4965, 2581), (4965, 10231), (4965, 29450), (4965, 32839), (32839, 2581), (32839, 10231), (32839, 29450), (29450, 2581), (29450, 10231), (2581, 10231)]\n",
            "\n",
            "Component 8: Nodes: [2654] Edges: []\n",
            "\n",
            "Component 9: Nodes: [2922] Edges: []\n",
            "\n",
            "Component 10: Nodes: [4208] Edges: []\n",
            "\n",
            "Component 11: Nodes: [8954, 4759] Edges: [(8954, 4759)]\n",
            "\n",
            "Component 12: Nodes: [29702, 5514, 19946, 4894, 5136, 7441, 9657, 32670, 12351] Edges: [(29702, 5514), (29702, 7441), (29702, 9657), (29702, 19946), (5514, 4894), (5514, 5136), (5514, 7441), (5514, 9657), (5514, 12351), (5514, 19946), (19946, 4894), (19946, 5136), (19946, 7441), (19946, 9657), (19946, 12351), (4894, 9657), (4894, 12351), (5136, 7441), (5136, 9657), (5136, 32670), (7441, 9657), (7441, 12351), (9657, 12351)]\n",
            "\n",
            "Component 13: Nodes: [6117] Edges: []\n",
            "\n",
            "Component 14: Nodes: [26624, 32737, 13571, 31813, 14406, 8650, 34386] Edges: [(26624, 8650), (26624, 31813), (26624, 32737), (26624, 34386), (32737, 13571), (32737, 14406), (32737, 31813), (32737, 34386), (13571, 14406), (13571, 31813), (31813, 14406), (31813, 34386), (8650, 34386)]\n",
            "\n",
            "Component 15: Nodes: [8839, 25079] Edges: [(8839, 25079)]\n",
            "\n",
            "Component 16: Nodes: [11998] Edges: []\n",
            "\n",
            "Component 17: Nodes: [13767] Edges: []\n",
            "\n",
            "Component 18: Nodes: [18166] Edges: []\n",
            "\n",
            "Component 19: Nodes: [22824, 20711] Edges: [(22824, 20711)]\n",
            "\n",
            "Component 20: Nodes: [27721, 21485, 34885, 23053] Edges: [(27721, 21485), (27721, 23053), (21485, 23053), (34885, 23053)]\n",
            "\n",
            "Component 21: Nodes: [23336] Edges: []\n",
            "\n",
            "Component 22: Nodes: [24968] Edges: []\n",
            "\n",
            "Component 23: Nodes: [28642, 27463] Edges: [(28642, 27463)]\n",
            "\n",
            "Component 24: Nodes: [33217] Edges: []\n",
            "\n",
            "Component 25: Nodes: [35199] Edges: []\n",
            "\n"
          ]
        }
      ],
      "source": [
        "components = [graph.subgraph(c).copy() for c in nx.connected_components(graph)]\n",
        "\n",
        "for idx, g in enumerate(components, start = 1):\n",
        "  print(f\"Component {idx}: Nodes: {g.nodes()} Edges: {g.edges()}\\n\")"
      ]
    },
    {
      "cell_type": "code",
      "execution_count": 38,
      "metadata": {
        "colab": {
          "base_uri": "https://localhost:8080/",
          "height": 319
        },
        "id": "dRZcK4LC7a6V",
        "outputId": "f802a827-5f7f-46b3-bed4-81cf6c6fd458"
      },
      "outputs": [
        {
          "output_type": "display_data",
          "data": {
            "image/png": "[encoded data removed]",
            "text/plain": [
              "<Figure size 432x288 with 1 Axes>"
            ]
          },
          "metadata": {}
        }
      ],
      "source": [
        "gcc = sorted(nx.connected_components(graph), key = len, reverse = True)\n",
        "\n",
        "G0 = graph.subgraph(gcc[0])\n",
        "G1 = graph.subgraph(gcc[1])\n",
        "G2 = graph.subgraph(gcc[2])\n",
        "\n",
        "nx.draw(G0, pos, width=0.30, node_size=50)"
      ]
    },
    {
      "cell_type": "code",
      "execution_count": 39,
      "metadata": {
        "colab": {
          "base_uri": "https://localhost:8080/",
          "height": 424
        },
        "id": "FusaIbuE2IQ6",
        "outputId": "ff00e243-3f0e-46fe-ef45-92ebbaa2db69"
      },
      "outputs": [
        {
          "output_type": "execute_result",
          "data": {
            "text/html": [
              "<div>\n",
              "<style scoped>\n",
              "    .dataframe tbody tr th:only-of-type {\n",
              "        vertical-align: middle;\n",
              "    }\n",
              "\n",
              "    .dataframe tbody tr th {\n",
              "        vertical-align: top;\n",
              "    }\n",
              "\n",
              "    .dataframe thead th {\n",
              "        text-align: right;\n",
              "    }\n",
              "</style>\n",
              "<table border=\"1\" class=\"dataframe\">\n",
              "  <thead>\n",
              "    <tr style=\"text-align: right;\">\n",
              "      <th></th>\n",
              "      <th>OBJECTID_1</th>\n",
              "      <th>X</th>\n",
              "      <th>Y</th>\n",
              "      <th>Cluster</th>\n",
              "    </tr>\n",
              "  </thead>\n",
              "  <tbody>\n",
              "    <tr>\n",
              "      <th>0</th>\n",
              "      <td>69</td>\n",
              "      <td>-79.060500</td>\n",
              "      <td>35.919480</td>\n",
              "      <td>First</td>\n",
              "    </tr>\n",
              "    <tr>\n",
              "      <th>1</th>\n",
              "      <td>166</td>\n",
              "      <td>-79.028600</td>\n",
              "      <td>35.929060</td>\n",
              "      <td>Second</td>\n",
              "    </tr>\n",
              "    <tr>\n",
              "      <th>2</th>\n",
              "      <td>171</td>\n",
              "      <td>-79.069200</td>\n",
              "      <td>35.886170</td>\n",
              "      <td>No Cluster</td>\n",
              "    </tr>\n",
              "    <tr>\n",
              "      <th>3</th>\n",
              "      <td>238</td>\n",
              "      <td>-79.049800</td>\n",
              "      <td>35.916520</td>\n",
              "      <td>First</td>\n",
              "    </tr>\n",
              "    <tr>\n",
              "      <th>4</th>\n",
              "      <td>265</td>\n",
              "      <td>-79.055600</td>\n",
              "      <td>35.935110</td>\n",
              "      <td>No Cluster</td>\n",
              "    </tr>\n",
              "    <tr>\n",
              "      <th>...</th>\n",
              "      <td>...</td>\n",
              "      <td>...</td>\n",
              "      <td>...</td>\n",
              "      <td>...</td>\n",
              "    </tr>\n",
              "    <tr>\n",
              "      <th>290</th>\n",
              "      <td>36860</td>\n",
              "      <td>-79.059328</td>\n",
              "      <td>35.966613</td>\n",
              "      <td>Third</td>\n",
              "    </tr>\n",
              "    <tr>\n",
              "      <th>291</th>\n",
              "      <td>36929</td>\n",
              "      <td>-79.048872</td>\n",
              "      <td>35.902854</td>\n",
              "      <td>First</td>\n",
              "    </tr>\n",
              "    <tr>\n",
              "      <th>292</th>\n",
              "      <td>36930</td>\n",
              "      <td>-79.044243</td>\n",
              "      <td>35.903764</td>\n",
              "      <td>First</td>\n",
              "    </tr>\n",
              "    <tr>\n",
              "      <th>293</th>\n",
              "      <td>36931</td>\n",
              "      <td>-79.054551</td>\n",
              "      <td>35.908198</td>\n",
              "      <td>First</td>\n",
              "    </tr>\n",
              "    <tr>\n",
              "      <th>294</th>\n",
              "      <td>36932</td>\n",
              "      <td>-79.047775</td>\n",
              "      <td>35.913211</td>\n",
              "      <td>First</td>\n",
              "    </tr>\n",
              "  </tbody>\n",
              "</table>\n",
              "<p>295 rows × 4 columns</p>\n",
              "</div>"
            ],
            "text/plain": [
              "     OBJECTID_1          X          Y     Cluster\n",
              "0            69 -79.060500  35.919480       First\n",
              "1           166 -79.028600  35.929060      Second\n",
              "2           171 -79.069200  35.886170  No Cluster\n",
              "3           238 -79.049800  35.916520       First\n",
              "4           265 -79.055600  35.935110  No Cluster\n",
              "..          ...        ...        ...         ...\n",
              "290       36860 -79.059328  35.966613       Third\n",
              "291       36929 -79.048872  35.902854       First\n",
              "292       36930 -79.044243  35.903764       First\n",
              "293       36931 -79.054551  35.908198       First\n",
              "294       36932 -79.047775  35.913211       First\n",
              "\n",
              "[295 rows x 4 columns]"
            ]
          },
          "metadata": {},
          "execution_count": 39
        }
      ],
      "source": [
        "G0_list = list(G0)\n",
        "G1_list = list(G1)\n",
        "G2_list = list(G2)\n",
        "\n",
        "clusters_list = list()\n",
        "\n",
        "for node in data_np[:, 0]:\n",
        "  if node in G0_list:\n",
        "    clusters_list.append(\"First\")\n",
        "  elif node in G1_list:\n",
        "    clusters_list.append(\"Second\")\n",
        "  elif node in G2_list:\n",
        "    clusters_list.append(\"Third\")\n",
        "  else:\n",
        "    clusters_list.append(\"No Cluster\")\n",
        "\n",
        "data_df[\"Cluster\"] = clusters_list\n",
        "data_df\n",
        "\n",
        "#data_df.to_csv(\"/content/gdrive/My Drive/Clusters.csv\")"
      ]
    },
    {
      "cell_type": "code",
      "source": [
        "gcc = sorted(nx.connected_components(graph), key = len, reverse = True)\n",
        "\n",
        "G0 = graph.subgraph(gcc[0])\n",
        "G1 = graph.subgraph(gcc[1])\n",
        "G2 = graph.subgraph(gcc[2])\n",
        "\n",
        "nx.draw(graph, pos, width=0.30, node_size=10)\n",
        "nx.draw(G0, pos, width=0.01, node_size=10, node_color=\"red\")\n",
        "nx.draw(G1, pos, width=0.01, node_size=10, node_color=\"green\")\n",
        "nx.draw(G2, pos, width=0.01, node_size=10, node_color=\"purple\")\n",
        "plt.savefig('graph_clusters.png', format='png', dpi=1200, bbox_inches='tight')"
      ],
      "metadata": {
        "colab": {
          "base_uri": "https://localhost:8080/",
          "height": 319
        },
        "id": "KdmDz1jx3knG",
        "outputId": "2ce02ec7-93bd-4a0a-91f5-a3999b22ede5"
      },
      "execution_count": 40,
      "outputs": [
        {
          "output_type": "display_data",
          "data": {
            "image/png": "[encoded data removed]",
            "text/plain": [
              "<Figure size 432x288 with 1 Axes>"
            ]
          },
          "metadata": {}
        }
      ]
    },
    {
      "cell_type": "code",
      "source": [
        "from matplotlib.pyplot import figure\n",
        "\n",
        "figure(figsize=(6, 16), dpi=80)\n",
        "plt.subplot(3, 1, 1)\n",
        "G0_degreedist = sns.histplot(nx.degree_histogram(G0))\n",
        "G0_degreedist.set(xlabel = \"Degree\", ylabel = \"Number of nodes\")\n",
        "G0_degreedist.set_title(\"Degree Distribution for Largest Cluster\", fontsize = 14)\n",
        "plt.subplot(3, 1, 2)\n",
        "G1_degreedist = sns.histplot(nx.degree_histogram(G1))\n",
        "G1_degreedist.set(xlabel = \"Degree\", ylabel = \"Number of nodes\")\n",
        "G1_degreedist.set_title(\"Degree Distribution for Second Largest Cluster\")\n",
        "plt.subplot(3, 1, 3)\n",
        "G2_degreedist = sns.histplot(nx.degree_histogram(G2))\n",
        "G2_degreedist.set(xlabel = \"Degree\", ylabel = \"Number of nodes\")\n",
        "G2_degreedist.set_title(\"Degree Distribution for Third Largest Cluster\")\n",
        "plt.savefig('graph_degrees.png', format='png', dpi=800, bbox_inches='tight')"
      ],
      "metadata": {
        "colab": {
          "base_uri": "https://localhost:8080/",
          "height": 1000
        },
        "id": "nAfo2n6m3uxk",
        "outputId": "b2099e92-1b03-453e-fe71-d2a927f9181c"
      },
      "execution_count": 41,
      "outputs": [
        {
          "output_type": "display_data",
          "data": {
            "image/png": "[encoded data removed]",
            "text/plain": [
              "<Figure size 480x1280 with 3 Axes>"
            ]
          },
          "metadata": {}
        }
      ]
    },
    {
      "cell_type": "code",
      "source": [
        ""
      ],
      "metadata": {
        "id": "QpzwAC5B4ppI"
      },
      "execution_count": null,
      "outputs": []
    }
  ],
  "metadata": {
    "colab": {
      "collapsed_sections": [],
      "name": "CS5834_Final_Project.ipynb",
      "provenance": []
    },
    "kernelspec": {
      "display_name": "Python 3",
      "name": "python3"
    },
    "language_info": {
      "name": "python"
    }
  },
  "nbformat": 4,
  "nbformat_minor": 0
}